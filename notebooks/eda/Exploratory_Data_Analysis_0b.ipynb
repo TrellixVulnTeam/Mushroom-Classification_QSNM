{
 "cells": [
  {
   "cell_type": "markdown",
   "metadata": {
    "collapsed": true,
    "pycharm": {
     "name": "#%% md\n"
    }
   },
   "source": [
    "# Ask more statistical questions dataset\n"
   ]
  },
  {
   "cell_type": "code",
   "execution_count": 3,
   "outputs": [],
   "source": [
    "\n",
    "# import packages\n",
    "\n",
    "import numpy as np\n",
    "import pandas as pd\n",
    "import seaborn as sns\n",
    "import sys\n",
    "import os\n",
    "import matplotlib.pyplot as plt\n",
    "import klib\n",
    "import plotly.figure_factory as ff\n",
    "from IPython.core.display import display\n",
    "from scipy import stats\n",
    "from sklearn.preprocessing import LabelEncoder, OneHotEncoder\n",
    "from sklearn.pipeline import Pipeline\n",
    "from sklearn.ensemble import RandomForestClassifier\n",
    "from sklearn.neighbors import KNeighborsClassifier\n",
    "from sklearn.model_selection import train_test_split, GridSearchCV\n",
    "from sklearn.metrics import confusion_matrix, plot_confusion_matrix\n",
    "import joblib\n",
    "from scipy.stats import chisquare\n",
    "# pd.set_option('display.max_columns', None)\n",
    "# pd.reset_option('max_rows')\n",
    "#np.set_printoptions(threshold=sys.maxsize)\n",
    "\n",
    "plt.style.use('dark_background')\n",
    "plt.rcParams.update({\"grid.linewidth\":0.5, \"grid.alpha\":0.5})\n",
    "sns.set(style='ticks', context='talk')"
   ],
   "metadata": {
    "collapsed": false,
    "pycharm": {
     "name": "#%%\n"
    }
   }
  },
  {
   "cell_type": "code",
   "execution_count": 4,
   "outputs": [
    {
     "data": {
      "text/plain": "       class cap-shape cap-surface cap-color  bruises     odor  \\\n0  poisonous    convex      smooth     brown  bruises  pungent   \n1     edible    convex      smooth    yellow  bruises   almond   \n2     edible      bell      smooth     white  bruises    anise   \n3  poisonous    convex       scaly     white  bruises  pungent   \n4     edible    convex      smooth      gray       no     none   \n\n  gill-attachment gill-spacing gill-size gill-color  ...  \\\n0            free        close    narrow      black  ...   \n1            free        close     broad      black  ...   \n2            free        close     broad      brown  ...   \n3            free        close    narrow      brown  ...   \n4            free      crowded     broad      black  ...   \n\n  stalk-surface-above-ring stalk-surface-below-ring stalk-color-above-ring  \\\n0                   smooth                   smooth                  white   \n1                   smooth                   smooth                  white   \n2                   smooth                   smooth                  white   \n3                   smooth                   smooth                  white   \n4                   smooth                   smooth                  white   \n\n  stalk-color-below-ring veil-color ring-number   ring-type spore-print-color  \\\n0                  white      white         one     pendant             black   \n1                  white      white         one     pendant             brown   \n2                  white      white         one     pendant             brown   \n3                  white      white         one     pendant             black   \n4                  white      white         one  evanescent             brown   \n\n  population  habitat  \n0  scattered    urban  \n1   numerous  grasses  \n2   numerous  meadows  \n3  scattered    urban  \n4   abundant  grasses  \n\n[5 rows x 22 columns]",
      "text/html": "<div>\n<style scoped>\n    .dataframe tbody tr th:only-of-type {\n        vertical-align: middle;\n    }\n\n    .dataframe tbody tr th {\n        vertical-align: top;\n    }\n\n    .dataframe thead th {\n        text-align: right;\n    }\n</style>\n<table border=\"1\" class=\"dataframe\">\n  <thead>\n    <tr style=\"text-align: right;\">\n      <th></th>\n      <th>class</th>\n      <th>cap-shape</th>\n      <th>cap-surface</th>\n      <th>cap-color</th>\n      <th>bruises</th>\n      <th>odor</th>\n      <th>gill-attachment</th>\n      <th>gill-spacing</th>\n      <th>gill-size</th>\n      <th>gill-color</th>\n      <th>...</th>\n      <th>stalk-surface-above-ring</th>\n      <th>stalk-surface-below-ring</th>\n      <th>stalk-color-above-ring</th>\n      <th>stalk-color-below-ring</th>\n      <th>veil-color</th>\n      <th>ring-number</th>\n      <th>ring-type</th>\n      <th>spore-print-color</th>\n      <th>population</th>\n      <th>habitat</th>\n    </tr>\n  </thead>\n  <tbody>\n    <tr>\n      <th>0</th>\n      <td>poisonous</td>\n      <td>convex</td>\n      <td>smooth</td>\n      <td>brown</td>\n      <td>bruises</td>\n      <td>pungent</td>\n      <td>free</td>\n      <td>close</td>\n      <td>narrow</td>\n      <td>black</td>\n      <td>...</td>\n      <td>smooth</td>\n      <td>smooth</td>\n      <td>white</td>\n      <td>white</td>\n      <td>white</td>\n      <td>one</td>\n      <td>pendant</td>\n      <td>black</td>\n      <td>scattered</td>\n      <td>urban</td>\n    </tr>\n    <tr>\n      <th>1</th>\n      <td>edible</td>\n      <td>convex</td>\n      <td>smooth</td>\n      <td>yellow</td>\n      <td>bruises</td>\n      <td>almond</td>\n      <td>free</td>\n      <td>close</td>\n      <td>broad</td>\n      <td>black</td>\n      <td>...</td>\n      <td>smooth</td>\n      <td>smooth</td>\n      <td>white</td>\n      <td>white</td>\n      <td>white</td>\n      <td>one</td>\n      <td>pendant</td>\n      <td>brown</td>\n      <td>numerous</td>\n      <td>grasses</td>\n    </tr>\n    <tr>\n      <th>2</th>\n      <td>edible</td>\n      <td>bell</td>\n      <td>smooth</td>\n      <td>white</td>\n      <td>bruises</td>\n      <td>anise</td>\n      <td>free</td>\n      <td>close</td>\n      <td>broad</td>\n      <td>brown</td>\n      <td>...</td>\n      <td>smooth</td>\n      <td>smooth</td>\n      <td>white</td>\n      <td>white</td>\n      <td>white</td>\n      <td>one</td>\n      <td>pendant</td>\n      <td>brown</td>\n      <td>numerous</td>\n      <td>meadows</td>\n    </tr>\n    <tr>\n      <th>3</th>\n      <td>poisonous</td>\n      <td>convex</td>\n      <td>scaly</td>\n      <td>white</td>\n      <td>bruises</td>\n      <td>pungent</td>\n      <td>free</td>\n      <td>close</td>\n      <td>narrow</td>\n      <td>brown</td>\n      <td>...</td>\n      <td>smooth</td>\n      <td>smooth</td>\n      <td>white</td>\n      <td>white</td>\n      <td>white</td>\n      <td>one</td>\n      <td>pendant</td>\n      <td>black</td>\n      <td>scattered</td>\n      <td>urban</td>\n    </tr>\n    <tr>\n      <th>4</th>\n      <td>edible</td>\n      <td>convex</td>\n      <td>smooth</td>\n      <td>gray</td>\n      <td>no</td>\n      <td>none</td>\n      <td>free</td>\n      <td>crowded</td>\n      <td>broad</td>\n      <td>black</td>\n      <td>...</td>\n      <td>smooth</td>\n      <td>smooth</td>\n      <td>white</td>\n      <td>white</td>\n      <td>white</td>\n      <td>one</td>\n      <td>evanescent</td>\n      <td>brown</td>\n      <td>abundant</td>\n      <td>grasses</td>\n    </tr>\n  </tbody>\n</table>\n<p>5 rows × 22 columns</p>\n</div>"
     },
     "execution_count": 4,
     "metadata": {},
     "output_type": "execute_result"
    }
   ],
   "source": [
    "path = r'../../data/processed/mushroom_imputed_2.csv'\n",
    "\n",
    "mushroom = pd.read_csv(path)\n",
    "mushroom.head()\n"
   ],
   "metadata": {
    "collapsed": false,
    "pycharm": {
     "name": "#%%\n"
    }
   }
  },
  {
   "cell_type": "code",
   "execution_count": 5,
   "outputs": [
    {
     "data": {
      "text/plain": "Index(['class', 'cap-shape', 'cap-surface', 'cap-color', 'bruises', 'odor',\n       'gill-attachment', 'gill-spacing', 'gill-size', 'gill-color',\n       'stalk-shape', 'stalk-root', 'stalk-surface-above-ring',\n       'stalk-surface-below-ring', 'stalk-color-above-ring',\n       'stalk-color-below-ring', 'veil-color', 'ring-number', 'ring-type',\n       'spore-print-color', 'population', 'habitat'],\n      dtype='object')"
     },
     "execution_count": 5,
     "metadata": {},
     "output_type": "execute_result"
    }
   ],
   "source": [
    "# perform chi square test to see whehter how valid\n",
    "# habitat and edibility are\n",
    "mushroom.columns"
   ],
   "metadata": {
    "collapsed": false,
    "pycharm": {
     "name": "#%%\n"
    }
   }
  }
 ],
 "metadata": {
  "kernelspec": {
   "display_name": "Python 3",
   "language": "python",
   "name": "python3"
  },
  "language_info": {
   "codemirror_mode": {
    "name": "ipython",
    "version": 2
   },
   "file_extension": ".py",
   "mimetype": "text/x-python",
   "name": "python",
   "nbconvert_exporter": "python",
   "pygments_lexer": "ipython2",
   "version": "2.7.6"
  }
 },
 "nbformat": 4,
 "nbformat_minor": 0
}