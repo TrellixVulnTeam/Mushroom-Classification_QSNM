{
 "cells": [
  {
   "cell_type": "markdown",
   "source": [
    "# Data Wrangle same as notebook Data_Wrangling_0 but will try to impute using kvm as model instead of random forest classifier\n",
    "* Explore and look at data\n",
    "* check for shape, missing data, and characteristics\n",
    "* Initiative to determine if a mushroom is edible or not via looking at its characteristics"
   ],
   "metadata": {
    "collapsed": false
   }
  },
  {
   "cell_type": "code",
   "execution_count": 1,
   "outputs": [],
   "source": [
    "# import packages\n",
    "\n",
    "import numpy as np\n",
    "import pandas as pd\n",
    "import seaborn as sns\n",
    "import sys\n",
    "import os\n",
    "import matplotlib.pyplot as plt\n",
    "import klib\n",
    "import plotly.figure_factory as ff\n",
    "from IPython.core.display import display\n",
    "from scipy import stats\n",
    "from sklearn.preprocessing import LabelEncoder, OneHotEncoder\n",
    "from sklearn.pipeline import Pipeline\n",
    "from sklearn.ensemble import RandomForestClassifier\n",
    "from sklearn.neighbors import KNeighborsClassifier\n",
    "from sklearn.model_selection import train_test_split, GridSearchCV\n",
    "from sklearn.metrics import confusion_matrix, plot_confusion_matrix\n",
    "import joblib\n",
    "# pd.set_option('display.max_columns', None)\n",
    "# pd.reset_option('max_rows')\n",
    "#np.set_printoptions(threshold=sys.maxsize)\n",
    "\n",
    "plt.style.use('dark_background')\n",
    "plt.rcParams.update({\"grid.linewidth\":0.5, \"grid.alpha\":0.5})\n",
    "sns.set(style='ticks', context='talk')"
   ],
   "metadata": {
    "collapsed": false,
    "pycharm": {
     "name": "#%%\n"
    }
   }
  },
  {
   "cell_type": "code",
   "execution_count": 2,
   "outputs": [
    {
     "data": {
      "text/plain": "  class cap-shape cap-surface cap-color bruises odor gill-attachment  \\\n0     p         x           s         n       t    p               f   \n1     e         x           s         y       t    a               f   \n2     e         b           s         w       t    l               f   \n3     p         x           y         w       t    p               f   \n4     e         x           s         g       f    n               f   \n\n  gill-spacing gill-size gill-color  ... stalk-surface-below-ring  \\\n0            c         n          k  ...                        s   \n1            c         b          k  ...                        s   \n2            c         b          n  ...                        s   \n3            c         n          n  ...                        s   \n4            w         b          k  ...                        s   \n\n  stalk-color-above-ring stalk-color-below-ring veil-type veil-color  \\\n0                      w                      w         p          w   \n1                      w                      w         p          w   \n2                      w                      w         p          w   \n3                      w                      w         p          w   \n4                      w                      w         p          w   \n\n  ring-number ring-type spore-print-color population habitat  \n0           o         p                 k          s       u  \n1           o         p                 n          n       g  \n2           o         p                 n          n       m  \n3           o         p                 k          s       u  \n4           o         e                 n          a       g  \n\n[5 rows x 23 columns]",
      "text/html": "<div>\n<style scoped>\n    .dataframe tbody tr th:only-of-type {\n        vertical-align: middle;\n    }\n\n    .dataframe tbody tr th {\n        vertical-align: top;\n    }\n\n    .dataframe thead th {\n        text-align: right;\n    }\n</style>\n<table border=\"1\" class=\"dataframe\">\n  <thead>\n    <tr style=\"text-align: right;\">\n      <th></th>\n      <th>class</th>\n      <th>cap-shape</th>\n      <th>cap-surface</th>\n      <th>cap-color</th>\n      <th>bruises</th>\n      <th>odor</th>\n      <th>gill-attachment</th>\n      <th>gill-spacing</th>\n      <th>gill-size</th>\n      <th>gill-color</th>\n      <th>...</th>\n      <th>stalk-surface-below-ring</th>\n      <th>stalk-color-above-ring</th>\n      <th>stalk-color-below-ring</th>\n      <th>veil-type</th>\n      <th>veil-color</th>\n      <th>ring-number</th>\n      <th>ring-type</th>\n      <th>spore-print-color</th>\n      <th>population</th>\n      <th>habitat</th>\n    </tr>\n  </thead>\n  <tbody>\n    <tr>\n      <th>0</th>\n      <td>p</td>\n      <td>x</td>\n      <td>s</td>\n      <td>n</td>\n      <td>t</td>\n      <td>p</td>\n      <td>f</td>\n      <td>c</td>\n      <td>n</td>\n      <td>k</td>\n      <td>...</td>\n      <td>s</td>\n      <td>w</td>\n      <td>w</td>\n      <td>p</td>\n      <td>w</td>\n      <td>o</td>\n      <td>p</td>\n      <td>k</td>\n      <td>s</td>\n      <td>u</td>\n    </tr>\n    <tr>\n      <th>1</th>\n      <td>e</td>\n      <td>x</td>\n      <td>s</td>\n      <td>y</td>\n      <td>t</td>\n      <td>a</td>\n      <td>f</td>\n      <td>c</td>\n      <td>b</td>\n      <td>k</td>\n      <td>...</td>\n      <td>s</td>\n      <td>w</td>\n      <td>w</td>\n      <td>p</td>\n      <td>w</td>\n      <td>o</td>\n      <td>p</td>\n      <td>n</td>\n      <td>n</td>\n      <td>g</td>\n    </tr>\n    <tr>\n      <th>2</th>\n      <td>e</td>\n      <td>b</td>\n      <td>s</td>\n      <td>w</td>\n      <td>t</td>\n      <td>l</td>\n      <td>f</td>\n      <td>c</td>\n      <td>b</td>\n      <td>n</td>\n      <td>...</td>\n      <td>s</td>\n      <td>w</td>\n      <td>w</td>\n      <td>p</td>\n      <td>w</td>\n      <td>o</td>\n      <td>p</td>\n      <td>n</td>\n      <td>n</td>\n      <td>m</td>\n    </tr>\n    <tr>\n      <th>3</th>\n      <td>p</td>\n      <td>x</td>\n      <td>y</td>\n      <td>w</td>\n      <td>t</td>\n      <td>p</td>\n      <td>f</td>\n      <td>c</td>\n      <td>n</td>\n      <td>n</td>\n      <td>...</td>\n      <td>s</td>\n      <td>w</td>\n      <td>w</td>\n      <td>p</td>\n      <td>w</td>\n      <td>o</td>\n      <td>p</td>\n      <td>k</td>\n      <td>s</td>\n      <td>u</td>\n    </tr>\n    <tr>\n      <th>4</th>\n      <td>e</td>\n      <td>x</td>\n      <td>s</td>\n      <td>g</td>\n      <td>f</td>\n      <td>n</td>\n      <td>f</td>\n      <td>w</td>\n      <td>b</td>\n      <td>k</td>\n      <td>...</td>\n      <td>s</td>\n      <td>w</td>\n      <td>w</td>\n      <td>p</td>\n      <td>w</td>\n      <td>o</td>\n      <td>e</td>\n      <td>n</td>\n      <td>a</td>\n      <td>g</td>\n    </tr>\n  </tbody>\n</table>\n<p>5 rows × 23 columns</p>\n</div>"
     },
     "execution_count": 2,
     "metadata": {},
     "output_type": "execute_result"
    }
   ],
   "source": [
    "path = r'../../data/raw/mushrooms.csv'\n",
    "\n",
    "mushroom = pd.read_csv(path)\n",
    "mushroom.head()"
   ],
   "metadata": {
    "collapsed": false,
    "pycharm": {
     "name": "#%%\n"
    }
   }
  },
  {
   "cell_type": "code",
   "execution_count": 3,
   "outputs": [
    {
     "data": {
      "text/plain": "((8124, 23),\n class                       0\n cap-shape                   0\n cap-surface                 0\n cap-color                   0\n bruises                     0\n odor                        0\n gill-attachment             0\n gill-spacing                0\n gill-size                   0\n gill-color                  0\n stalk-shape                 0\n stalk-root                  0\n stalk-surface-above-ring    0\n stalk-surface-below-ring    0\n stalk-color-above-ring      0\n stalk-color-below-ring      0\n veil-type                   0\n veil-color                  0\n ring-number                 0\n ring-type                   0\n spore-print-color           0\n population                  0\n habitat                     0\n dtype: int64)"
     },
     "execution_count": 3,
     "metadata": {},
     "output_type": "execute_result"
    }
   ],
   "source": [
    "mushroom.shape, mushroom.isnull().sum()"
   ],
   "metadata": {
    "collapsed": false,
    "pycharm": {
     "name": "#%%\n"
    }
   }
  },
  {
   "cell_type": "markdown",
   "source": [
    "* The classes for the data appear to be poisonous, edible, so it appears to be binary like\n",
    "* We have 8k rows and 23 columns\n",
    "* There is no perceivable missing data but need to check whether any erratic data"
   ],
   "metadata": {
    "collapsed": false
   }
  },
  {
   "cell_type": "code",
   "execution_count": 4,
   "outputs": [
    {
     "name": "stdout",
     "output_type": "stream",
     "text": [
      "<class 'pandas.core.frame.DataFrame'>\n",
      "RangeIndex: 8124 entries, 0 to 8123\n",
      "Data columns (total 23 columns):\n",
      " #   Column                    Non-Null Count  Dtype \n",
      "---  ------                    --------------  ----- \n",
      " 0   class                     8124 non-null   object\n",
      " 1   cap-shape                 8124 non-null   object\n",
      " 2   cap-surface               8124 non-null   object\n",
      " 3   cap-color                 8124 non-null   object\n",
      " 4   bruises                   8124 non-null   object\n",
      " 5   odor                      8124 non-null   object\n",
      " 6   gill-attachment           8124 non-null   object\n",
      " 7   gill-spacing              8124 non-null   object\n",
      " 8   gill-size                 8124 non-null   object\n",
      " 9   gill-color                8124 non-null   object\n",
      " 10  stalk-shape               8124 non-null   object\n",
      " 11  stalk-root                8124 non-null   object\n",
      " 12  stalk-surface-above-ring  8124 non-null   object\n",
      " 13  stalk-surface-below-ring  8124 non-null   object\n",
      " 14  stalk-color-above-ring    8124 non-null   object\n",
      " 15  stalk-color-below-ring    8124 non-null   object\n",
      " 16  veil-type                 8124 non-null   object\n",
      " 17  veil-color                8124 non-null   object\n",
      " 18  ring-number               8124 non-null   object\n",
      " 19  ring-type                 8124 non-null   object\n",
      " 20  spore-print-color         8124 non-null   object\n",
      " 21  population                8124 non-null   object\n",
      " 22  habitat                   8124 non-null   object\n",
      "dtypes: object(23)\n",
      "memory usage: 1.4+ MB\n"
     ]
    },
    {
     "data": {
      "text/plain": "(None,\n        class cap-shape cap-surface cap-color bruises  odor gill-attachment  \\\n count   8124      8124        8124      8124    8124  8124            8124   \n unique     2         6           4        10       2     9               2   \n top        e         x           y         n       f     n               f   \n freq    4208      3656        3244      2284    4748  3528            7914   \n \n        gill-spacing gill-size gill-color  ... stalk-surface-below-ring  \\\n count          8124      8124       8124  ...                     8124   \n unique            2         2         12  ...                        4   \n top               c         b          b  ...                        s   \n freq           6812      5612       1728  ...                     4936   \n \n        stalk-color-above-ring stalk-color-below-ring veil-type veil-color  \\\n count                    8124                   8124      8124       8124   \n unique                      9                      9         1          4   \n top                         w                      w         p          w   \n freq                     4464                   4384      8124       7924   \n \n        ring-number ring-type spore-print-color population habitat  \n count         8124      8124              8124       8124    8124  \n unique           3         5                 9          6       7  \n top              o         p                 w          v       d  \n freq          7488      3968              2388       4040    3148  \n \n [4 rows x 23 columns])"
     },
     "execution_count": 4,
     "metadata": {},
     "output_type": "execute_result"
    }
   ],
   "source": [
    "mushroom.info(), mushroom.describe()"
   ],
   "metadata": {
    "collapsed": false,
    "pycharm": {
     "name": "#%%\n"
    }
   }
  },
  {
   "cell_type": "markdown",
   "source": [
    "* the data type needs to be converted to string or text\n",
    "* perhaps improve readability for folder would helpful for future purposes\n",
    "* to check any errors on data, need to check columns for unique values\n"
   ],
   "metadata": {
    "collapsed": false
   }
  },
  {
   "cell_type": "code",
   "execution_count": 5,
   "outputs": [
    {
     "data": {
      "text/plain": "class                       string\ncap-shape                   string\ncap-surface                 string\ncap-color                   string\nbruises                     string\nodor                        string\ngill-attachment             string\ngill-spacing                string\ngill-size                   string\ngill-color                  string\nstalk-shape                 string\nstalk-root                  string\nstalk-surface-above-ring    string\nstalk-surface-below-ring    string\nstalk-color-above-ring      string\nstalk-color-below-ring      string\nveil-type                   string\nveil-color                  string\nring-number                 string\nring-type                   string\nspore-print-color           string\npopulation                  string\nhabitat                     string\ndtype: object"
     },
     "execution_count": 5,
     "metadata": {},
     "output_type": "execute_result"
    }
   ],
   "source": [
    "# get max length of characters used for column names\n",
    "mush_col = mushroom.columns\n",
    "\n",
    "# convert each column to type string with given max character length\n",
    "for col in mush_col:\n",
    "    mushroom[col] = mushroom[col].astype('string')\n",
    "\n",
    "# display converted column types to string\n",
    "mushroom.dtypes"
   ],
   "metadata": {
    "collapsed": false,
    "pycharm": {
     "name": "#%%\n"
    }
   }
  },
  {
   "cell_type": "code",
   "execution_count": 6,
   "outputs": [],
   "source": [
    "# with open('../../data/raw/opafy19nid/opafy19nid.dat') as f:\n",
    "#     # next(f)\n",
    "#     tmp = pd.DataFrame(l.rstrip().split() for l in f)\n",
    "# print(tmp)"
   ],
   "metadata": {
    "collapsed": false,
    "pycharm": {
     "name": "#%%\n"
    }
   }
  },
  {
   "cell_type": "code",
   "execution_count": 7,
   "outputs": [
    {
     "data": {
      "text/plain": "class                        2\ncap-shape                    6\ncap-surface                  4\ncap-color                   10\nbruises                      2\nodor                         9\ngill-attachment              2\ngill-spacing                 2\ngill-size                    2\ngill-color                  12\nstalk-shape                  2\nstalk-root                   5\nstalk-surface-above-ring     4\nstalk-surface-below-ring     4\nstalk-color-above-ring       9\nstalk-color-below-ring       9\nveil-type                    1\nveil-color                   4\nring-number                  3\nring-type                    5\nspore-print-color            9\npopulation                   6\nhabitat                      7\ndtype: int64"
     },
     "execution_count": 7,
     "metadata": {},
     "output_type": "execute_result"
    }
   ],
   "source": [
    "mushroom.nunique()"
   ],
   "metadata": {
    "collapsed": false,
    "pycharm": {
     "name": "#%%\n"
    }
   }
  },
  {
   "cell_type": "markdown",
   "source": [
    "* we can look at documentation for names for each labeled values"
   ],
   "metadata": {
    "collapsed": false
   }
  },
  {
   "cell_type": "code",
   "execution_count": 8,
   "outputs": [
    {
     "name": "stdout",
     "output_type": "stream",
     "text": [
      "0 class <StringArray>\n",
      "['p', 'e']\n",
      "Length: 2, dtype: string \n",
      "\n",
      "1 cap-shape <StringArray>\n",
      "['x', 'b', 's', 'f', 'k', 'c']\n",
      "Length: 6, dtype: string \n",
      "\n",
      "2 cap-surface <StringArray>\n",
      "['s', 'y', 'f', 'g']\n",
      "Length: 4, dtype: string \n",
      "\n",
      "3 cap-color <StringArray>\n",
      "['n', 'y', 'w', 'g', 'e', 'p', 'b', 'u', 'c', 'r']\n",
      "Length: 10, dtype: string \n",
      "\n",
      "4 bruises <StringArray>\n",
      "['t', 'f']\n",
      "Length: 2, dtype: string \n",
      "\n",
      "5 odor <StringArray>\n",
      "['p', 'a', 'l', 'n', 'f', 'c', 'y', 's', 'm']\n",
      "Length: 9, dtype: string \n",
      "\n",
      "6 gill-attachment <StringArray>\n",
      "['f', 'a']\n",
      "Length: 2, dtype: string \n",
      "\n",
      "7 gill-spacing <StringArray>\n",
      "['c', 'w']\n",
      "Length: 2, dtype: string \n",
      "\n",
      "8 gill-size <StringArray>\n",
      "['n', 'b']\n",
      "Length: 2, dtype: string \n",
      "\n",
      "9 gill-color <StringArray>\n",
      "['k', 'n', 'g', 'p', 'w', 'h', 'u', 'e', 'b', 'r', 'y', 'o']\n",
      "Length: 12, dtype: string \n",
      "\n",
      "10 stalk-shape <StringArray>\n",
      "['e', 't']\n",
      "Length: 2, dtype: string \n",
      "\n",
      "11 stalk-root <StringArray>\n",
      "['e', 'c', 'b', 'r', '?']\n",
      "Length: 5, dtype: string \n",
      "\n",
      "12 stalk-surface-above-ring <StringArray>\n",
      "['s', 'f', 'k', 'y']\n",
      "Length: 4, dtype: string \n",
      "\n",
      "13 stalk-surface-below-ring <StringArray>\n",
      "['s', 'f', 'y', 'k']\n",
      "Length: 4, dtype: string \n",
      "\n",
      "14 stalk-color-above-ring <StringArray>\n",
      "['w', 'g', 'p', 'n', 'b', 'e', 'o', 'c', 'y']\n",
      "Length: 9, dtype: string \n",
      "\n",
      "15 stalk-color-below-ring <StringArray>\n",
      "['w', 'p', 'g', 'b', 'n', 'e', 'y', 'o', 'c']\n",
      "Length: 9, dtype: string \n",
      "\n",
      "16 veil-type <StringArray>\n",
      "['p']\n",
      "Length: 1, dtype: string \n",
      "\n",
      "17 veil-color <StringArray>\n",
      "['w', 'n', 'o', 'y']\n",
      "Length: 4, dtype: string \n",
      "\n",
      "18 ring-number <StringArray>\n",
      "['o', 't', 'n']\n",
      "Length: 3, dtype: string \n",
      "\n",
      "19 ring-type <StringArray>\n",
      "['p', 'e', 'l', 'f', 'n']\n",
      "Length: 5, dtype: string \n",
      "\n",
      "20 spore-print-color <StringArray>\n",
      "['k', 'n', 'u', 'h', 'w', 'r', 'o', 'y', 'b']\n",
      "Length: 9, dtype: string \n",
      "\n",
      "21 population <StringArray>\n",
      "['s', 'n', 'a', 'v', 'y', 'c']\n",
      "Length: 6, dtype: string \n",
      "\n",
      "22 habitat <StringArray>\n",
      "['u', 'g', 'm', 'd', 'p', 'w', 'l']\n",
      "Length: 7, dtype: string \n",
      "\n"
     ]
    }
   ],
   "source": [
    "# use to check if any values explain missingness\n",
    "for count, col in enumerate(mush_col):\n",
    "    print(count, col, mushroom[col].unique(), '\\n')"
   ],
   "metadata": {
    "collapsed": false,
    "pycharm": {
     "name": "#%%\n"
    }
   }
  },
  {
   "cell_type": "markdown",
   "source": [
    "* column 11, stalk-root has a missing value column ?\n",
    "* next need to check how how many ? values in column 11\n",
    "* Also veil type only has one distinct value and has no use so we will just drop this for now"
   ],
   "metadata": {
    "collapsed": false
   }
  },
  {
   "cell_type": "code",
   "execution_count": 9,
   "outputs": [
    {
     "data": {
      "text/plain": "Index(['class', 'cap-shape', 'cap-surface', 'cap-color', 'bruises', 'odor',\n       'gill-attachment', 'gill-spacing', 'gill-size', 'gill-color',\n       'stalk-shape', 'stalk-root', 'stalk-surface-above-ring',\n       'stalk-surface-below-ring', 'stalk-color-above-ring',\n       'stalk-color-below-ring', 'veil-color', 'ring-number', 'ring-type',\n       'spore-print-color', 'population', 'habitat'],\n      dtype='object')"
     },
     "execution_count": 9,
     "metadata": {},
     "output_type": "execute_result"
    }
   ],
   "source": [
    "# drop low variance column\n",
    "mushroom.drop('veil-type', axis=1, inplace=True)\n",
    "mush_col = mushroom.columns\n",
    "mush_col"
   ],
   "metadata": {
    "collapsed": false,
    "pycharm": {
     "name": "#%%\n"
    }
   }
  },
  {
   "cell_type": "code",
   "execution_count": 10,
   "outputs": [
    {
     "data": {
      "text/plain": "       class cap-shape cap-surface cap-color  bruises     odor  \\\n0  poisonous    convex      smooth     brown  bruises  pungent   \n1     edible    convex      smooth    yellow  bruises   almond   \n2     edible      bell      smooth     white  bruises    anise   \n3  poisonous    convex       scaly     white  bruises  pungent   \n4     edible    convex      smooth      gray       no     none   \n\n  gill-attachment gill-spacing gill-size gill-color  ...  \\\n0            free        close    narrow      black  ...   \n1            free        close     broad      black  ...   \n2            free        close     broad      brown  ...   \n3            free        close    narrow      brown  ...   \n4            free      crowded     broad      black  ...   \n\n  stalk-surface-above-ring stalk-surface-below-ring stalk-color-above-ring  \\\n0                   smooth                   smooth                  white   \n1                   smooth                   smooth                  white   \n2                   smooth                   smooth                  white   \n3                   smooth                   smooth                  white   \n4                   smooth                   smooth                  white   \n\n  stalk-color-below-ring veil-color ring-number   ring-type spore-print-color  \\\n0                  white      white         one     pendant             black   \n1                  white      white         one     pendant             brown   \n2                  white      white         one     pendant             brown   \n3                  white      white         one     pendant             black   \n4                  white      white         one  evanescent             brown   \n\n  population  habitat  \n0  scattered    urban  \n1   numerous  grasses  \n2   numerous  meadows  \n3  scattered    urban  \n4   abundant  grasses  \n\n[5 rows x 22 columns]",
      "text/html": "<div>\n<style scoped>\n    .dataframe tbody tr th:only-of-type {\n        vertical-align: middle;\n    }\n\n    .dataframe tbody tr th {\n        vertical-align: top;\n    }\n\n    .dataframe thead th {\n        text-align: right;\n    }\n</style>\n<table border=\"1\" class=\"dataframe\">\n  <thead>\n    <tr style=\"text-align: right;\">\n      <th></th>\n      <th>class</th>\n      <th>cap-shape</th>\n      <th>cap-surface</th>\n      <th>cap-color</th>\n      <th>bruises</th>\n      <th>odor</th>\n      <th>gill-attachment</th>\n      <th>gill-spacing</th>\n      <th>gill-size</th>\n      <th>gill-color</th>\n      <th>...</th>\n      <th>stalk-surface-above-ring</th>\n      <th>stalk-surface-below-ring</th>\n      <th>stalk-color-above-ring</th>\n      <th>stalk-color-below-ring</th>\n      <th>veil-color</th>\n      <th>ring-number</th>\n      <th>ring-type</th>\n      <th>spore-print-color</th>\n      <th>population</th>\n      <th>habitat</th>\n    </tr>\n  </thead>\n  <tbody>\n    <tr>\n      <th>0</th>\n      <td>poisonous</td>\n      <td>convex</td>\n      <td>smooth</td>\n      <td>brown</td>\n      <td>bruises</td>\n      <td>pungent</td>\n      <td>free</td>\n      <td>close</td>\n      <td>narrow</td>\n      <td>black</td>\n      <td>...</td>\n      <td>smooth</td>\n      <td>smooth</td>\n      <td>white</td>\n      <td>white</td>\n      <td>white</td>\n      <td>one</td>\n      <td>pendant</td>\n      <td>black</td>\n      <td>scattered</td>\n      <td>urban</td>\n    </tr>\n    <tr>\n      <th>1</th>\n      <td>edible</td>\n      <td>convex</td>\n      <td>smooth</td>\n      <td>yellow</td>\n      <td>bruises</td>\n      <td>almond</td>\n      <td>free</td>\n      <td>close</td>\n      <td>broad</td>\n      <td>black</td>\n      <td>...</td>\n      <td>smooth</td>\n      <td>smooth</td>\n      <td>white</td>\n      <td>white</td>\n      <td>white</td>\n      <td>one</td>\n      <td>pendant</td>\n      <td>brown</td>\n      <td>numerous</td>\n      <td>grasses</td>\n    </tr>\n    <tr>\n      <th>2</th>\n      <td>edible</td>\n      <td>bell</td>\n      <td>smooth</td>\n      <td>white</td>\n      <td>bruises</td>\n      <td>anise</td>\n      <td>free</td>\n      <td>close</td>\n      <td>broad</td>\n      <td>brown</td>\n      <td>...</td>\n      <td>smooth</td>\n      <td>smooth</td>\n      <td>white</td>\n      <td>white</td>\n      <td>white</td>\n      <td>one</td>\n      <td>pendant</td>\n      <td>brown</td>\n      <td>numerous</td>\n      <td>meadows</td>\n    </tr>\n    <tr>\n      <th>3</th>\n      <td>poisonous</td>\n      <td>convex</td>\n      <td>scaly</td>\n      <td>white</td>\n      <td>bruises</td>\n      <td>pungent</td>\n      <td>free</td>\n      <td>close</td>\n      <td>narrow</td>\n      <td>brown</td>\n      <td>...</td>\n      <td>smooth</td>\n      <td>smooth</td>\n      <td>white</td>\n      <td>white</td>\n      <td>white</td>\n      <td>one</td>\n      <td>pendant</td>\n      <td>black</td>\n      <td>scattered</td>\n      <td>urban</td>\n    </tr>\n    <tr>\n      <th>4</th>\n      <td>edible</td>\n      <td>convex</td>\n      <td>smooth</td>\n      <td>gray</td>\n      <td>no</td>\n      <td>none</td>\n      <td>free</td>\n      <td>crowded</td>\n      <td>broad</td>\n      <td>black</td>\n      <td>...</td>\n      <td>smooth</td>\n      <td>smooth</td>\n      <td>white</td>\n      <td>white</td>\n      <td>white</td>\n      <td>one</td>\n      <td>evanescent</td>\n      <td>brown</td>\n      <td>abundant</td>\n      <td>grasses</td>\n    </tr>\n  </tbody>\n</table>\n<p>5 rows × 22 columns</p>\n</div>"
     },
     "execution_count": 10,
     "metadata": {},
     "output_type": "execute_result"
    }
   ],
   "source": [
    "# reformat names to more interpreted labels\n",
    "mapping = { 'cap-shape': {'b': 'bell', 'c': 'conical', 'x': 'convex', 'f': 'flat', 'k': 'knobbed', 's': 'sunken'},\n",
    "            'cap-surface': {'s': 'smooth', 'f': 'fibrous', 'g': 'grooves', 'y': 'scaly'},\n",
    "            'cap-color': {'n': 'brown', 'b': 'buff', 'c': 'cinnamon', 'g': 'gray', 'r': 'green', 'p':'pink',\n",
    "                          'u': 'purple', 'e': 'red', 'w': 'white', 'y': 'yellow'},\n",
    "            'bruises': {'t': 'bruises', 'f': 'no'},\n",
    "            'odor': {'a': 'almond', 'l': 'anise', 'c': 'creosote', 'y': 'fishy', 'f': 'foul', 'm': 'musty',\n",
    "                     'n': 'none', 'p': 'pungent', 's': 'spicy'},\n",
    "            'gill-attachment': {'a': 'attached', 'd': 'descending', 'f': 'free','n': 'notched'},\n",
    "            'gill-spacing': {'c': 'close', 'w': 'crowded', 'd': 'distant'},\n",
    "            'gill-size': {'b': 'broad', 'n': 'narrow'},\n",
    "            'gill-color': {'k': 'black', 'n': 'brown', 'b': 'buff', 'h': 'chocolate', 'g': 'gray', 'r': 'green',\n",
    "                           'o': 'orange', 'p': 'pink', 'u': 'purple', 'e': 'red', 'w': 'white', 'y': 'yellow'},\n",
    "            'stalk-shape': {'e': 'enlarging', 't': 'tapering'},\n",
    "            'stalk-root': {'b': 'bulbous', 'c': 'club', 'u': 'cup','e': 'equal', 'z': 'rhizomorphs',\n",
    "                           'r': 'rooted', '?': 'missing'},\n",
    "            'stalk-surface-above-ring': {'f': 'fibrous', 'y': 'scaly', 'k': 'silky', 's': 'smooth'},\n",
    "            'stalk-surface-below-ring': {'f': 'fibrous', 'y': 'scaly', 'k': 'silky', 's': 'smooth'},\n",
    "            'stalk-color-above-ring': {'n': 'brown', 'b': 'buff', 'c': 'cinnamon', 'g': 'gray', 'o': 'orange',\n",
    "                                       'p': 'pink', 'e': 'red', 'w': 'white', 'y': 'yellow'},\n",
    "            'stalk-color-below-ring': {'n': 'brown', 'b': 'buff', 'c': 'cinnamon', 'g': 'gray', 'o': 'orange',\n",
    "                                       'p': 'pink', 'e': 'red', 'w': 'white', 'y': 'yellow'},\n",
    "            'veil-color': {'n': 'brown', 'o': 'orange', 'w': 'white', 'y': 'yellow'},\n",
    "            'ring-number': {'n': 'none', 'o': 'one', 't': 'two'},\n",
    "            'ring-type': {'c': 'cobwebby', 'e': 'evanescent', 'f': 'flaring', 'l': 'large', 'n': 'none',\n",
    "                          'p': 'pendant', 's': 'sheathing', 'z': 'zone'},\n",
    "            'spore-print-color': {'k': 'black', 'n': 'brown', 'b': 'buff', 'h': 'chocolate', 'r': 'green',\n",
    "                                  'o': 'orange', 'u': 'purple', 'w': 'white', 'y': 'yellow'},\n",
    "            'population': {'a': 'abundant', 'c': 'clustered', 'n': 'numerous', 's': 'scattered',\n",
    "                           'v': 'several', 'y': 'solitary'},\n",
    "            'habitat': {'g': 'grasses', 'l': 'leaves', 'm': 'meadows', 'd': 'woods', 'p': 'paths',\n",
    "                        'u': 'urban', 'w': 'waste'},\n",
    "            'class': {'e': 'edible', 'p':'poisonous'}\n",
    "          }\n",
    "mushroom.replace(mapping, inplace = True)\n",
    "mushroom.head()\n"
   ],
   "metadata": {
    "collapsed": false,
    "pycharm": {
     "name": "#%%\n"
    }
   }
  },
  {
   "cell_type": "code",
   "execution_count": 11,
   "outputs": [
    {
     "data": {
      "text/plain": "       class cap-shape cap-surface cap-color  bruises     odor  \\\n0  poisonous    convex      smooth     brown  bruises  pungent   \n1     edible    convex      smooth    yellow  bruises   almond   \n2     edible      bell      smooth     white  bruises    anise   \n3  poisonous    convex       scaly     white  bruises  pungent   \n4     edible    convex      smooth      gray       no     none   \n\n  gill-attachment gill-spacing gill-size gill-color  ...  \\\n0            free        close    narrow      black  ...   \n1            free        close     broad      black  ...   \n2            free        close     broad      brown  ...   \n3            free        close    narrow      brown  ...   \n4            free      crowded     broad      black  ...   \n\n  stalk-surface-above-ring stalk-surface-below-ring stalk-color-above-ring  \\\n0                   smooth                   smooth                  white   \n1                   smooth                   smooth                  white   \n2                   smooth                   smooth                  white   \n3                   smooth                   smooth                  white   \n4                   smooth                   smooth                  white   \n\n  stalk-color-below-ring veil-color ring-number   ring-type spore-print-color  \\\n0                  white      white         one     pendant             black   \n1                  white      white         one     pendant             brown   \n2                  white      white         one     pendant             brown   \n3                  white      white         one     pendant             black   \n4                  white      white         one  evanescent             brown   \n\n  population  habitat  \n0  scattered    urban  \n1   numerous  grasses  \n2   numerous  meadows  \n3  scattered    urban  \n4   abundant  grasses  \n\n[5 rows x 23 columns]",
      "text/html": "<div>\n<style scoped>\n    .dataframe tbody tr th:only-of-type {\n        vertical-align: middle;\n    }\n\n    .dataframe tbody tr th {\n        vertical-align: top;\n    }\n\n    .dataframe thead th {\n        text-align: right;\n    }\n</style>\n<table border=\"1\" class=\"dataframe\">\n  <thead>\n    <tr style=\"text-align: right;\">\n      <th></th>\n      <th>class</th>\n      <th>cap-shape</th>\n      <th>cap-surface</th>\n      <th>cap-color</th>\n      <th>bruises</th>\n      <th>odor</th>\n      <th>gill-attachment</th>\n      <th>gill-spacing</th>\n      <th>gill-size</th>\n      <th>gill-color</th>\n      <th>...</th>\n      <th>stalk-surface-above-ring</th>\n      <th>stalk-surface-below-ring</th>\n      <th>stalk-color-above-ring</th>\n      <th>stalk-color-below-ring</th>\n      <th>veil-color</th>\n      <th>ring-number</th>\n      <th>ring-type</th>\n      <th>spore-print-color</th>\n      <th>population</th>\n      <th>habitat</th>\n    </tr>\n  </thead>\n  <tbody>\n    <tr>\n      <th>0</th>\n      <td>poisonous</td>\n      <td>convex</td>\n      <td>smooth</td>\n      <td>brown</td>\n      <td>bruises</td>\n      <td>pungent</td>\n      <td>free</td>\n      <td>close</td>\n      <td>narrow</td>\n      <td>black</td>\n      <td>...</td>\n      <td>smooth</td>\n      <td>smooth</td>\n      <td>white</td>\n      <td>white</td>\n      <td>white</td>\n      <td>one</td>\n      <td>pendant</td>\n      <td>black</td>\n      <td>scattered</td>\n      <td>urban</td>\n    </tr>\n    <tr>\n      <th>1</th>\n      <td>edible</td>\n      <td>convex</td>\n      <td>smooth</td>\n      <td>yellow</td>\n      <td>bruises</td>\n      <td>almond</td>\n      <td>free</td>\n      <td>close</td>\n      <td>broad</td>\n      <td>black</td>\n      <td>...</td>\n      <td>smooth</td>\n      <td>smooth</td>\n      <td>white</td>\n      <td>white</td>\n      <td>white</td>\n      <td>one</td>\n      <td>pendant</td>\n      <td>brown</td>\n      <td>numerous</td>\n      <td>grasses</td>\n    </tr>\n    <tr>\n      <th>2</th>\n      <td>edible</td>\n      <td>bell</td>\n      <td>smooth</td>\n      <td>white</td>\n      <td>bruises</td>\n      <td>anise</td>\n      <td>free</td>\n      <td>close</td>\n      <td>broad</td>\n      <td>brown</td>\n      <td>...</td>\n      <td>smooth</td>\n      <td>smooth</td>\n      <td>white</td>\n      <td>white</td>\n      <td>white</td>\n      <td>one</td>\n      <td>pendant</td>\n      <td>brown</td>\n      <td>numerous</td>\n      <td>meadows</td>\n    </tr>\n    <tr>\n      <th>3</th>\n      <td>poisonous</td>\n      <td>convex</td>\n      <td>scaly</td>\n      <td>white</td>\n      <td>bruises</td>\n      <td>pungent</td>\n      <td>free</td>\n      <td>close</td>\n      <td>narrow</td>\n      <td>brown</td>\n      <td>...</td>\n      <td>smooth</td>\n      <td>smooth</td>\n      <td>white</td>\n      <td>white</td>\n      <td>white</td>\n      <td>one</td>\n      <td>pendant</td>\n      <td>black</td>\n      <td>scattered</td>\n      <td>urban</td>\n    </tr>\n    <tr>\n      <th>4</th>\n      <td>edible</td>\n      <td>convex</td>\n      <td>smooth</td>\n      <td>gray</td>\n      <td>no</td>\n      <td>none</td>\n      <td>free</td>\n      <td>crowded</td>\n      <td>broad</td>\n      <td>black</td>\n      <td>...</td>\n      <td>smooth</td>\n      <td>smooth</td>\n      <td>white</td>\n      <td>white</td>\n      <td>white</td>\n      <td>one</td>\n      <td>evanescent</td>\n      <td>brown</td>\n      <td>abundant</td>\n      <td>grasses</td>\n    </tr>\n  </tbody>\n</table>\n<p>5 rows × 23 columns</p>\n</div>"
     },
     "execution_count": 11,
     "metadata": {},
     "output_type": "execute_result"
    }
   ],
   "source": [
    "# make a column for missing and nonmissing data\n",
    "missing_stalk_roots = [val  if val == 'missing' else 'non-missing' for val in mushroom['stalk-root']]\n",
    "\n",
    "mushroom.insert(12, 'missing_stalk_roots', missing_stalk_roots)\n",
    "mushroom.head()\n",
    "\n"
   ],
   "metadata": {
    "collapsed": false,
    "pycharm": {
     "name": "#%%\n"
    }
   }
  },
  {
   "cell_type": "markdown",
   "source": [
    "# Predict and impute missing data\n",
    "* Separate dataframe from missing and non missing data\n",
    "* preprocess the known data\n",
    "* split known data\n",
    "* perform KNN to train and get score\n",
    "* use this model to predict our missing data values"
   ],
   "metadata": {
    "collapsed": false
   }
  },
  {
   "cell_type": "code",
   "execution_count": 12,
   "outputs": [
    {
     "data": {
      "text/plain": "False"
     },
     "execution_count": 12,
     "metadata": {},
     "output_type": "execute_result"
    }
   ],
   "source": [
    "# drop mushroom missing column as we no longer need it\n",
    "mushroom.drop('missing_stalk_roots', axis=1, inplace=True)\n",
    "'missing_stalk_roots' in mushroom.columns"
   ],
   "metadata": {
    "collapsed": false,
    "pycharm": {
     "name": "#%%\n"
    }
   }
  },
  {
   "cell_type": "code",
   "execution_count": 13,
   "outputs": [
    {
     "data": {
      "text/plain": "          class cap-shape cap-surface cap-color  bruises     odor  \\\n0     poisonous    convex      smooth     brown  bruises  pungent   \n1        edible    convex      smooth    yellow  bruises   almond   \n2        edible      bell      smooth     white  bruises    anise   \n3     poisonous    convex       scaly     white  bruises  pungent   \n4        edible    convex      smooth      gray       no     none   \n...         ...       ...         ...       ...      ...      ...   \n7986     edible      bell       scaly     brown       no     none   \n8001     edible    convex       scaly     brown       no     none   \n8038     edible    convex       scaly      gray  bruises     none   \n8095  poisonous    convex       scaly  cinnamon       no    musty   \n8114  poisonous      flat       scaly  cinnamon       no    musty   \n\n     gill-attachment gill-spacing gill-size gill-color  ...  \\\n0               free        close    narrow      black  ...   \n1               free        close     broad      black  ...   \n2               free        close     broad      brown  ...   \n3               free        close    narrow      brown  ...   \n4               free      crowded     broad      black  ...   \n...              ...          ...       ...        ...  ...   \n7986            free        close     broad      white  ...   \n8001            free        close     broad      white  ...   \n8038            free        close     broad      white  ...   \n8095            free        close     broad     yellow  ...   \n8114        attached        close     broad     yellow  ...   \n\n     stalk-surface-above-ring stalk-surface-below-ring stalk-color-above-ring  \\\n0                      smooth                   smooth                  white   \n1                      smooth                   smooth                  white   \n2                      smooth                   smooth                  white   \n3                      smooth                   smooth                  white   \n4                      smooth                   smooth                  white   \n...                       ...                      ...                    ...   \n7986                    scaly                    scaly                  brown   \n8001                    scaly                    scaly                  brown   \n8038                   smooth                   smooth                  white   \n8095                    silky                    scaly               cinnamon   \n8114                    silky                    scaly               cinnamon   \n\n     stalk-color-below-ring veil-color ring-number   ring-type  \\\n0                     white      white         one     pendant   \n1                     white      white         one     pendant   \n2                     white      white         one     pendant   \n3                     white      white         one     pendant   \n4                     white      white         one  evanescent   \n...                     ...        ...         ...         ...   \n7986                  brown      white         two     pendant   \n8001                  brown      white         two     pendant   \n8038                  white      white         two     pendant   \n8095               cinnamon      white        none        none   \n8114               cinnamon      white        none        none   \n\n     spore-print-color population  habitat  \n0                black  scattered    urban  \n1                brown   numerous  grasses  \n2                brown   numerous  meadows  \n3                black  scattered    urban  \n4                brown   abundant  grasses  \n...                ...        ...      ...  \n7986             white   solitary    paths  \n8001             white   solitary    paths  \n8038             white   solitary    paths  \n8095             white  clustered    woods  \n8114             white  clustered    woods  \n\n[5644 rows x 22 columns]",
      "text/html": "<div>\n<style scoped>\n    .dataframe tbody tr th:only-of-type {\n        vertical-align: middle;\n    }\n\n    .dataframe tbody tr th {\n        vertical-align: top;\n    }\n\n    .dataframe thead th {\n        text-align: right;\n    }\n</style>\n<table border=\"1\" class=\"dataframe\">\n  <thead>\n    <tr style=\"text-align: right;\">\n      <th></th>\n      <th>class</th>\n      <th>cap-shape</th>\n      <th>cap-surface</th>\n      <th>cap-color</th>\n      <th>bruises</th>\n      <th>odor</th>\n      <th>gill-attachment</th>\n      <th>gill-spacing</th>\n      <th>gill-size</th>\n      <th>gill-color</th>\n      <th>...</th>\n      <th>stalk-surface-above-ring</th>\n      <th>stalk-surface-below-ring</th>\n      <th>stalk-color-above-ring</th>\n      <th>stalk-color-below-ring</th>\n      <th>veil-color</th>\n      <th>ring-number</th>\n      <th>ring-type</th>\n      <th>spore-print-color</th>\n      <th>population</th>\n      <th>habitat</th>\n    </tr>\n  </thead>\n  <tbody>\n    <tr>\n      <th>0</th>\n      <td>poisonous</td>\n      <td>convex</td>\n      <td>smooth</td>\n      <td>brown</td>\n      <td>bruises</td>\n      <td>pungent</td>\n      <td>free</td>\n      <td>close</td>\n      <td>narrow</td>\n      <td>black</td>\n      <td>...</td>\n      <td>smooth</td>\n      <td>smooth</td>\n      <td>white</td>\n      <td>white</td>\n      <td>white</td>\n      <td>one</td>\n      <td>pendant</td>\n      <td>black</td>\n      <td>scattered</td>\n      <td>urban</td>\n    </tr>\n    <tr>\n      <th>1</th>\n      <td>edible</td>\n      <td>convex</td>\n      <td>smooth</td>\n      <td>yellow</td>\n      <td>bruises</td>\n      <td>almond</td>\n      <td>free</td>\n      <td>close</td>\n      <td>broad</td>\n      <td>black</td>\n      <td>...</td>\n      <td>smooth</td>\n      <td>smooth</td>\n      <td>white</td>\n      <td>white</td>\n      <td>white</td>\n      <td>one</td>\n      <td>pendant</td>\n      <td>brown</td>\n      <td>numerous</td>\n      <td>grasses</td>\n    </tr>\n    <tr>\n      <th>2</th>\n      <td>edible</td>\n      <td>bell</td>\n      <td>smooth</td>\n      <td>white</td>\n      <td>bruises</td>\n      <td>anise</td>\n      <td>free</td>\n      <td>close</td>\n      <td>broad</td>\n      <td>brown</td>\n      <td>...</td>\n      <td>smooth</td>\n      <td>smooth</td>\n      <td>white</td>\n      <td>white</td>\n      <td>white</td>\n      <td>one</td>\n      <td>pendant</td>\n      <td>brown</td>\n      <td>numerous</td>\n      <td>meadows</td>\n    </tr>\n    <tr>\n      <th>3</th>\n      <td>poisonous</td>\n      <td>convex</td>\n      <td>scaly</td>\n      <td>white</td>\n      <td>bruises</td>\n      <td>pungent</td>\n      <td>free</td>\n      <td>close</td>\n      <td>narrow</td>\n      <td>brown</td>\n      <td>...</td>\n      <td>smooth</td>\n      <td>smooth</td>\n      <td>white</td>\n      <td>white</td>\n      <td>white</td>\n      <td>one</td>\n      <td>pendant</td>\n      <td>black</td>\n      <td>scattered</td>\n      <td>urban</td>\n    </tr>\n    <tr>\n      <th>4</th>\n      <td>edible</td>\n      <td>convex</td>\n      <td>smooth</td>\n      <td>gray</td>\n      <td>no</td>\n      <td>none</td>\n      <td>free</td>\n      <td>crowded</td>\n      <td>broad</td>\n      <td>black</td>\n      <td>...</td>\n      <td>smooth</td>\n      <td>smooth</td>\n      <td>white</td>\n      <td>white</td>\n      <td>white</td>\n      <td>one</td>\n      <td>evanescent</td>\n      <td>brown</td>\n      <td>abundant</td>\n      <td>grasses</td>\n    </tr>\n    <tr>\n      <th>...</th>\n      <td>...</td>\n      <td>...</td>\n      <td>...</td>\n      <td>...</td>\n      <td>...</td>\n      <td>...</td>\n      <td>...</td>\n      <td>...</td>\n      <td>...</td>\n      <td>...</td>\n      <td>...</td>\n      <td>...</td>\n      <td>...</td>\n      <td>...</td>\n      <td>...</td>\n      <td>...</td>\n      <td>...</td>\n      <td>...</td>\n      <td>...</td>\n      <td>...</td>\n      <td>...</td>\n    </tr>\n    <tr>\n      <th>7986</th>\n      <td>edible</td>\n      <td>bell</td>\n      <td>scaly</td>\n      <td>brown</td>\n      <td>no</td>\n      <td>none</td>\n      <td>free</td>\n      <td>close</td>\n      <td>broad</td>\n      <td>white</td>\n      <td>...</td>\n      <td>scaly</td>\n      <td>scaly</td>\n      <td>brown</td>\n      <td>brown</td>\n      <td>white</td>\n      <td>two</td>\n      <td>pendant</td>\n      <td>white</td>\n      <td>solitary</td>\n      <td>paths</td>\n    </tr>\n    <tr>\n      <th>8001</th>\n      <td>edible</td>\n      <td>convex</td>\n      <td>scaly</td>\n      <td>brown</td>\n      <td>no</td>\n      <td>none</td>\n      <td>free</td>\n      <td>close</td>\n      <td>broad</td>\n      <td>white</td>\n      <td>...</td>\n      <td>scaly</td>\n      <td>scaly</td>\n      <td>brown</td>\n      <td>brown</td>\n      <td>white</td>\n      <td>two</td>\n      <td>pendant</td>\n      <td>white</td>\n      <td>solitary</td>\n      <td>paths</td>\n    </tr>\n    <tr>\n      <th>8038</th>\n      <td>edible</td>\n      <td>convex</td>\n      <td>scaly</td>\n      <td>gray</td>\n      <td>bruises</td>\n      <td>none</td>\n      <td>free</td>\n      <td>close</td>\n      <td>broad</td>\n      <td>white</td>\n      <td>...</td>\n      <td>smooth</td>\n      <td>smooth</td>\n      <td>white</td>\n      <td>white</td>\n      <td>white</td>\n      <td>two</td>\n      <td>pendant</td>\n      <td>white</td>\n      <td>solitary</td>\n      <td>paths</td>\n    </tr>\n    <tr>\n      <th>8095</th>\n      <td>poisonous</td>\n      <td>convex</td>\n      <td>scaly</td>\n      <td>cinnamon</td>\n      <td>no</td>\n      <td>musty</td>\n      <td>free</td>\n      <td>close</td>\n      <td>broad</td>\n      <td>yellow</td>\n      <td>...</td>\n      <td>silky</td>\n      <td>scaly</td>\n      <td>cinnamon</td>\n      <td>cinnamon</td>\n      <td>white</td>\n      <td>none</td>\n      <td>none</td>\n      <td>white</td>\n      <td>clustered</td>\n      <td>woods</td>\n    </tr>\n    <tr>\n      <th>8114</th>\n      <td>poisonous</td>\n      <td>flat</td>\n      <td>scaly</td>\n      <td>cinnamon</td>\n      <td>no</td>\n      <td>musty</td>\n      <td>attached</td>\n      <td>close</td>\n      <td>broad</td>\n      <td>yellow</td>\n      <td>...</td>\n      <td>silky</td>\n      <td>scaly</td>\n      <td>cinnamon</td>\n      <td>cinnamon</td>\n      <td>white</td>\n      <td>none</td>\n      <td>none</td>\n      <td>white</td>\n      <td>clustered</td>\n      <td>woods</td>\n    </tr>\n  </tbody>\n</table>\n<p>5644 rows × 22 columns</p>\n</div>"
     },
     "metadata": {},
     "output_type": "display_data"
    },
    {
     "data": {
      "text/plain": "          class cap-shape cap-surface cap-color  bruises   odor  \\\n3984     edible    convex       scaly      buff  bruises   none   \n4023  poisonous    convex       scaly       red       no  fishy   \n4076     edible      flat       scaly    purple       no   none   \n4100  poisonous    convex       scaly       red       no  fishy   \n4104  poisonous    convex       scaly     brown       no   foul   \n...         ...       ...         ...       ...      ...    ...   \n8119     edible   knobbed      smooth     brown       no   none   \n8120     edible    convex      smooth     brown       no   none   \n8121     edible      flat      smooth     brown       no   none   \n8122  poisonous   knobbed       scaly     brown       no  fishy   \n8123     edible    convex      smooth     brown       no   none   \n\n     gill-attachment gill-spacing gill-size gill-color  ...  \\\n3984            free        close     broad        red  ...   \n4023            free        close    narrow       buff  ...   \n4076            free        close    narrow  chocolate  ...   \n4100            free        close    narrow       buff  ...   \n4104            free        close    narrow       buff  ...   \n...              ...          ...       ...        ...  ...   \n8119        attached        close     broad     yellow  ...   \n8120        attached        close     broad     yellow  ...   \n8121        attached        close     broad      brown  ...   \n8122            free        close    narrow       buff  ...   \n8123        attached        close     broad     yellow  ...   \n\n     stalk-surface-above-ring stalk-surface-below-ring stalk-color-above-ring  \\\n3984                   smooth                   smooth                    red   \n4023                    silky                   smooth                  white   \n4076                   smooth                  fibrous                  white   \n4100                    silky                   smooth                   pink   \n4104                   smooth                   smooth                   pink   \n...                       ...                      ...                    ...   \n8119                   smooth                   smooth                 orange   \n8120                   smooth                   smooth                 orange   \n8121                   smooth                   smooth                 orange   \n8122                   smooth                    silky                  white   \n8123                   smooth                   smooth                 orange   \n\n     stalk-color-below-ring veil-color ring-number   ring-type  \\\n3984                  white      white         two  evanescent   \n4023                  white      white         one  evanescent   \n4076                  white      white         one     flaring   \n4100                   pink      white         one  evanescent   \n4104                   pink      white         one  evanescent   \n...                     ...        ...         ...         ...   \n8119                 orange     orange         one     pendant   \n8120                 orange      brown         one     pendant   \n8121                 orange     orange         one     pendant   \n8122                  white      white         one  evanescent   \n8123                 orange     orange         one     pendant   \n\n     spore-print-color population habitat  \n3984             white  clustered   waste  \n4023             white    several   paths  \n4076         chocolate   solitary   woods  \n4100             white    several   woods  \n4104             white    several  leaves  \n...                ...        ...     ...  \n8119              buff  clustered  leaves  \n8120              buff    several  leaves  \n8121              buff  clustered  leaves  \n8122             white    several  leaves  \n8123            orange  clustered  leaves  \n\n[2480 rows x 22 columns]",
      "text/html": "<div>\n<style scoped>\n    .dataframe tbody tr th:only-of-type {\n        vertical-align: middle;\n    }\n\n    .dataframe tbody tr th {\n        vertical-align: top;\n    }\n\n    .dataframe thead th {\n        text-align: right;\n    }\n</style>\n<table border=\"1\" class=\"dataframe\">\n  <thead>\n    <tr style=\"text-align: right;\">\n      <th></th>\n      <th>class</th>\n      <th>cap-shape</th>\n      <th>cap-surface</th>\n      <th>cap-color</th>\n      <th>bruises</th>\n      <th>odor</th>\n      <th>gill-attachment</th>\n      <th>gill-spacing</th>\n      <th>gill-size</th>\n      <th>gill-color</th>\n      <th>...</th>\n      <th>stalk-surface-above-ring</th>\n      <th>stalk-surface-below-ring</th>\n      <th>stalk-color-above-ring</th>\n      <th>stalk-color-below-ring</th>\n      <th>veil-color</th>\n      <th>ring-number</th>\n      <th>ring-type</th>\n      <th>spore-print-color</th>\n      <th>population</th>\n      <th>habitat</th>\n    </tr>\n  </thead>\n  <tbody>\n    <tr>\n      <th>3984</th>\n      <td>edible</td>\n      <td>convex</td>\n      <td>scaly</td>\n      <td>buff</td>\n      <td>bruises</td>\n      <td>none</td>\n      <td>free</td>\n      <td>close</td>\n      <td>broad</td>\n      <td>red</td>\n      <td>...</td>\n      <td>smooth</td>\n      <td>smooth</td>\n      <td>red</td>\n      <td>white</td>\n      <td>white</td>\n      <td>two</td>\n      <td>evanescent</td>\n      <td>white</td>\n      <td>clustered</td>\n      <td>waste</td>\n    </tr>\n    <tr>\n      <th>4023</th>\n      <td>poisonous</td>\n      <td>convex</td>\n      <td>scaly</td>\n      <td>red</td>\n      <td>no</td>\n      <td>fishy</td>\n      <td>free</td>\n      <td>close</td>\n      <td>narrow</td>\n      <td>buff</td>\n      <td>...</td>\n      <td>silky</td>\n      <td>smooth</td>\n      <td>white</td>\n      <td>white</td>\n      <td>white</td>\n      <td>one</td>\n      <td>evanescent</td>\n      <td>white</td>\n      <td>several</td>\n      <td>paths</td>\n    </tr>\n    <tr>\n      <th>4076</th>\n      <td>edible</td>\n      <td>flat</td>\n      <td>scaly</td>\n      <td>purple</td>\n      <td>no</td>\n      <td>none</td>\n      <td>free</td>\n      <td>close</td>\n      <td>narrow</td>\n      <td>chocolate</td>\n      <td>...</td>\n      <td>smooth</td>\n      <td>fibrous</td>\n      <td>white</td>\n      <td>white</td>\n      <td>white</td>\n      <td>one</td>\n      <td>flaring</td>\n      <td>chocolate</td>\n      <td>solitary</td>\n      <td>woods</td>\n    </tr>\n    <tr>\n      <th>4100</th>\n      <td>poisonous</td>\n      <td>convex</td>\n      <td>scaly</td>\n      <td>red</td>\n      <td>no</td>\n      <td>fishy</td>\n      <td>free</td>\n      <td>close</td>\n      <td>narrow</td>\n      <td>buff</td>\n      <td>...</td>\n      <td>silky</td>\n      <td>smooth</td>\n      <td>pink</td>\n      <td>pink</td>\n      <td>white</td>\n      <td>one</td>\n      <td>evanescent</td>\n      <td>white</td>\n      <td>several</td>\n      <td>woods</td>\n    </tr>\n    <tr>\n      <th>4104</th>\n      <td>poisonous</td>\n      <td>convex</td>\n      <td>scaly</td>\n      <td>brown</td>\n      <td>no</td>\n      <td>foul</td>\n      <td>free</td>\n      <td>close</td>\n      <td>narrow</td>\n      <td>buff</td>\n      <td>...</td>\n      <td>smooth</td>\n      <td>smooth</td>\n      <td>pink</td>\n      <td>pink</td>\n      <td>white</td>\n      <td>one</td>\n      <td>evanescent</td>\n      <td>white</td>\n      <td>several</td>\n      <td>leaves</td>\n    </tr>\n    <tr>\n      <th>...</th>\n      <td>...</td>\n      <td>...</td>\n      <td>...</td>\n      <td>...</td>\n      <td>...</td>\n      <td>...</td>\n      <td>...</td>\n      <td>...</td>\n      <td>...</td>\n      <td>...</td>\n      <td>...</td>\n      <td>...</td>\n      <td>...</td>\n      <td>...</td>\n      <td>...</td>\n      <td>...</td>\n      <td>...</td>\n      <td>...</td>\n      <td>...</td>\n      <td>...</td>\n      <td>...</td>\n    </tr>\n    <tr>\n      <th>8119</th>\n      <td>edible</td>\n      <td>knobbed</td>\n      <td>smooth</td>\n      <td>brown</td>\n      <td>no</td>\n      <td>none</td>\n      <td>attached</td>\n      <td>close</td>\n      <td>broad</td>\n      <td>yellow</td>\n      <td>...</td>\n      <td>smooth</td>\n      <td>smooth</td>\n      <td>orange</td>\n      <td>orange</td>\n      <td>orange</td>\n      <td>one</td>\n      <td>pendant</td>\n      <td>buff</td>\n      <td>clustered</td>\n      <td>leaves</td>\n    </tr>\n    <tr>\n      <th>8120</th>\n      <td>edible</td>\n      <td>convex</td>\n      <td>smooth</td>\n      <td>brown</td>\n      <td>no</td>\n      <td>none</td>\n      <td>attached</td>\n      <td>close</td>\n      <td>broad</td>\n      <td>yellow</td>\n      <td>...</td>\n      <td>smooth</td>\n      <td>smooth</td>\n      <td>orange</td>\n      <td>orange</td>\n      <td>brown</td>\n      <td>one</td>\n      <td>pendant</td>\n      <td>buff</td>\n      <td>several</td>\n      <td>leaves</td>\n    </tr>\n    <tr>\n      <th>8121</th>\n      <td>edible</td>\n      <td>flat</td>\n      <td>smooth</td>\n      <td>brown</td>\n      <td>no</td>\n      <td>none</td>\n      <td>attached</td>\n      <td>close</td>\n      <td>broad</td>\n      <td>brown</td>\n      <td>...</td>\n      <td>smooth</td>\n      <td>smooth</td>\n      <td>orange</td>\n      <td>orange</td>\n      <td>orange</td>\n      <td>one</td>\n      <td>pendant</td>\n      <td>buff</td>\n      <td>clustered</td>\n      <td>leaves</td>\n    </tr>\n    <tr>\n      <th>8122</th>\n      <td>poisonous</td>\n      <td>knobbed</td>\n      <td>scaly</td>\n      <td>brown</td>\n      <td>no</td>\n      <td>fishy</td>\n      <td>free</td>\n      <td>close</td>\n      <td>narrow</td>\n      <td>buff</td>\n      <td>...</td>\n      <td>smooth</td>\n      <td>silky</td>\n      <td>white</td>\n      <td>white</td>\n      <td>white</td>\n      <td>one</td>\n      <td>evanescent</td>\n      <td>white</td>\n      <td>several</td>\n      <td>leaves</td>\n    </tr>\n    <tr>\n      <th>8123</th>\n      <td>edible</td>\n      <td>convex</td>\n      <td>smooth</td>\n      <td>brown</td>\n      <td>no</td>\n      <td>none</td>\n      <td>attached</td>\n      <td>close</td>\n      <td>broad</td>\n      <td>yellow</td>\n      <td>...</td>\n      <td>smooth</td>\n      <td>smooth</td>\n      <td>orange</td>\n      <td>orange</td>\n      <td>orange</td>\n      <td>one</td>\n      <td>pendant</td>\n      <td>orange</td>\n      <td>clustered</td>\n      <td>leaves</td>\n    </tr>\n  </tbody>\n</table>\n<p>2480 rows × 22 columns</p>\n</div>"
     },
     "metadata": {},
     "output_type": "display_data"
    }
   ],
   "source": [
    "# separate known and unknown data\n",
    "unknown_stalk = mushroom['stalk-root'] == 'missing'\n",
    "\n",
    "known_mushroom = mushroom.loc[~unknown_stalk]\n",
    "display(known_mushroom)\n",
    "\n",
    "unknown_mushroom = mushroom.loc[unknown_stalk]\n",
    "display(unknown_mushroom)\n"
   ],
   "metadata": {
    "collapsed": false,
    "pycharm": {
     "name": "#%%\n"
    }
   }
  },
  {
   "cell_type": "markdown",
   "source": [
    "### Preprocessing\n",
    "We are using a label encoder even though the categories are not ordinal.\n",
    "This is due to the fact that we will be using a tree model and tree models have a behavior\n",
    "to perform well with label encoders even when no ordering relationship is present\n",
    "Also save time in not needing to perform one hot encoding and then pca"
   ],
   "metadata": {
    "collapsed": false
   }
  },
  {
   "cell_type": "code",
   "execution_count": 14,
   "outputs": [],
   "source": [
    "# preprocess known mushrooms\n",
    "# also drop class (due to data leakage later in notebook)\n",
    "X = known_mushroom.drop(['stalk-root', 'class'], axis=1)\n",
    "y = known_mushroom[['stalk-root']]"
   ],
   "metadata": {
    "collapsed": false,
    "pycharm": {
     "name": "#%%\n"
    }
   }
  },
  {
   "cell_type": "code",
   "execution_count": 15,
   "outputs": [],
   "source": [
    "X_train, X_test, y_train, y_test = train_test_split(X, y, test_size=0.25, random_state=42)\n"
   ],
   "metadata": {
    "collapsed": false,
    "pycharm": {
     "name": "#%%\n"
    }
   }
  },
  {
   "cell_type": "code",
   "execution_count": 16,
   "outputs": [],
   "source": [
    "X_cols = X_train.columns\n",
    "\n",
    "one_hot_X = OneHotEncoder(handle_unknown='ignore', sparse=False)\n",
    "one_hot_y = OneHotEncoder(handle_unknown='ignore', sparse=False)\n",
    "\n",
    "X_train = one_hot_X.fit_transform(X_train)\n",
    "X_test = one_hot_X.transform(X_test)\n",
    "# X_train = one_hot_X.fit_transform(X_train)\n",
    "# X_test = one_hot_X.transform(X_test)\n",
    "\n",
    "# encode y_train and fit y_test on that encoder\n",
    "y_train = one_hot_y.fit_transform(y_train)\n",
    "y_test = one_hot_y.transform(y_test)"
   ],
   "metadata": {
    "collapsed": false,
    "pycharm": {
     "name": "#%%\n"
    }
   }
  },
  {
   "cell_type": "code",
   "execution_count": 17,
   "outputs": [
    {
     "data": {
      "text/plain": "((4233, 93), (4233, 4))"
     },
     "execution_count": 17,
     "metadata": {},
     "output_type": "execute_result"
    }
   ],
   "source": [
    "X_train.shape, y_train.shape"
   ],
   "metadata": {
    "collapsed": false,
    "pycharm": {
     "name": "#%%\n"
    }
   }
  },
  {
   "cell_type": "code",
   "execution_count": 18,
   "outputs": [],
   "source": [
    "knn_pipe = Pipeline([('rf', KNeighborsClassifier())])\n",
    "knn_param_grid = {}"
   ],
   "metadata": {
    "collapsed": false,
    "pycharm": {
     "name": "#%%\n"
    }
   }
  },
  {
   "cell_type": "code",
   "execution_count": 19,
   "outputs": [
    {
     "data": {
      "text/plain": "GridSearchCV(cv=5, estimator=Pipeline(steps=[('rf', KNeighborsClassifier())]),\n             param_grid={})"
     },
     "execution_count": 19,
     "metadata": {},
     "output_type": "execute_result"
    }
   ],
   "source": [
    "knn_grid = GridSearchCV(knn_pipe, knn_param_grid, cv=5)\n",
    "knn_grid.fit(X_train, y_train)"
   ],
   "metadata": {
    "collapsed": false,
    "pycharm": {
     "name": "#%%\n"
    }
   }
  },
  {
   "cell_type": "code",
   "execution_count": 20,
   "outputs": [],
   "source": [
    "train_std = knn_grid.cv_results_['std_test_score'][knn_grid.best_index_]\n",
    "train_score, test_score = knn_grid.best_score_, knn_grid.score(X_test, y_test)"
   ],
   "metadata": {
    "collapsed": false,
    "pycharm": {
     "name": "#%%\n"
    }
   }
  },
  {
   "cell_type": "code",
   "execution_count": 21,
   "outputs": [
    {
     "name": "stdout",
     "output_type": "stream",
     "text": [
      "train score: 1.0 train std score: 0.0 test score: 1.0\n"
     ]
    }
   ],
   "source": [
    "print('train score:', train_score, 'train std score:', train_std, 'test score:', test_score)"
   ],
   "metadata": {
    "collapsed": false,
    "pycharm": {
     "name": "#%%\n"
    }
   }
  },
  {
   "cell_type": "code",
   "execution_count": 22,
   "outputs": [
    {
     "data": {
      "text/plain": "['../../model/knn_model_for_imputation.sav']"
     },
     "execution_count": 22,
     "metadata": {},
     "output_type": "execute_result"
    }
   ],
   "source": [
    "# save knn_model_for_imputataion\n",
    "knn_model_for_imputation = knn_grid.best_estimator_\n",
    "model_path = r'../../model/knn_model_for_imputation.sav'\n",
    "\n",
    "joblib.dump(knn_model_for_imputation, model_path)"
   ],
   "metadata": {
    "collapsed": false,
    "pycharm": {
     "name": "#%%\n"
    }
   }
  },
  {
   "cell_type": "markdown",
   "source": [
    "# evaluation\n",
    "With the amount of data and strong correlations from earlier I am not as surprised that we are able to score a 100% accuracy\n",
    "* default scoring of accuracy metric was used for random forest\n"
   ],
   "metadata": {
    "collapsed": false
   }
  },
  {
   "cell_type": "code",
   "execution_count": 23,
   "outputs": [],
   "source": [
    "# y_pred = rf_model_for_imputation.predict(X_test)\n",
    "# # confusion_matrix(y_test, y_pred)\n",
    "# # one_hot_y.inverse_transform(y_pred)#%%\n",
    "#\n",
    "# y_labels = np.unique(one_hot_y.inverse_transform(y_test)).tolist()\n",
    "# plt.figure(figsize=(15,15))\n",
    "# plot_confusion_matrix(rf_model_for_imputation, X_test, y_test, display_labels=y_labels, cmap='Blues_r')\n",
    "# plt.show()"
   ],
   "metadata": {
    "collapsed": false,
    "pycharm": {
     "name": "#%%\n"
    }
   }
  },
  {
   "cell_type": "markdown",
   "source": [
    "# Impute values for unknown mushrooms"
   ],
   "metadata": {
    "collapsed": false
   }
  },
  {
   "cell_type": "code",
   "execution_count": 24,
   "outputs": [],
   "source": [
    "X_unknown = unknown_mushroom.drop(['stalk-root', 'class'], axis=1)\n",
    "y_unknown = unknown_mushroom['stalk-root']"
   ],
   "metadata": {
    "collapsed": false,
    "pycharm": {
     "name": "#%%\n"
    }
   }
  },
  {
   "cell_type": "code",
   "execution_count": 25,
   "outputs": [],
   "source": [
    "X_unknown = one_hot_X.transform(X_unknown)"
   ],
   "metadata": {
    "collapsed": false,
    "pycharm": {
     "name": "#%%\n"
    }
   }
  },
  {
   "cell_type": "code",
   "execution_count": 26,
   "outputs": [
    {
     "data": {
      "text/plain": "array([['bulbous'],\n       ['bulbous'],\n       ['equal'],\n       ...,\n       ['equal'],\n       ['bulbous'],\n       ['equal']], dtype=object)"
     },
     "execution_count": 26,
     "metadata": {},
     "output_type": "execute_result"
    }
   ],
   "source": [
    "# Impute values for missing data\n",
    "y_pred_unknown = knn_model_for_imputation.predict(X_unknown)\n",
    "y_pred_unknown = one_hot_y.inverse_transform(y_pred_unknown)\n",
    "y_pred_unknown"
   ],
   "metadata": {
    "collapsed": false,
    "pycharm": {
     "name": "#%%\n"
    }
   }
  },
  {
   "cell_type": "markdown",
   "source": [
    "# Replace missing data with predicted values"
   ],
   "metadata": {
    "collapsed": false
   }
  },
  {
   "cell_type": "code",
   "execution_count": 27,
   "outputs": [
    {
     "data": {
      "text/plain": "array([['bulbous'],\n       ['bulbous'],\n       ['equal'],\n       ...,\n       ['equal'],\n       ['bulbous'],\n       ['equal']], dtype=object)"
     },
     "execution_count": 27,
     "metadata": {},
     "output_type": "execute_result"
    }
   ],
   "source": [
    "y_pred_unknown\n"
   ],
   "metadata": {
    "collapsed": false,
    "pycharm": {
     "name": "#%%\n"
    }
   }
  },
  {
   "cell_type": "code",
   "execution_count": 28,
   "outputs": [
    {
     "data": {
      "text/plain": "          class cap-shape cap-surface cap-color  bruises   odor  \\\n3984     edible    convex       scaly      buff  bruises   none   \n4023  poisonous    convex       scaly       red       no  fishy   \n4076     edible      flat       scaly    purple       no   none   \n4100  poisonous    convex       scaly       red       no  fishy   \n4104  poisonous    convex       scaly     brown       no   foul   \n...         ...       ...         ...       ...      ...    ...   \n8119     edible   knobbed      smooth     brown       no   none   \n8120     edible    convex      smooth     brown       no   none   \n8121     edible      flat      smooth     brown       no   none   \n8122  poisonous   knobbed       scaly     brown       no  fishy   \n8123     edible    convex      smooth     brown       no   none   \n\n     gill-attachment gill-spacing gill-size gill-color  ...  \\\n3984            free        close     broad        red  ...   \n4023            free        close    narrow       buff  ...   \n4076            free        close    narrow  chocolate  ...   \n4100            free        close    narrow       buff  ...   \n4104            free        close    narrow       buff  ...   \n...              ...          ...       ...        ...  ...   \n8119        attached        close     broad     yellow  ...   \n8120        attached        close     broad     yellow  ...   \n8121        attached        close     broad      brown  ...   \n8122            free        close    narrow       buff  ...   \n8123        attached        close     broad     yellow  ...   \n\n     stalk-surface-above-ring stalk-surface-below-ring stalk-color-above-ring  \\\n3984                   smooth                   smooth                    red   \n4023                    silky                   smooth                  white   \n4076                   smooth                  fibrous                  white   \n4100                    silky                   smooth                   pink   \n4104                   smooth                   smooth                   pink   \n...                       ...                      ...                    ...   \n8119                   smooth                   smooth                 orange   \n8120                   smooth                   smooth                 orange   \n8121                   smooth                   smooth                 orange   \n8122                   smooth                    silky                  white   \n8123                   smooth                   smooth                 orange   \n\n     stalk-color-below-ring veil-color ring-number   ring-type  \\\n3984                  white      white         two  evanescent   \n4023                  white      white         one  evanescent   \n4076                  white      white         one     flaring   \n4100                   pink      white         one  evanescent   \n4104                   pink      white         one  evanescent   \n...                     ...        ...         ...         ...   \n8119                 orange     orange         one     pendant   \n8120                 orange      brown         one     pendant   \n8121                 orange     orange         one     pendant   \n8122                  white      white         one  evanescent   \n8123                 orange     orange         one     pendant   \n\n     spore-print-color population habitat  \n3984             white  clustered   waste  \n4023             white    several   paths  \n4076         chocolate   solitary   woods  \n4100             white    several   woods  \n4104             white    several  leaves  \n...                ...        ...     ...  \n8119              buff  clustered  leaves  \n8120              buff    several  leaves  \n8121              buff  clustered  leaves  \n8122             white    several  leaves  \n8123            orange  clustered  leaves  \n\n[2480 rows x 22 columns]",
      "text/html": "<div>\n<style scoped>\n    .dataframe tbody tr th:only-of-type {\n        vertical-align: middle;\n    }\n\n    .dataframe tbody tr th {\n        vertical-align: top;\n    }\n\n    .dataframe thead th {\n        text-align: right;\n    }\n</style>\n<table border=\"1\" class=\"dataframe\">\n  <thead>\n    <tr style=\"text-align: right;\">\n      <th></th>\n      <th>class</th>\n      <th>cap-shape</th>\n      <th>cap-surface</th>\n      <th>cap-color</th>\n      <th>bruises</th>\n      <th>odor</th>\n      <th>gill-attachment</th>\n      <th>gill-spacing</th>\n      <th>gill-size</th>\n      <th>gill-color</th>\n      <th>...</th>\n      <th>stalk-surface-above-ring</th>\n      <th>stalk-surface-below-ring</th>\n      <th>stalk-color-above-ring</th>\n      <th>stalk-color-below-ring</th>\n      <th>veil-color</th>\n      <th>ring-number</th>\n      <th>ring-type</th>\n      <th>spore-print-color</th>\n      <th>population</th>\n      <th>habitat</th>\n    </tr>\n  </thead>\n  <tbody>\n    <tr>\n      <th>3984</th>\n      <td>edible</td>\n      <td>convex</td>\n      <td>scaly</td>\n      <td>buff</td>\n      <td>bruises</td>\n      <td>none</td>\n      <td>free</td>\n      <td>close</td>\n      <td>broad</td>\n      <td>red</td>\n      <td>...</td>\n      <td>smooth</td>\n      <td>smooth</td>\n      <td>red</td>\n      <td>white</td>\n      <td>white</td>\n      <td>two</td>\n      <td>evanescent</td>\n      <td>white</td>\n      <td>clustered</td>\n      <td>waste</td>\n    </tr>\n    <tr>\n      <th>4023</th>\n      <td>poisonous</td>\n      <td>convex</td>\n      <td>scaly</td>\n      <td>red</td>\n      <td>no</td>\n      <td>fishy</td>\n      <td>free</td>\n      <td>close</td>\n      <td>narrow</td>\n      <td>buff</td>\n      <td>...</td>\n      <td>silky</td>\n      <td>smooth</td>\n      <td>white</td>\n      <td>white</td>\n      <td>white</td>\n      <td>one</td>\n      <td>evanescent</td>\n      <td>white</td>\n      <td>several</td>\n      <td>paths</td>\n    </tr>\n    <tr>\n      <th>4076</th>\n      <td>edible</td>\n      <td>flat</td>\n      <td>scaly</td>\n      <td>purple</td>\n      <td>no</td>\n      <td>none</td>\n      <td>free</td>\n      <td>close</td>\n      <td>narrow</td>\n      <td>chocolate</td>\n      <td>...</td>\n      <td>smooth</td>\n      <td>fibrous</td>\n      <td>white</td>\n      <td>white</td>\n      <td>white</td>\n      <td>one</td>\n      <td>flaring</td>\n      <td>chocolate</td>\n      <td>solitary</td>\n      <td>woods</td>\n    </tr>\n    <tr>\n      <th>4100</th>\n      <td>poisonous</td>\n      <td>convex</td>\n      <td>scaly</td>\n      <td>red</td>\n      <td>no</td>\n      <td>fishy</td>\n      <td>free</td>\n      <td>close</td>\n      <td>narrow</td>\n      <td>buff</td>\n      <td>...</td>\n      <td>silky</td>\n      <td>smooth</td>\n      <td>pink</td>\n      <td>pink</td>\n      <td>white</td>\n      <td>one</td>\n      <td>evanescent</td>\n      <td>white</td>\n      <td>several</td>\n      <td>woods</td>\n    </tr>\n    <tr>\n      <th>4104</th>\n      <td>poisonous</td>\n      <td>convex</td>\n      <td>scaly</td>\n      <td>brown</td>\n      <td>no</td>\n      <td>foul</td>\n      <td>free</td>\n      <td>close</td>\n      <td>narrow</td>\n      <td>buff</td>\n      <td>...</td>\n      <td>smooth</td>\n      <td>smooth</td>\n      <td>pink</td>\n      <td>pink</td>\n      <td>white</td>\n      <td>one</td>\n      <td>evanescent</td>\n      <td>white</td>\n      <td>several</td>\n      <td>leaves</td>\n    </tr>\n    <tr>\n      <th>...</th>\n      <td>...</td>\n      <td>...</td>\n      <td>...</td>\n      <td>...</td>\n      <td>...</td>\n      <td>...</td>\n      <td>...</td>\n      <td>...</td>\n      <td>...</td>\n      <td>...</td>\n      <td>...</td>\n      <td>...</td>\n      <td>...</td>\n      <td>...</td>\n      <td>...</td>\n      <td>...</td>\n      <td>...</td>\n      <td>...</td>\n      <td>...</td>\n      <td>...</td>\n      <td>...</td>\n    </tr>\n    <tr>\n      <th>8119</th>\n      <td>edible</td>\n      <td>knobbed</td>\n      <td>smooth</td>\n      <td>brown</td>\n      <td>no</td>\n      <td>none</td>\n      <td>attached</td>\n      <td>close</td>\n      <td>broad</td>\n      <td>yellow</td>\n      <td>...</td>\n      <td>smooth</td>\n      <td>smooth</td>\n      <td>orange</td>\n      <td>orange</td>\n      <td>orange</td>\n      <td>one</td>\n      <td>pendant</td>\n      <td>buff</td>\n      <td>clustered</td>\n      <td>leaves</td>\n    </tr>\n    <tr>\n      <th>8120</th>\n      <td>edible</td>\n      <td>convex</td>\n      <td>smooth</td>\n      <td>brown</td>\n      <td>no</td>\n      <td>none</td>\n      <td>attached</td>\n      <td>close</td>\n      <td>broad</td>\n      <td>yellow</td>\n      <td>...</td>\n      <td>smooth</td>\n      <td>smooth</td>\n      <td>orange</td>\n      <td>orange</td>\n      <td>brown</td>\n      <td>one</td>\n      <td>pendant</td>\n      <td>buff</td>\n      <td>several</td>\n      <td>leaves</td>\n    </tr>\n    <tr>\n      <th>8121</th>\n      <td>edible</td>\n      <td>flat</td>\n      <td>smooth</td>\n      <td>brown</td>\n      <td>no</td>\n      <td>none</td>\n      <td>attached</td>\n      <td>close</td>\n      <td>broad</td>\n      <td>brown</td>\n      <td>...</td>\n      <td>smooth</td>\n      <td>smooth</td>\n      <td>orange</td>\n      <td>orange</td>\n      <td>orange</td>\n      <td>one</td>\n      <td>pendant</td>\n      <td>buff</td>\n      <td>clustered</td>\n      <td>leaves</td>\n    </tr>\n    <tr>\n      <th>8122</th>\n      <td>poisonous</td>\n      <td>knobbed</td>\n      <td>scaly</td>\n      <td>brown</td>\n      <td>no</td>\n      <td>fishy</td>\n      <td>free</td>\n      <td>close</td>\n      <td>narrow</td>\n      <td>buff</td>\n      <td>...</td>\n      <td>smooth</td>\n      <td>silky</td>\n      <td>white</td>\n      <td>white</td>\n      <td>white</td>\n      <td>one</td>\n      <td>evanescent</td>\n      <td>white</td>\n      <td>several</td>\n      <td>leaves</td>\n    </tr>\n    <tr>\n      <th>8123</th>\n      <td>edible</td>\n      <td>convex</td>\n      <td>smooth</td>\n      <td>brown</td>\n      <td>no</td>\n      <td>none</td>\n      <td>attached</td>\n      <td>close</td>\n      <td>broad</td>\n      <td>yellow</td>\n      <td>...</td>\n      <td>smooth</td>\n      <td>smooth</td>\n      <td>orange</td>\n      <td>orange</td>\n      <td>orange</td>\n      <td>one</td>\n      <td>pendant</td>\n      <td>orange</td>\n      <td>clustered</td>\n      <td>leaves</td>\n    </tr>\n  </tbody>\n</table>\n<p>2480 rows × 22 columns</p>\n</div>"
     },
     "execution_count": 28,
     "metadata": {},
     "output_type": "execute_result"
    }
   ],
   "source": [
    "unknown_mushroom['stalk-root'] = y_pred_unknown\n",
    "unknown_mushroom"
   ],
   "metadata": {
    "collapsed": false,
    "pycharm": {
     "name": "#%%\n"
    }
   }
  },
  {
   "cell_type": "code",
   "execution_count": 29,
   "outputs": [
    {
     "data": {
      "text/plain": "13"
     },
     "execution_count": 29,
     "metadata": {},
     "output_type": "execute_result"
    }
   ],
   "source": [
    "unknown_mushroom['stalk-root'].isnull().sum()"
   ],
   "metadata": {
    "collapsed": false,
    "pycharm": {
     "name": "#%%\n"
    }
   }
  },
  {
   "cell_type": "markdown",
   "source": [
    "With KNN classifer we were only narrowed down to 13 None values which is better than our random forest model"
   ],
   "metadata": {
    "collapsed": false,
    "pycharm": {
     "name": "#%% md\n"
    }
   }
  },
  {
   "cell_type": "code",
   "execution_count": 30,
   "outputs": [
    {
     "data": {
      "text/plain": "(array(['equal', 'club', 'bulbous', 'rooted'], dtype=object),\n array(['bulbous', 'equal', 'club', None], dtype=object))"
     },
     "execution_count": 30,
     "metadata": {},
     "output_type": "execute_result"
    }
   ],
   "source": [
    "known_mushroom['stalk-root'].unique(), unknown_mushroom['stalk-root'].unique()"
   ],
   "metadata": {
    "collapsed": false,
    "pycharm": {
     "name": "#%%\n"
    }
   }
  },
  {
   "cell_type": "code",
   "execution_count": 31,
   "outputs": [
    {
     "data": {
      "text/plain": "bulbous    2030\nequal       407\nclub         30\nName: stalk-root, dtype: int64"
     },
     "execution_count": 31,
     "metadata": {},
     "output_type": "execute_result"
    }
   ],
   "source": [
    "unknown_mushroom['stalk-root'].value_counts()"
   ],
   "metadata": {
    "collapsed": false,
    "pycharm": {
     "name": "#%%\n"
    }
   }
  },
  {
   "cell_type": "code",
   "execution_count": 32,
   "outputs": [],
   "source": [
    "unknown_mushroom['stalk-root'] = unknown_mushroom['stalk-root'].astype('string')"
   ],
   "metadata": {
    "collapsed": false,
    "pycharm": {
     "name": "#%%\n"
    }
   }
  },
  {
   "cell_type": "code",
   "execution_count": 33,
   "outputs": [
    {
     "data": {
      "text/plain": "       class cap-shape cap-surface cap-color bruises  odor gill-attachment  \\\n6203  edible   knobbed      smooth     white      no  none            free   \n6396  edible    convex      smooth     white      no  none            free   \n7003  edible    convex      smooth     white      no  none            free   \n7026  edible    convex      smooth     brown      no  none        attached   \n7400  edible      bell     fibrous     white      no  none            free   \n7526  edible    convex      smooth     brown      no  none        attached   \n7584  edible      bell     fibrous     white      no  none            free   \n7623  edible   knobbed      smooth     white      no  none            free   \n7631  edible      bell     fibrous     white      no  none            free   \n7640  edible      bell      smooth     white      no  none            free   \n7725  edible    convex     fibrous     white      no  none            free   \n7748  edible    convex     fibrous     white      no  none            free   \n7960  edible      bell     fibrous     white      no  none            free   \n\n     gill-spacing gill-size gill-color  ... stalk-surface-above-ring  \\\n6203      crowded     broad       gray  ...                    silky   \n6396      crowded     broad       gray  ...                    silky   \n7003      crowded     broad      white  ...                    silky   \n7026        close     broad      brown  ...                   smooth   \n7400      crowded     broad       gray  ...                   smooth   \n7526        close     broad      brown  ...                   smooth   \n7584      crowded     broad       gray  ...                    silky   \n7623      crowded     broad       gray  ...                   smooth   \n7631      crowded     broad      white  ...                    silky   \n7640      crowded     broad       pink  ...                   smooth   \n7725      crowded     broad       gray  ...                   smooth   \n7748      crowded     broad      white  ...                   smooth   \n7960      crowded     broad       gray  ...                    silky   \n\n     stalk-surface-below-ring stalk-color-above-ring stalk-color-below-ring  \\\n6203                   smooth                  white                  white   \n6396                   smooth                  white                  white   \n7003                    silky                  white                  white   \n7026                   smooth                 orange                 orange   \n7400                    silky                  white                  white   \n7526                   smooth                 orange                 orange   \n7584                   smooth                  white                  white   \n7623                   smooth                  white                  white   \n7631                    silky                  white                  white   \n7640                   smooth                  white                  white   \n7725                   smooth                  white                  white   \n7748                    silky                  white                  white   \n7960                    silky                  white                  white   \n\n     veil-color ring-number ring-type spore-print-color population  habitat  \n6203      white         two   pendant             white  scattered  grasses  \n6396      white         two   pendant             white  scattered  grasses  \n7003      white         two   pendant             white  scattered  grasses  \n7026     orange         one   pendant             brown  clustered   leaves  \n7400      white         two   pendant             white  scattered  grasses  \n7526      brown         one   pendant             brown  clustered   leaves  \n7584      white         two   pendant             white  scattered  grasses  \n7623      white         two   pendant             white  scattered  grasses  \n7631      white         two   pendant             white  scattered  grasses  \n7640      white         two   pendant             white  scattered  grasses  \n7725      white         two   pendant             white   numerous  grasses  \n7748      white         two   pendant             white   numerous  grasses  \n7960      white         two   pendant             white  scattered  grasses  \n\n[13 rows x 22 columns]",
      "text/html": "<div>\n<style scoped>\n    .dataframe tbody tr th:only-of-type {\n        vertical-align: middle;\n    }\n\n    .dataframe tbody tr th {\n        vertical-align: top;\n    }\n\n    .dataframe thead th {\n        text-align: right;\n    }\n</style>\n<table border=\"1\" class=\"dataframe\">\n  <thead>\n    <tr style=\"text-align: right;\">\n      <th></th>\n      <th>class</th>\n      <th>cap-shape</th>\n      <th>cap-surface</th>\n      <th>cap-color</th>\n      <th>bruises</th>\n      <th>odor</th>\n      <th>gill-attachment</th>\n      <th>gill-spacing</th>\n      <th>gill-size</th>\n      <th>gill-color</th>\n      <th>...</th>\n      <th>stalk-surface-above-ring</th>\n      <th>stalk-surface-below-ring</th>\n      <th>stalk-color-above-ring</th>\n      <th>stalk-color-below-ring</th>\n      <th>veil-color</th>\n      <th>ring-number</th>\n      <th>ring-type</th>\n      <th>spore-print-color</th>\n      <th>population</th>\n      <th>habitat</th>\n    </tr>\n  </thead>\n  <tbody>\n    <tr>\n      <th>6203</th>\n      <td>edible</td>\n      <td>knobbed</td>\n      <td>smooth</td>\n      <td>white</td>\n      <td>no</td>\n      <td>none</td>\n      <td>free</td>\n      <td>crowded</td>\n      <td>broad</td>\n      <td>gray</td>\n      <td>...</td>\n      <td>silky</td>\n      <td>smooth</td>\n      <td>white</td>\n      <td>white</td>\n      <td>white</td>\n      <td>two</td>\n      <td>pendant</td>\n      <td>white</td>\n      <td>scattered</td>\n      <td>grasses</td>\n    </tr>\n    <tr>\n      <th>6396</th>\n      <td>edible</td>\n      <td>convex</td>\n      <td>smooth</td>\n      <td>white</td>\n      <td>no</td>\n      <td>none</td>\n      <td>free</td>\n      <td>crowded</td>\n      <td>broad</td>\n      <td>gray</td>\n      <td>...</td>\n      <td>silky</td>\n      <td>smooth</td>\n      <td>white</td>\n      <td>white</td>\n      <td>white</td>\n      <td>two</td>\n      <td>pendant</td>\n      <td>white</td>\n      <td>scattered</td>\n      <td>grasses</td>\n    </tr>\n    <tr>\n      <th>7003</th>\n      <td>edible</td>\n      <td>convex</td>\n      <td>smooth</td>\n      <td>white</td>\n      <td>no</td>\n      <td>none</td>\n      <td>free</td>\n      <td>crowded</td>\n      <td>broad</td>\n      <td>white</td>\n      <td>...</td>\n      <td>silky</td>\n      <td>silky</td>\n      <td>white</td>\n      <td>white</td>\n      <td>white</td>\n      <td>two</td>\n      <td>pendant</td>\n      <td>white</td>\n      <td>scattered</td>\n      <td>grasses</td>\n    </tr>\n    <tr>\n      <th>7026</th>\n      <td>edible</td>\n      <td>convex</td>\n      <td>smooth</td>\n      <td>brown</td>\n      <td>no</td>\n      <td>none</td>\n      <td>attached</td>\n      <td>close</td>\n      <td>broad</td>\n      <td>brown</td>\n      <td>...</td>\n      <td>smooth</td>\n      <td>smooth</td>\n      <td>orange</td>\n      <td>orange</td>\n      <td>orange</td>\n      <td>one</td>\n      <td>pendant</td>\n      <td>brown</td>\n      <td>clustered</td>\n      <td>leaves</td>\n    </tr>\n    <tr>\n      <th>7400</th>\n      <td>edible</td>\n      <td>bell</td>\n      <td>fibrous</td>\n      <td>white</td>\n      <td>no</td>\n      <td>none</td>\n      <td>free</td>\n      <td>crowded</td>\n      <td>broad</td>\n      <td>gray</td>\n      <td>...</td>\n      <td>smooth</td>\n      <td>silky</td>\n      <td>white</td>\n      <td>white</td>\n      <td>white</td>\n      <td>two</td>\n      <td>pendant</td>\n      <td>white</td>\n      <td>scattered</td>\n      <td>grasses</td>\n    </tr>\n    <tr>\n      <th>7526</th>\n      <td>edible</td>\n      <td>convex</td>\n      <td>smooth</td>\n      <td>brown</td>\n      <td>no</td>\n      <td>none</td>\n      <td>attached</td>\n      <td>close</td>\n      <td>broad</td>\n      <td>brown</td>\n      <td>...</td>\n      <td>smooth</td>\n      <td>smooth</td>\n      <td>orange</td>\n      <td>orange</td>\n      <td>brown</td>\n      <td>one</td>\n      <td>pendant</td>\n      <td>brown</td>\n      <td>clustered</td>\n      <td>leaves</td>\n    </tr>\n    <tr>\n      <th>7584</th>\n      <td>edible</td>\n      <td>bell</td>\n      <td>fibrous</td>\n      <td>white</td>\n      <td>no</td>\n      <td>none</td>\n      <td>free</td>\n      <td>crowded</td>\n      <td>broad</td>\n      <td>gray</td>\n      <td>...</td>\n      <td>silky</td>\n      <td>smooth</td>\n      <td>white</td>\n      <td>white</td>\n      <td>white</td>\n      <td>two</td>\n      <td>pendant</td>\n      <td>white</td>\n      <td>scattered</td>\n      <td>grasses</td>\n    </tr>\n    <tr>\n      <th>7623</th>\n      <td>edible</td>\n      <td>knobbed</td>\n      <td>smooth</td>\n      <td>white</td>\n      <td>no</td>\n      <td>none</td>\n      <td>free</td>\n      <td>crowded</td>\n      <td>broad</td>\n      <td>gray</td>\n      <td>...</td>\n      <td>smooth</td>\n      <td>smooth</td>\n      <td>white</td>\n      <td>white</td>\n      <td>white</td>\n      <td>two</td>\n      <td>pendant</td>\n      <td>white</td>\n      <td>scattered</td>\n      <td>grasses</td>\n    </tr>\n    <tr>\n      <th>7631</th>\n      <td>edible</td>\n      <td>bell</td>\n      <td>fibrous</td>\n      <td>white</td>\n      <td>no</td>\n      <td>none</td>\n      <td>free</td>\n      <td>crowded</td>\n      <td>broad</td>\n      <td>white</td>\n      <td>...</td>\n      <td>silky</td>\n      <td>silky</td>\n      <td>white</td>\n      <td>white</td>\n      <td>white</td>\n      <td>two</td>\n      <td>pendant</td>\n      <td>white</td>\n      <td>scattered</td>\n      <td>grasses</td>\n    </tr>\n    <tr>\n      <th>7640</th>\n      <td>edible</td>\n      <td>bell</td>\n      <td>smooth</td>\n      <td>white</td>\n      <td>no</td>\n      <td>none</td>\n      <td>free</td>\n      <td>crowded</td>\n      <td>broad</td>\n      <td>pink</td>\n      <td>...</td>\n      <td>smooth</td>\n      <td>smooth</td>\n      <td>white</td>\n      <td>white</td>\n      <td>white</td>\n      <td>two</td>\n      <td>pendant</td>\n      <td>white</td>\n      <td>scattered</td>\n      <td>grasses</td>\n    </tr>\n    <tr>\n      <th>7725</th>\n      <td>edible</td>\n      <td>convex</td>\n      <td>fibrous</td>\n      <td>white</td>\n      <td>no</td>\n      <td>none</td>\n      <td>free</td>\n      <td>crowded</td>\n      <td>broad</td>\n      <td>gray</td>\n      <td>...</td>\n      <td>smooth</td>\n      <td>smooth</td>\n      <td>white</td>\n      <td>white</td>\n      <td>white</td>\n      <td>two</td>\n      <td>pendant</td>\n      <td>white</td>\n      <td>numerous</td>\n      <td>grasses</td>\n    </tr>\n    <tr>\n      <th>7748</th>\n      <td>edible</td>\n      <td>convex</td>\n      <td>fibrous</td>\n      <td>white</td>\n      <td>no</td>\n      <td>none</td>\n      <td>free</td>\n      <td>crowded</td>\n      <td>broad</td>\n      <td>white</td>\n      <td>...</td>\n      <td>smooth</td>\n      <td>silky</td>\n      <td>white</td>\n      <td>white</td>\n      <td>white</td>\n      <td>two</td>\n      <td>pendant</td>\n      <td>white</td>\n      <td>numerous</td>\n      <td>grasses</td>\n    </tr>\n    <tr>\n      <th>7960</th>\n      <td>edible</td>\n      <td>bell</td>\n      <td>fibrous</td>\n      <td>white</td>\n      <td>no</td>\n      <td>none</td>\n      <td>free</td>\n      <td>crowded</td>\n      <td>broad</td>\n      <td>gray</td>\n      <td>...</td>\n      <td>silky</td>\n      <td>silky</td>\n      <td>white</td>\n      <td>white</td>\n      <td>white</td>\n      <td>two</td>\n      <td>pendant</td>\n      <td>white</td>\n      <td>scattered</td>\n      <td>grasses</td>\n    </tr>\n  </tbody>\n</table>\n<p>13 rows × 22 columns</p>\n</div>"
     },
     "execution_count": 33,
     "metadata": {},
     "output_type": "execute_result"
    }
   ],
   "source": [
    "None_mush = unknown_mushroom['stalk-root'].isnull()\n",
    "\n",
    "unknown_mushroom_2 = unknown_mushroom.loc[None_mush]\n",
    "known_mushroom_2 = unknown_mushroom.loc[~None_mush]\n",
    "unknown_mushroom_2"
   ],
   "metadata": {
    "collapsed": false,
    "pycharm": {
     "name": "#%%\n"
    }
   }
  },
  {
   "cell_type": "code",
   "execution_count": 34,
   "outputs": [
    {
     "data": {
      "text/plain": "          class cap-shape cap-surface cap-color  bruises   odor  \\\n3984     edible    convex       scaly      buff  bruises   none   \n4023  poisonous    convex       scaly       red       no  fishy   \n4076     edible      flat       scaly    purple       no   none   \n4100  poisonous    convex       scaly       red       no  fishy   \n4104  poisonous    convex       scaly     brown       no   foul   \n...         ...       ...         ...       ...      ...    ...   \n8119     edible   knobbed      smooth     brown       no   none   \n8120     edible    convex      smooth     brown       no   none   \n8121     edible      flat      smooth     brown       no   none   \n8122  poisonous   knobbed       scaly     brown       no  fishy   \n8123     edible    convex      smooth     brown       no   none   \n\n     gill-attachment gill-spacing gill-size gill-color  ...  \\\n3984            free        close     broad        red  ...   \n4023            free        close    narrow       buff  ...   \n4076            free        close    narrow  chocolate  ...   \n4100            free        close    narrow       buff  ...   \n4104            free        close    narrow       buff  ...   \n...              ...          ...       ...        ...  ...   \n8119        attached        close     broad     yellow  ...   \n8120        attached        close     broad     yellow  ...   \n8121        attached        close     broad      brown  ...   \n8122            free        close    narrow       buff  ...   \n8123        attached        close     broad     yellow  ...   \n\n     stalk-surface-above-ring stalk-surface-below-ring stalk-color-above-ring  \\\n3984                   smooth                   smooth                    red   \n4023                    silky                   smooth                  white   \n4076                   smooth                  fibrous                  white   \n4100                    silky                   smooth                   pink   \n4104                   smooth                   smooth                   pink   \n...                       ...                      ...                    ...   \n8119                   smooth                   smooth                 orange   \n8120                   smooth                   smooth                 orange   \n8121                   smooth                   smooth                 orange   \n8122                   smooth                    silky                  white   \n8123                   smooth                   smooth                 orange   \n\n     stalk-color-below-ring veil-color ring-number   ring-type  \\\n3984                  white      white         two  evanescent   \n4023                  white      white         one  evanescent   \n4076                  white      white         one     flaring   \n4100                   pink      white         one  evanescent   \n4104                   pink      white         one  evanescent   \n...                     ...        ...         ...         ...   \n8119                 orange     orange         one     pendant   \n8120                 orange      brown         one     pendant   \n8121                 orange     orange         one     pendant   \n8122                  white      white         one  evanescent   \n8123                 orange     orange         one     pendant   \n\n     spore-print-color population habitat  \n3984             white  clustered   waste  \n4023             white    several   paths  \n4076         chocolate   solitary   woods  \n4100             white    several   woods  \n4104             white    several  leaves  \n...                ...        ...     ...  \n8119              buff  clustered  leaves  \n8120              buff    several  leaves  \n8121              buff  clustered  leaves  \n8122             white    several  leaves  \n8123            orange  clustered  leaves  \n\n[2467 rows x 22 columns]",
      "text/html": "<div>\n<style scoped>\n    .dataframe tbody tr th:only-of-type {\n        vertical-align: middle;\n    }\n\n    .dataframe tbody tr th {\n        vertical-align: top;\n    }\n\n    .dataframe thead th {\n        text-align: right;\n    }\n</style>\n<table border=\"1\" class=\"dataframe\">\n  <thead>\n    <tr style=\"text-align: right;\">\n      <th></th>\n      <th>class</th>\n      <th>cap-shape</th>\n      <th>cap-surface</th>\n      <th>cap-color</th>\n      <th>bruises</th>\n      <th>odor</th>\n      <th>gill-attachment</th>\n      <th>gill-spacing</th>\n      <th>gill-size</th>\n      <th>gill-color</th>\n      <th>...</th>\n      <th>stalk-surface-above-ring</th>\n      <th>stalk-surface-below-ring</th>\n      <th>stalk-color-above-ring</th>\n      <th>stalk-color-below-ring</th>\n      <th>veil-color</th>\n      <th>ring-number</th>\n      <th>ring-type</th>\n      <th>spore-print-color</th>\n      <th>population</th>\n      <th>habitat</th>\n    </tr>\n  </thead>\n  <tbody>\n    <tr>\n      <th>3984</th>\n      <td>edible</td>\n      <td>convex</td>\n      <td>scaly</td>\n      <td>buff</td>\n      <td>bruises</td>\n      <td>none</td>\n      <td>free</td>\n      <td>close</td>\n      <td>broad</td>\n      <td>red</td>\n      <td>...</td>\n      <td>smooth</td>\n      <td>smooth</td>\n      <td>red</td>\n      <td>white</td>\n      <td>white</td>\n      <td>two</td>\n      <td>evanescent</td>\n      <td>white</td>\n      <td>clustered</td>\n      <td>waste</td>\n    </tr>\n    <tr>\n      <th>4023</th>\n      <td>poisonous</td>\n      <td>convex</td>\n      <td>scaly</td>\n      <td>red</td>\n      <td>no</td>\n      <td>fishy</td>\n      <td>free</td>\n      <td>close</td>\n      <td>narrow</td>\n      <td>buff</td>\n      <td>...</td>\n      <td>silky</td>\n      <td>smooth</td>\n      <td>white</td>\n      <td>white</td>\n      <td>white</td>\n      <td>one</td>\n      <td>evanescent</td>\n      <td>white</td>\n      <td>several</td>\n      <td>paths</td>\n    </tr>\n    <tr>\n      <th>4076</th>\n      <td>edible</td>\n      <td>flat</td>\n      <td>scaly</td>\n      <td>purple</td>\n      <td>no</td>\n      <td>none</td>\n      <td>free</td>\n      <td>close</td>\n      <td>narrow</td>\n      <td>chocolate</td>\n      <td>...</td>\n      <td>smooth</td>\n      <td>fibrous</td>\n      <td>white</td>\n      <td>white</td>\n      <td>white</td>\n      <td>one</td>\n      <td>flaring</td>\n      <td>chocolate</td>\n      <td>solitary</td>\n      <td>woods</td>\n    </tr>\n    <tr>\n      <th>4100</th>\n      <td>poisonous</td>\n      <td>convex</td>\n      <td>scaly</td>\n      <td>red</td>\n      <td>no</td>\n      <td>fishy</td>\n      <td>free</td>\n      <td>close</td>\n      <td>narrow</td>\n      <td>buff</td>\n      <td>...</td>\n      <td>silky</td>\n      <td>smooth</td>\n      <td>pink</td>\n      <td>pink</td>\n      <td>white</td>\n      <td>one</td>\n      <td>evanescent</td>\n      <td>white</td>\n      <td>several</td>\n      <td>woods</td>\n    </tr>\n    <tr>\n      <th>4104</th>\n      <td>poisonous</td>\n      <td>convex</td>\n      <td>scaly</td>\n      <td>brown</td>\n      <td>no</td>\n      <td>foul</td>\n      <td>free</td>\n      <td>close</td>\n      <td>narrow</td>\n      <td>buff</td>\n      <td>...</td>\n      <td>smooth</td>\n      <td>smooth</td>\n      <td>pink</td>\n      <td>pink</td>\n      <td>white</td>\n      <td>one</td>\n      <td>evanescent</td>\n      <td>white</td>\n      <td>several</td>\n      <td>leaves</td>\n    </tr>\n    <tr>\n      <th>...</th>\n      <td>...</td>\n      <td>...</td>\n      <td>...</td>\n      <td>...</td>\n      <td>...</td>\n      <td>...</td>\n      <td>...</td>\n      <td>...</td>\n      <td>...</td>\n      <td>...</td>\n      <td>...</td>\n      <td>...</td>\n      <td>...</td>\n      <td>...</td>\n      <td>...</td>\n      <td>...</td>\n      <td>...</td>\n      <td>...</td>\n      <td>...</td>\n      <td>...</td>\n      <td>...</td>\n    </tr>\n    <tr>\n      <th>8119</th>\n      <td>edible</td>\n      <td>knobbed</td>\n      <td>smooth</td>\n      <td>brown</td>\n      <td>no</td>\n      <td>none</td>\n      <td>attached</td>\n      <td>close</td>\n      <td>broad</td>\n      <td>yellow</td>\n      <td>...</td>\n      <td>smooth</td>\n      <td>smooth</td>\n      <td>orange</td>\n      <td>orange</td>\n      <td>orange</td>\n      <td>one</td>\n      <td>pendant</td>\n      <td>buff</td>\n      <td>clustered</td>\n      <td>leaves</td>\n    </tr>\n    <tr>\n      <th>8120</th>\n      <td>edible</td>\n      <td>convex</td>\n      <td>smooth</td>\n      <td>brown</td>\n      <td>no</td>\n      <td>none</td>\n      <td>attached</td>\n      <td>close</td>\n      <td>broad</td>\n      <td>yellow</td>\n      <td>...</td>\n      <td>smooth</td>\n      <td>smooth</td>\n      <td>orange</td>\n      <td>orange</td>\n      <td>brown</td>\n      <td>one</td>\n      <td>pendant</td>\n      <td>buff</td>\n      <td>several</td>\n      <td>leaves</td>\n    </tr>\n    <tr>\n      <th>8121</th>\n      <td>edible</td>\n      <td>flat</td>\n      <td>smooth</td>\n      <td>brown</td>\n      <td>no</td>\n      <td>none</td>\n      <td>attached</td>\n      <td>close</td>\n      <td>broad</td>\n      <td>brown</td>\n      <td>...</td>\n      <td>smooth</td>\n      <td>smooth</td>\n      <td>orange</td>\n      <td>orange</td>\n      <td>orange</td>\n      <td>one</td>\n      <td>pendant</td>\n      <td>buff</td>\n      <td>clustered</td>\n      <td>leaves</td>\n    </tr>\n    <tr>\n      <th>8122</th>\n      <td>poisonous</td>\n      <td>knobbed</td>\n      <td>scaly</td>\n      <td>brown</td>\n      <td>no</td>\n      <td>fishy</td>\n      <td>free</td>\n      <td>close</td>\n      <td>narrow</td>\n      <td>buff</td>\n      <td>...</td>\n      <td>smooth</td>\n      <td>silky</td>\n      <td>white</td>\n      <td>white</td>\n      <td>white</td>\n      <td>one</td>\n      <td>evanescent</td>\n      <td>white</td>\n      <td>several</td>\n      <td>leaves</td>\n    </tr>\n    <tr>\n      <th>8123</th>\n      <td>edible</td>\n      <td>convex</td>\n      <td>smooth</td>\n      <td>brown</td>\n      <td>no</td>\n      <td>none</td>\n      <td>attached</td>\n      <td>close</td>\n      <td>broad</td>\n      <td>yellow</td>\n      <td>...</td>\n      <td>smooth</td>\n      <td>smooth</td>\n      <td>orange</td>\n      <td>orange</td>\n      <td>orange</td>\n      <td>one</td>\n      <td>pendant</td>\n      <td>orange</td>\n      <td>clustered</td>\n      <td>leaves</td>\n    </tr>\n  </tbody>\n</table>\n<p>2467 rows × 22 columns</p>\n</div>"
     },
     "metadata": {},
     "output_type": "display_data"
    },
    {
     "data": {
      "text/plain": "          class cap-shape cap-surface cap-color  bruises     odor  \\\n0     poisonous    convex      smooth     brown  bruises  pungent   \n1        edible    convex      smooth    yellow  bruises   almond   \n2        edible      bell      smooth     white  bruises    anise   \n3     poisonous    convex       scaly     white  bruises  pungent   \n4        edible    convex      smooth      gray       no     none   \n...         ...       ...         ...       ...      ...      ...   \n7986     edible      bell       scaly     brown       no     none   \n8001     edible    convex       scaly     brown       no     none   \n8038     edible    convex       scaly      gray  bruises     none   \n8095  poisonous    convex       scaly  cinnamon       no    musty   \n8114  poisonous      flat       scaly  cinnamon       no    musty   \n\n     gill-attachment gill-spacing gill-size gill-color  ...  \\\n0               free        close    narrow      black  ...   \n1               free        close     broad      black  ...   \n2               free        close     broad      brown  ...   \n3               free        close    narrow      brown  ...   \n4               free      crowded     broad      black  ...   \n...              ...          ...       ...        ...  ...   \n7986            free        close     broad      white  ...   \n8001            free        close     broad      white  ...   \n8038            free        close     broad      white  ...   \n8095            free        close     broad     yellow  ...   \n8114        attached        close     broad     yellow  ...   \n\n     stalk-surface-above-ring stalk-surface-below-ring stalk-color-above-ring  \\\n0                      smooth                   smooth                  white   \n1                      smooth                   smooth                  white   \n2                      smooth                   smooth                  white   \n3                      smooth                   smooth                  white   \n4                      smooth                   smooth                  white   \n...                       ...                      ...                    ...   \n7986                    scaly                    scaly                  brown   \n8001                    scaly                    scaly                  brown   \n8038                   smooth                   smooth                  white   \n8095                    silky                    scaly               cinnamon   \n8114                    silky                    scaly               cinnamon   \n\n     stalk-color-below-ring veil-color ring-number   ring-type  \\\n0                     white      white         one     pendant   \n1                     white      white         one     pendant   \n2                     white      white         one     pendant   \n3                     white      white         one     pendant   \n4                     white      white         one  evanescent   \n...                     ...        ...         ...         ...   \n7986                  brown      white         two     pendant   \n8001                  brown      white         two     pendant   \n8038                  white      white         two     pendant   \n8095               cinnamon      white        none        none   \n8114               cinnamon      white        none        none   \n\n     spore-print-color population  habitat  \n0                black  scattered    urban  \n1                brown   numerous  grasses  \n2                brown   numerous  meadows  \n3                black  scattered    urban  \n4                brown   abundant  grasses  \n...                ...        ...      ...  \n7986             white   solitary    paths  \n8001             white   solitary    paths  \n8038             white   solitary    paths  \n8095             white  clustered    woods  \n8114             white  clustered    woods  \n\n[5644 rows x 22 columns]",
      "text/html": "<div>\n<style scoped>\n    .dataframe tbody tr th:only-of-type {\n        vertical-align: middle;\n    }\n\n    .dataframe tbody tr th {\n        vertical-align: top;\n    }\n\n    .dataframe thead th {\n        text-align: right;\n    }\n</style>\n<table border=\"1\" class=\"dataframe\">\n  <thead>\n    <tr style=\"text-align: right;\">\n      <th></th>\n      <th>class</th>\n      <th>cap-shape</th>\n      <th>cap-surface</th>\n      <th>cap-color</th>\n      <th>bruises</th>\n      <th>odor</th>\n      <th>gill-attachment</th>\n      <th>gill-spacing</th>\n      <th>gill-size</th>\n      <th>gill-color</th>\n      <th>...</th>\n      <th>stalk-surface-above-ring</th>\n      <th>stalk-surface-below-ring</th>\n      <th>stalk-color-above-ring</th>\n      <th>stalk-color-below-ring</th>\n      <th>veil-color</th>\n      <th>ring-number</th>\n      <th>ring-type</th>\n      <th>spore-print-color</th>\n      <th>population</th>\n      <th>habitat</th>\n    </tr>\n  </thead>\n  <tbody>\n    <tr>\n      <th>0</th>\n      <td>poisonous</td>\n      <td>convex</td>\n      <td>smooth</td>\n      <td>brown</td>\n      <td>bruises</td>\n      <td>pungent</td>\n      <td>free</td>\n      <td>close</td>\n      <td>narrow</td>\n      <td>black</td>\n      <td>...</td>\n      <td>smooth</td>\n      <td>smooth</td>\n      <td>white</td>\n      <td>white</td>\n      <td>white</td>\n      <td>one</td>\n      <td>pendant</td>\n      <td>black</td>\n      <td>scattered</td>\n      <td>urban</td>\n    </tr>\n    <tr>\n      <th>1</th>\n      <td>edible</td>\n      <td>convex</td>\n      <td>smooth</td>\n      <td>yellow</td>\n      <td>bruises</td>\n      <td>almond</td>\n      <td>free</td>\n      <td>close</td>\n      <td>broad</td>\n      <td>black</td>\n      <td>...</td>\n      <td>smooth</td>\n      <td>smooth</td>\n      <td>white</td>\n      <td>white</td>\n      <td>white</td>\n      <td>one</td>\n      <td>pendant</td>\n      <td>brown</td>\n      <td>numerous</td>\n      <td>grasses</td>\n    </tr>\n    <tr>\n      <th>2</th>\n      <td>edible</td>\n      <td>bell</td>\n      <td>smooth</td>\n      <td>white</td>\n      <td>bruises</td>\n      <td>anise</td>\n      <td>free</td>\n      <td>close</td>\n      <td>broad</td>\n      <td>brown</td>\n      <td>...</td>\n      <td>smooth</td>\n      <td>smooth</td>\n      <td>white</td>\n      <td>white</td>\n      <td>white</td>\n      <td>one</td>\n      <td>pendant</td>\n      <td>brown</td>\n      <td>numerous</td>\n      <td>meadows</td>\n    </tr>\n    <tr>\n      <th>3</th>\n      <td>poisonous</td>\n      <td>convex</td>\n      <td>scaly</td>\n      <td>white</td>\n      <td>bruises</td>\n      <td>pungent</td>\n      <td>free</td>\n      <td>close</td>\n      <td>narrow</td>\n      <td>brown</td>\n      <td>...</td>\n      <td>smooth</td>\n      <td>smooth</td>\n      <td>white</td>\n      <td>white</td>\n      <td>white</td>\n      <td>one</td>\n      <td>pendant</td>\n      <td>black</td>\n      <td>scattered</td>\n      <td>urban</td>\n    </tr>\n    <tr>\n      <th>4</th>\n      <td>edible</td>\n      <td>convex</td>\n      <td>smooth</td>\n      <td>gray</td>\n      <td>no</td>\n      <td>none</td>\n      <td>free</td>\n      <td>crowded</td>\n      <td>broad</td>\n      <td>black</td>\n      <td>...</td>\n      <td>smooth</td>\n      <td>smooth</td>\n      <td>white</td>\n      <td>white</td>\n      <td>white</td>\n      <td>one</td>\n      <td>evanescent</td>\n      <td>brown</td>\n      <td>abundant</td>\n      <td>grasses</td>\n    </tr>\n    <tr>\n      <th>...</th>\n      <td>...</td>\n      <td>...</td>\n      <td>...</td>\n      <td>...</td>\n      <td>...</td>\n      <td>...</td>\n      <td>...</td>\n      <td>...</td>\n      <td>...</td>\n      <td>...</td>\n      <td>...</td>\n      <td>...</td>\n      <td>...</td>\n      <td>...</td>\n      <td>...</td>\n      <td>...</td>\n      <td>...</td>\n      <td>...</td>\n      <td>...</td>\n      <td>...</td>\n      <td>...</td>\n    </tr>\n    <tr>\n      <th>7986</th>\n      <td>edible</td>\n      <td>bell</td>\n      <td>scaly</td>\n      <td>brown</td>\n      <td>no</td>\n      <td>none</td>\n      <td>free</td>\n      <td>close</td>\n      <td>broad</td>\n      <td>white</td>\n      <td>...</td>\n      <td>scaly</td>\n      <td>scaly</td>\n      <td>brown</td>\n      <td>brown</td>\n      <td>white</td>\n      <td>two</td>\n      <td>pendant</td>\n      <td>white</td>\n      <td>solitary</td>\n      <td>paths</td>\n    </tr>\n    <tr>\n      <th>8001</th>\n      <td>edible</td>\n      <td>convex</td>\n      <td>scaly</td>\n      <td>brown</td>\n      <td>no</td>\n      <td>none</td>\n      <td>free</td>\n      <td>close</td>\n      <td>broad</td>\n      <td>white</td>\n      <td>...</td>\n      <td>scaly</td>\n      <td>scaly</td>\n      <td>brown</td>\n      <td>brown</td>\n      <td>white</td>\n      <td>two</td>\n      <td>pendant</td>\n      <td>white</td>\n      <td>solitary</td>\n      <td>paths</td>\n    </tr>\n    <tr>\n      <th>8038</th>\n      <td>edible</td>\n      <td>convex</td>\n      <td>scaly</td>\n      <td>gray</td>\n      <td>bruises</td>\n      <td>none</td>\n      <td>free</td>\n      <td>close</td>\n      <td>broad</td>\n      <td>white</td>\n      <td>...</td>\n      <td>smooth</td>\n      <td>smooth</td>\n      <td>white</td>\n      <td>white</td>\n      <td>white</td>\n      <td>two</td>\n      <td>pendant</td>\n      <td>white</td>\n      <td>solitary</td>\n      <td>paths</td>\n    </tr>\n    <tr>\n      <th>8095</th>\n      <td>poisonous</td>\n      <td>convex</td>\n      <td>scaly</td>\n      <td>cinnamon</td>\n      <td>no</td>\n      <td>musty</td>\n      <td>free</td>\n      <td>close</td>\n      <td>broad</td>\n      <td>yellow</td>\n      <td>...</td>\n      <td>silky</td>\n      <td>scaly</td>\n      <td>cinnamon</td>\n      <td>cinnamon</td>\n      <td>white</td>\n      <td>none</td>\n      <td>none</td>\n      <td>white</td>\n      <td>clustered</td>\n      <td>woods</td>\n    </tr>\n    <tr>\n      <th>8114</th>\n      <td>poisonous</td>\n      <td>flat</td>\n      <td>scaly</td>\n      <td>cinnamon</td>\n      <td>no</td>\n      <td>musty</td>\n      <td>attached</td>\n      <td>close</td>\n      <td>broad</td>\n      <td>yellow</td>\n      <td>...</td>\n      <td>silky</td>\n      <td>scaly</td>\n      <td>cinnamon</td>\n      <td>cinnamon</td>\n      <td>white</td>\n      <td>none</td>\n      <td>none</td>\n      <td>white</td>\n      <td>clustered</td>\n      <td>woods</td>\n    </tr>\n  </tbody>\n</table>\n<p>5644 rows × 22 columns</p>\n</div>"
     },
     "metadata": {},
     "output_type": "display_data"
    }
   ],
   "source": [
    "display(known_mushroom_2)\n",
    "display(known_mushroom)\n"
   ],
   "metadata": {
    "collapsed": false,
    "pycharm": {
     "name": "#%%\n"
    }
   }
  },
  {
   "cell_type": "code",
   "execution_count": 35,
   "outputs": [
    {
     "data": {
      "text/plain": "          class cap-shape cap-surface cap-color  bruises     odor  \\\n0     poisonous    convex      smooth     brown  bruises  pungent   \n1        edible    convex      smooth    yellow  bruises   almond   \n2        edible      bell      smooth     white  bruises    anise   \n3     poisonous    convex       scaly     white  bruises  pungent   \n4        edible    convex      smooth      gray       no     none   \n...         ...       ...         ...       ...      ...      ...   \n8119     edible   knobbed      smooth     brown       no     none   \n8120     edible    convex      smooth     brown       no     none   \n8121     edible      flat      smooth     brown       no     none   \n8122  poisonous   knobbed       scaly     brown       no    fishy   \n8123     edible    convex      smooth     brown       no     none   \n\n     gill-attachment gill-spacing gill-size gill-color  ...  \\\n0               free        close    narrow      black  ...   \n1               free        close     broad      black  ...   \n2               free        close     broad      brown  ...   \n3               free        close    narrow      brown  ...   \n4               free      crowded     broad      black  ...   \n...              ...          ...       ...        ...  ...   \n8119        attached        close     broad     yellow  ...   \n8120        attached        close     broad     yellow  ...   \n8121        attached        close     broad      brown  ...   \n8122            free        close    narrow       buff  ...   \n8123        attached        close     broad     yellow  ...   \n\n     stalk-surface-above-ring stalk-surface-below-ring stalk-color-above-ring  \\\n0                      smooth                   smooth                  white   \n1                      smooth                   smooth                  white   \n2                      smooth                   smooth                  white   \n3                      smooth                   smooth                  white   \n4                      smooth                   smooth                  white   \n...                       ...                      ...                    ...   \n8119                   smooth                   smooth                 orange   \n8120                   smooth                   smooth                 orange   \n8121                   smooth                   smooth                 orange   \n8122                   smooth                    silky                  white   \n8123                   smooth                   smooth                 orange   \n\n     stalk-color-below-ring veil-color ring-number   ring-type  \\\n0                     white      white         one     pendant   \n1                     white      white         one     pendant   \n2                     white      white         one     pendant   \n3                     white      white         one     pendant   \n4                     white      white         one  evanescent   \n...                     ...        ...         ...         ...   \n8119                 orange     orange         one     pendant   \n8120                 orange      brown         one     pendant   \n8121                 orange     orange         one     pendant   \n8122                  white      white         one  evanescent   \n8123                 orange     orange         one     pendant   \n\n     spore-print-color population  habitat  \n0                black  scattered    urban  \n1                brown   numerous  grasses  \n2                brown   numerous  meadows  \n3                black  scattered    urban  \n4                brown   abundant  grasses  \n...                ...        ...      ...  \n8119              buff  clustered   leaves  \n8120              buff    several   leaves  \n8121              buff  clustered   leaves  \n8122             white    several   leaves  \n8123            orange  clustered   leaves  \n\n[8111 rows x 22 columns]",
      "text/html": "<div>\n<style scoped>\n    .dataframe tbody tr th:only-of-type {\n        vertical-align: middle;\n    }\n\n    .dataframe tbody tr th {\n        vertical-align: top;\n    }\n\n    .dataframe thead th {\n        text-align: right;\n    }\n</style>\n<table border=\"1\" class=\"dataframe\">\n  <thead>\n    <tr style=\"text-align: right;\">\n      <th></th>\n      <th>class</th>\n      <th>cap-shape</th>\n      <th>cap-surface</th>\n      <th>cap-color</th>\n      <th>bruises</th>\n      <th>odor</th>\n      <th>gill-attachment</th>\n      <th>gill-spacing</th>\n      <th>gill-size</th>\n      <th>gill-color</th>\n      <th>...</th>\n      <th>stalk-surface-above-ring</th>\n      <th>stalk-surface-below-ring</th>\n      <th>stalk-color-above-ring</th>\n      <th>stalk-color-below-ring</th>\n      <th>veil-color</th>\n      <th>ring-number</th>\n      <th>ring-type</th>\n      <th>spore-print-color</th>\n      <th>population</th>\n      <th>habitat</th>\n    </tr>\n  </thead>\n  <tbody>\n    <tr>\n      <th>0</th>\n      <td>poisonous</td>\n      <td>convex</td>\n      <td>smooth</td>\n      <td>brown</td>\n      <td>bruises</td>\n      <td>pungent</td>\n      <td>free</td>\n      <td>close</td>\n      <td>narrow</td>\n      <td>black</td>\n      <td>...</td>\n      <td>smooth</td>\n      <td>smooth</td>\n      <td>white</td>\n      <td>white</td>\n      <td>white</td>\n      <td>one</td>\n      <td>pendant</td>\n      <td>black</td>\n      <td>scattered</td>\n      <td>urban</td>\n    </tr>\n    <tr>\n      <th>1</th>\n      <td>edible</td>\n      <td>convex</td>\n      <td>smooth</td>\n      <td>yellow</td>\n      <td>bruises</td>\n      <td>almond</td>\n      <td>free</td>\n      <td>close</td>\n      <td>broad</td>\n      <td>black</td>\n      <td>...</td>\n      <td>smooth</td>\n      <td>smooth</td>\n      <td>white</td>\n      <td>white</td>\n      <td>white</td>\n      <td>one</td>\n      <td>pendant</td>\n      <td>brown</td>\n      <td>numerous</td>\n      <td>grasses</td>\n    </tr>\n    <tr>\n      <th>2</th>\n      <td>edible</td>\n      <td>bell</td>\n      <td>smooth</td>\n      <td>white</td>\n      <td>bruises</td>\n      <td>anise</td>\n      <td>free</td>\n      <td>close</td>\n      <td>broad</td>\n      <td>brown</td>\n      <td>...</td>\n      <td>smooth</td>\n      <td>smooth</td>\n      <td>white</td>\n      <td>white</td>\n      <td>white</td>\n      <td>one</td>\n      <td>pendant</td>\n      <td>brown</td>\n      <td>numerous</td>\n      <td>meadows</td>\n    </tr>\n    <tr>\n      <th>3</th>\n      <td>poisonous</td>\n      <td>convex</td>\n      <td>scaly</td>\n      <td>white</td>\n      <td>bruises</td>\n      <td>pungent</td>\n      <td>free</td>\n      <td>close</td>\n      <td>narrow</td>\n      <td>brown</td>\n      <td>...</td>\n      <td>smooth</td>\n      <td>smooth</td>\n      <td>white</td>\n      <td>white</td>\n      <td>white</td>\n      <td>one</td>\n      <td>pendant</td>\n      <td>black</td>\n      <td>scattered</td>\n      <td>urban</td>\n    </tr>\n    <tr>\n      <th>4</th>\n      <td>edible</td>\n      <td>convex</td>\n      <td>smooth</td>\n      <td>gray</td>\n      <td>no</td>\n      <td>none</td>\n      <td>free</td>\n      <td>crowded</td>\n      <td>broad</td>\n      <td>black</td>\n      <td>...</td>\n      <td>smooth</td>\n      <td>smooth</td>\n      <td>white</td>\n      <td>white</td>\n      <td>white</td>\n      <td>one</td>\n      <td>evanescent</td>\n      <td>brown</td>\n      <td>abundant</td>\n      <td>grasses</td>\n    </tr>\n    <tr>\n      <th>...</th>\n      <td>...</td>\n      <td>...</td>\n      <td>...</td>\n      <td>...</td>\n      <td>...</td>\n      <td>...</td>\n      <td>...</td>\n      <td>...</td>\n      <td>...</td>\n      <td>...</td>\n      <td>...</td>\n      <td>...</td>\n      <td>...</td>\n      <td>...</td>\n      <td>...</td>\n      <td>...</td>\n      <td>...</td>\n      <td>...</td>\n      <td>...</td>\n      <td>...</td>\n      <td>...</td>\n    </tr>\n    <tr>\n      <th>8119</th>\n      <td>edible</td>\n      <td>knobbed</td>\n      <td>smooth</td>\n      <td>brown</td>\n      <td>no</td>\n      <td>none</td>\n      <td>attached</td>\n      <td>close</td>\n      <td>broad</td>\n      <td>yellow</td>\n      <td>...</td>\n      <td>smooth</td>\n      <td>smooth</td>\n      <td>orange</td>\n      <td>orange</td>\n      <td>orange</td>\n      <td>one</td>\n      <td>pendant</td>\n      <td>buff</td>\n      <td>clustered</td>\n      <td>leaves</td>\n    </tr>\n    <tr>\n      <th>8120</th>\n      <td>edible</td>\n      <td>convex</td>\n      <td>smooth</td>\n      <td>brown</td>\n      <td>no</td>\n      <td>none</td>\n      <td>attached</td>\n      <td>close</td>\n      <td>broad</td>\n      <td>yellow</td>\n      <td>...</td>\n      <td>smooth</td>\n      <td>smooth</td>\n      <td>orange</td>\n      <td>orange</td>\n      <td>brown</td>\n      <td>one</td>\n      <td>pendant</td>\n      <td>buff</td>\n      <td>several</td>\n      <td>leaves</td>\n    </tr>\n    <tr>\n      <th>8121</th>\n      <td>edible</td>\n      <td>flat</td>\n      <td>smooth</td>\n      <td>brown</td>\n      <td>no</td>\n      <td>none</td>\n      <td>attached</td>\n      <td>close</td>\n      <td>broad</td>\n      <td>brown</td>\n      <td>...</td>\n      <td>smooth</td>\n      <td>smooth</td>\n      <td>orange</td>\n      <td>orange</td>\n      <td>orange</td>\n      <td>one</td>\n      <td>pendant</td>\n      <td>buff</td>\n      <td>clustered</td>\n      <td>leaves</td>\n    </tr>\n    <tr>\n      <th>8122</th>\n      <td>poisonous</td>\n      <td>knobbed</td>\n      <td>scaly</td>\n      <td>brown</td>\n      <td>no</td>\n      <td>fishy</td>\n      <td>free</td>\n      <td>close</td>\n      <td>narrow</td>\n      <td>buff</td>\n      <td>...</td>\n      <td>smooth</td>\n      <td>silky</td>\n      <td>white</td>\n      <td>white</td>\n      <td>white</td>\n      <td>one</td>\n      <td>evanescent</td>\n      <td>white</td>\n      <td>several</td>\n      <td>leaves</td>\n    </tr>\n    <tr>\n      <th>8123</th>\n      <td>edible</td>\n      <td>convex</td>\n      <td>smooth</td>\n      <td>brown</td>\n      <td>no</td>\n      <td>none</td>\n      <td>attached</td>\n      <td>close</td>\n      <td>broad</td>\n      <td>yellow</td>\n      <td>...</td>\n      <td>smooth</td>\n      <td>smooth</td>\n      <td>orange</td>\n      <td>orange</td>\n      <td>orange</td>\n      <td>one</td>\n      <td>pendant</td>\n      <td>orange</td>\n      <td>clustered</td>\n      <td>leaves</td>\n    </tr>\n  </tbody>\n</table>\n<p>8111 rows × 22 columns</p>\n</div>"
     },
     "execution_count": 35,
     "metadata": {},
     "output_type": "execute_result"
    }
   ],
   "source": [
    "known_mushroom = known_mushroom.append(known_mushroom_2)\n",
    "known_mushroom"
   ],
   "metadata": {
    "collapsed": false,
    "pycharm": {
     "name": "#%%\n"
    }
   }
  },
  {
   "cell_type": "markdown",
   "source": [
    "# impute with added data\n",
    "* repeat same steps to predict missing data\n"
   ],
   "metadata": {
    "collapsed": false
   }
  },
  {
   "cell_type": "code",
   "execution_count": 36,
   "outputs": [],
   "source": [
    "# preprocess updated known mushrooms\n",
    "# also drop class (due to data leakage later in notebook)\n",
    "X = known_mushroom.drop(['stalk-root', 'class'], axis=1)\n",
    "y = known_mushroom[['stalk-root']]"
   ],
   "metadata": {
    "collapsed": false,
    "pycharm": {
     "name": "#%%\n"
    }
   }
  },
  {
   "cell_type": "code",
   "execution_count": 37,
   "outputs": [],
   "source": [
    "X_train, X_test, y_train, y_test = train_test_split(X, y, test_size=0.25, random_state=42)\n"
   ],
   "metadata": {
    "collapsed": false,
    "pycharm": {
     "name": "#%%\n"
    }
   }
  },
  {
   "cell_type": "code",
   "execution_count": 38,
   "outputs": [],
   "source": [
    "X_cols = X_train.columns\n",
    "\n",
    "one_hot_X = OneHotEncoder(handle_unknown='ignore', sparse=False)\n",
    "one_hot_y = OneHotEncoder(handle_unknown='ignore', sparse=False)\n",
    "\n",
    "X_train = one_hot_X.fit_transform(X_train)\n",
    "X_test = one_hot_X.transform(X_test)\n",
    "# X_train = one_hot_X.fit_transform(X_train)\n",
    "# X_test = one_hot_X.transform(X_test)\n",
    "\n",
    "# encode y_train and fit y_test on that encoder\n",
    "y_train = one_hot_y.fit_transform(y_train)\n",
    "y_test = one_hot_y.transform(y_test)"
   ],
   "metadata": {
    "collapsed": false,
    "pycharm": {
     "name": "#%%\n"
    }
   }
  },
  {
   "cell_type": "code",
   "execution_count": 39,
   "outputs": [
    {
     "data": {
      "text/plain": "((6083, 111), (6083, 4))"
     },
     "execution_count": 39,
     "metadata": {},
     "output_type": "execute_result"
    }
   ],
   "source": [
    "X_train.shape, y_train.shape"
   ],
   "metadata": {
    "collapsed": false,
    "pycharm": {
     "name": "#%%\n"
    }
   }
  },
  {
   "cell_type": "code",
   "execution_count": 40,
   "outputs": [
    {
     "data": {
      "text/plain": "GridSearchCV(cv=5, estimator=Pipeline(steps=[('rf', KNeighborsClassifier())]),\n             param_grid={})"
     },
     "execution_count": 40,
     "metadata": {},
     "output_type": "execute_result"
    }
   ],
   "source": [
    "knn_grid_2 = GridSearchCV(knn_pipe, knn_param_grid, cv=5)\n",
    "knn_grid_2.fit(X_train, y_train)"
   ],
   "metadata": {
    "collapsed": false,
    "pycharm": {
     "name": "#%%\n"
    }
   }
  },
  {
   "cell_type": "code",
   "execution_count": 41,
   "outputs": [],
   "source": [
    "train_std = knn_grid_2.cv_results_['std_test_score'][knn_grid_2.best_index_]\n",
    "train_score, test_score = knn_grid_2.best_score_, knn_grid_2.score(X_test, y_test)"
   ],
   "metadata": {
    "collapsed": false,
    "pycharm": {
     "name": "#%%\n"
    }
   }
  },
  {
   "cell_type": "code",
   "execution_count": 42,
   "outputs": [
    {
     "name": "stdout",
     "output_type": "stream",
     "text": [
      "train score: 0.9871775396791074 train std score: 0.003311333746172482 test score: 0.985207100591716\n"
     ]
    }
   ],
   "source": [
    "print('train score:', train_score, 'train std score:', train_std, 'test score:', test_score)"
   ],
   "metadata": {
    "collapsed": false,
    "pycharm": {
     "name": "#%%\n"
    }
   }
  },
  {
   "cell_type": "code",
   "execution_count": 43,
   "outputs": [
    {
     "data": {
      "text/plain": "['../../model/knn_model_for_imputation_3.sav']"
     },
     "execution_count": 43,
     "metadata": {},
     "output_type": "execute_result"
    }
   ],
   "source": [
    "# save knn_model_for_imputataion\n",
    "knn_model_for_imputation_2 = knn_grid_2.best_estimator_\n",
    "model_path = r'../../model/knn_model_for_imputation_3.sav'\n",
    "\n",
    "joblib.dump(knn_model_for_imputation_2, model_path)"
   ],
   "metadata": {
    "collapsed": false,
    "pycharm": {
     "name": "#%%\n"
    }
   }
  },
  {
   "cell_type": "markdown",
   "source": [
    "## With imputed predicted values our score actually drop, perhaps the predictions were not as accurate?\n"
   ],
   "metadata": {
    "collapsed": false
   }
  },
  {
   "cell_type": "code",
   "execution_count": 44,
   "outputs": [
    {
     "data": {
      "text/plain": "       class cap-shape cap-surface cap-color bruises  odor gill-attachment  \\\n6203  edible   knobbed      smooth     white      no  none            free   \n6396  edible    convex      smooth     white      no  none            free   \n7003  edible    convex      smooth     white      no  none            free   \n7026  edible    convex      smooth     brown      no  none        attached   \n7400  edible      bell     fibrous     white      no  none            free   \n7526  edible    convex      smooth     brown      no  none        attached   \n7584  edible      bell     fibrous     white      no  none            free   \n7623  edible   knobbed      smooth     white      no  none            free   \n7631  edible      bell     fibrous     white      no  none            free   \n7640  edible      bell      smooth     white      no  none            free   \n7725  edible    convex     fibrous     white      no  none            free   \n7748  edible    convex     fibrous     white      no  none            free   \n7960  edible      bell     fibrous     white      no  none            free   \n\n     gill-spacing gill-size gill-color  ... stalk-surface-above-ring  \\\n6203      crowded     broad       gray  ...                    silky   \n6396      crowded     broad       gray  ...                    silky   \n7003      crowded     broad      white  ...                    silky   \n7026        close     broad      brown  ...                   smooth   \n7400      crowded     broad       gray  ...                   smooth   \n7526        close     broad      brown  ...                   smooth   \n7584      crowded     broad       gray  ...                    silky   \n7623      crowded     broad       gray  ...                   smooth   \n7631      crowded     broad      white  ...                    silky   \n7640      crowded     broad       pink  ...                   smooth   \n7725      crowded     broad       gray  ...                   smooth   \n7748      crowded     broad      white  ...                   smooth   \n7960      crowded     broad       gray  ...                    silky   \n\n     stalk-surface-below-ring stalk-color-above-ring stalk-color-below-ring  \\\n6203                   smooth                  white                  white   \n6396                   smooth                  white                  white   \n7003                    silky                  white                  white   \n7026                   smooth                 orange                 orange   \n7400                    silky                  white                  white   \n7526                   smooth                 orange                 orange   \n7584                   smooth                  white                  white   \n7623                   smooth                  white                  white   \n7631                    silky                  white                  white   \n7640                   smooth                  white                  white   \n7725                   smooth                  white                  white   \n7748                    silky                  white                  white   \n7960                    silky                  white                  white   \n\n     veil-color ring-number ring-type spore-print-color population  habitat  \n6203      white         two   pendant             white  scattered  grasses  \n6396      white         two   pendant             white  scattered  grasses  \n7003      white         two   pendant             white  scattered  grasses  \n7026     orange         one   pendant             brown  clustered   leaves  \n7400      white         two   pendant             white  scattered  grasses  \n7526      brown         one   pendant             brown  clustered   leaves  \n7584      white         two   pendant             white  scattered  grasses  \n7623      white         two   pendant             white  scattered  grasses  \n7631      white         two   pendant             white  scattered  grasses  \n7640      white         two   pendant             white  scattered  grasses  \n7725      white         two   pendant             white   numerous  grasses  \n7748      white         two   pendant             white   numerous  grasses  \n7960      white         two   pendant             white  scattered  grasses  \n\n[13 rows x 22 columns]",
      "text/html": "<div>\n<style scoped>\n    .dataframe tbody tr th:only-of-type {\n        vertical-align: middle;\n    }\n\n    .dataframe tbody tr th {\n        vertical-align: top;\n    }\n\n    .dataframe thead th {\n        text-align: right;\n    }\n</style>\n<table border=\"1\" class=\"dataframe\">\n  <thead>\n    <tr style=\"text-align: right;\">\n      <th></th>\n      <th>class</th>\n      <th>cap-shape</th>\n      <th>cap-surface</th>\n      <th>cap-color</th>\n      <th>bruises</th>\n      <th>odor</th>\n      <th>gill-attachment</th>\n      <th>gill-spacing</th>\n      <th>gill-size</th>\n      <th>gill-color</th>\n      <th>...</th>\n      <th>stalk-surface-above-ring</th>\n      <th>stalk-surface-below-ring</th>\n      <th>stalk-color-above-ring</th>\n      <th>stalk-color-below-ring</th>\n      <th>veil-color</th>\n      <th>ring-number</th>\n      <th>ring-type</th>\n      <th>spore-print-color</th>\n      <th>population</th>\n      <th>habitat</th>\n    </tr>\n  </thead>\n  <tbody>\n    <tr>\n      <th>6203</th>\n      <td>edible</td>\n      <td>knobbed</td>\n      <td>smooth</td>\n      <td>white</td>\n      <td>no</td>\n      <td>none</td>\n      <td>free</td>\n      <td>crowded</td>\n      <td>broad</td>\n      <td>gray</td>\n      <td>...</td>\n      <td>silky</td>\n      <td>smooth</td>\n      <td>white</td>\n      <td>white</td>\n      <td>white</td>\n      <td>two</td>\n      <td>pendant</td>\n      <td>white</td>\n      <td>scattered</td>\n      <td>grasses</td>\n    </tr>\n    <tr>\n      <th>6396</th>\n      <td>edible</td>\n      <td>convex</td>\n      <td>smooth</td>\n      <td>white</td>\n      <td>no</td>\n      <td>none</td>\n      <td>free</td>\n      <td>crowded</td>\n      <td>broad</td>\n      <td>gray</td>\n      <td>...</td>\n      <td>silky</td>\n      <td>smooth</td>\n      <td>white</td>\n      <td>white</td>\n      <td>white</td>\n      <td>two</td>\n      <td>pendant</td>\n      <td>white</td>\n      <td>scattered</td>\n      <td>grasses</td>\n    </tr>\n    <tr>\n      <th>7003</th>\n      <td>edible</td>\n      <td>convex</td>\n      <td>smooth</td>\n      <td>white</td>\n      <td>no</td>\n      <td>none</td>\n      <td>free</td>\n      <td>crowded</td>\n      <td>broad</td>\n      <td>white</td>\n      <td>...</td>\n      <td>silky</td>\n      <td>silky</td>\n      <td>white</td>\n      <td>white</td>\n      <td>white</td>\n      <td>two</td>\n      <td>pendant</td>\n      <td>white</td>\n      <td>scattered</td>\n      <td>grasses</td>\n    </tr>\n    <tr>\n      <th>7026</th>\n      <td>edible</td>\n      <td>convex</td>\n      <td>smooth</td>\n      <td>brown</td>\n      <td>no</td>\n      <td>none</td>\n      <td>attached</td>\n      <td>close</td>\n      <td>broad</td>\n      <td>brown</td>\n      <td>...</td>\n      <td>smooth</td>\n      <td>smooth</td>\n      <td>orange</td>\n      <td>orange</td>\n      <td>orange</td>\n      <td>one</td>\n      <td>pendant</td>\n      <td>brown</td>\n      <td>clustered</td>\n      <td>leaves</td>\n    </tr>\n    <tr>\n      <th>7400</th>\n      <td>edible</td>\n      <td>bell</td>\n      <td>fibrous</td>\n      <td>white</td>\n      <td>no</td>\n      <td>none</td>\n      <td>free</td>\n      <td>crowded</td>\n      <td>broad</td>\n      <td>gray</td>\n      <td>...</td>\n      <td>smooth</td>\n      <td>silky</td>\n      <td>white</td>\n      <td>white</td>\n      <td>white</td>\n      <td>two</td>\n      <td>pendant</td>\n      <td>white</td>\n      <td>scattered</td>\n      <td>grasses</td>\n    </tr>\n    <tr>\n      <th>7526</th>\n      <td>edible</td>\n      <td>convex</td>\n      <td>smooth</td>\n      <td>brown</td>\n      <td>no</td>\n      <td>none</td>\n      <td>attached</td>\n      <td>close</td>\n      <td>broad</td>\n      <td>brown</td>\n      <td>...</td>\n      <td>smooth</td>\n      <td>smooth</td>\n      <td>orange</td>\n      <td>orange</td>\n      <td>brown</td>\n      <td>one</td>\n      <td>pendant</td>\n      <td>brown</td>\n      <td>clustered</td>\n      <td>leaves</td>\n    </tr>\n    <tr>\n      <th>7584</th>\n      <td>edible</td>\n      <td>bell</td>\n      <td>fibrous</td>\n      <td>white</td>\n      <td>no</td>\n      <td>none</td>\n      <td>free</td>\n      <td>crowded</td>\n      <td>broad</td>\n      <td>gray</td>\n      <td>...</td>\n      <td>silky</td>\n      <td>smooth</td>\n      <td>white</td>\n      <td>white</td>\n      <td>white</td>\n      <td>two</td>\n      <td>pendant</td>\n      <td>white</td>\n      <td>scattered</td>\n      <td>grasses</td>\n    </tr>\n    <tr>\n      <th>7623</th>\n      <td>edible</td>\n      <td>knobbed</td>\n      <td>smooth</td>\n      <td>white</td>\n      <td>no</td>\n      <td>none</td>\n      <td>free</td>\n      <td>crowded</td>\n      <td>broad</td>\n      <td>gray</td>\n      <td>...</td>\n      <td>smooth</td>\n      <td>smooth</td>\n      <td>white</td>\n      <td>white</td>\n      <td>white</td>\n      <td>two</td>\n      <td>pendant</td>\n      <td>white</td>\n      <td>scattered</td>\n      <td>grasses</td>\n    </tr>\n    <tr>\n      <th>7631</th>\n      <td>edible</td>\n      <td>bell</td>\n      <td>fibrous</td>\n      <td>white</td>\n      <td>no</td>\n      <td>none</td>\n      <td>free</td>\n      <td>crowded</td>\n      <td>broad</td>\n      <td>white</td>\n      <td>...</td>\n      <td>silky</td>\n      <td>silky</td>\n      <td>white</td>\n      <td>white</td>\n      <td>white</td>\n      <td>two</td>\n      <td>pendant</td>\n      <td>white</td>\n      <td>scattered</td>\n      <td>grasses</td>\n    </tr>\n    <tr>\n      <th>7640</th>\n      <td>edible</td>\n      <td>bell</td>\n      <td>smooth</td>\n      <td>white</td>\n      <td>no</td>\n      <td>none</td>\n      <td>free</td>\n      <td>crowded</td>\n      <td>broad</td>\n      <td>pink</td>\n      <td>...</td>\n      <td>smooth</td>\n      <td>smooth</td>\n      <td>white</td>\n      <td>white</td>\n      <td>white</td>\n      <td>two</td>\n      <td>pendant</td>\n      <td>white</td>\n      <td>scattered</td>\n      <td>grasses</td>\n    </tr>\n    <tr>\n      <th>7725</th>\n      <td>edible</td>\n      <td>convex</td>\n      <td>fibrous</td>\n      <td>white</td>\n      <td>no</td>\n      <td>none</td>\n      <td>free</td>\n      <td>crowded</td>\n      <td>broad</td>\n      <td>gray</td>\n      <td>...</td>\n      <td>smooth</td>\n      <td>smooth</td>\n      <td>white</td>\n      <td>white</td>\n      <td>white</td>\n      <td>two</td>\n      <td>pendant</td>\n      <td>white</td>\n      <td>numerous</td>\n      <td>grasses</td>\n    </tr>\n    <tr>\n      <th>7748</th>\n      <td>edible</td>\n      <td>convex</td>\n      <td>fibrous</td>\n      <td>white</td>\n      <td>no</td>\n      <td>none</td>\n      <td>free</td>\n      <td>crowded</td>\n      <td>broad</td>\n      <td>white</td>\n      <td>...</td>\n      <td>smooth</td>\n      <td>silky</td>\n      <td>white</td>\n      <td>white</td>\n      <td>white</td>\n      <td>two</td>\n      <td>pendant</td>\n      <td>white</td>\n      <td>numerous</td>\n      <td>grasses</td>\n    </tr>\n    <tr>\n      <th>7960</th>\n      <td>edible</td>\n      <td>bell</td>\n      <td>fibrous</td>\n      <td>white</td>\n      <td>no</td>\n      <td>none</td>\n      <td>free</td>\n      <td>crowded</td>\n      <td>broad</td>\n      <td>gray</td>\n      <td>...</td>\n      <td>silky</td>\n      <td>silky</td>\n      <td>white</td>\n      <td>white</td>\n      <td>white</td>\n      <td>two</td>\n      <td>pendant</td>\n      <td>white</td>\n      <td>scattered</td>\n      <td>grasses</td>\n    </tr>\n  </tbody>\n</table>\n<p>13 rows × 22 columns</p>\n</div>"
     },
     "execution_count": 44,
     "metadata": {},
     "output_type": "execute_result"
    }
   ],
   "source": [
    "# Impute values for unknown mushrooms\n",
    "unknown_mushroom_2"
   ],
   "metadata": {
    "collapsed": false,
    "pycharm": {
     "name": "#%%\n"
    }
   }
  },
  {
   "cell_type": "code",
   "execution_count": 45,
   "outputs": [],
   "source": [
    "X_unknown = unknown_mushroom_2.drop(['stalk-root', 'class'], axis=1)\n",
    "y_unknown = unknown_mushroom_2['stalk-root']"
   ],
   "metadata": {
    "collapsed": false,
    "pycharm": {
     "name": "#%%\n"
    }
   }
  },
  {
   "cell_type": "code",
   "execution_count": 46,
   "outputs": [],
   "source": [
    "X_unknown = one_hot_X.transform(X_unknown)"
   ],
   "metadata": {
    "collapsed": false,
    "pycharm": {
     "name": "#%%\n"
    }
   }
  },
  {
   "cell_type": "code",
   "execution_count": 47,
   "outputs": [
    {
     "data": {
      "text/plain": "array([[None],\n       ['equal'],\n       ['bulbous'],\n       ['equal'],\n       ['bulbous'],\n       ['equal'],\n       ['equal'],\n       ['equal'],\n       ['equal'],\n       ['equal'],\n       ['equal'],\n       ['equal'],\n       ['equal']], dtype=object)"
     },
     "execution_count": 47,
     "metadata": {},
     "output_type": "execute_result"
    }
   ],
   "source": [
    "# Impute values for missing data\n",
    "y_pred_unknown = knn_model_for_imputation_2.predict(X_unknown)\n",
    "y_pred_unknown = one_hot_y.inverse_transform(y_pred_unknown)\n",
    "# np.unique(y_pred_unknown, return_counts=True)\n",
    "y_pred_unknown"
   ],
   "metadata": {
    "collapsed": false,
    "pycharm": {
     "name": "#%%\n"
    }
   }
  },
  {
   "cell_type": "markdown",
   "source": [
    "# Replace missing data with predicted values"
   ],
   "metadata": {
    "collapsed": false
   }
  },
  {
   "cell_type": "code",
   "execution_count": 48,
   "outputs": [
    {
     "data": {
      "text/plain": "array([None, 'equal', 'bulbous'], dtype=object)"
     },
     "execution_count": 48,
     "metadata": {},
     "output_type": "execute_result"
    }
   ],
   "source": [
    "unknown_mushroom_2['stalk-root'] = y_pred_unknown\n",
    "# np.unique(unknown_mushroom_2['stalk-root'], return_counts=True)\n",
    "unknown_mushroom_2['stalk-root'].unique()"
   ],
   "metadata": {
    "collapsed": false,
    "pycharm": {
     "name": "#%%\n"
    }
   }
  },
  {
   "cell_type": "code",
   "execution_count": 49,
   "outputs": [
    {
     "data": {
      "text/plain": "          class cap-shape cap-surface cap-color  bruises     odor  \\\n0     poisonous    convex      smooth     brown  bruises  pungent   \n1        edible    convex      smooth    yellow  bruises   almond   \n2        edible      bell      smooth     white  bruises    anise   \n3     poisonous    convex       scaly     white  bruises  pungent   \n4        edible    convex      smooth      gray       no     none   \n...         ...       ...         ...       ...      ...      ...   \n7631     edible      bell     fibrous     white       no     none   \n7640     edible      bell      smooth     white       no     none   \n7725     edible    convex     fibrous     white       no     none   \n7748     edible    convex     fibrous     white       no     none   \n7960     edible      bell     fibrous     white       no     none   \n\n     gill-attachment gill-spacing gill-size gill-color  ...  \\\n0               free        close    narrow      black  ...   \n1               free        close     broad      black  ...   \n2               free        close     broad      brown  ...   \n3               free        close    narrow      brown  ...   \n4               free      crowded     broad      black  ...   \n...              ...          ...       ...        ...  ...   \n7631            free      crowded     broad      white  ...   \n7640            free      crowded     broad       pink  ...   \n7725            free      crowded     broad       gray  ...   \n7748            free      crowded     broad      white  ...   \n7960            free      crowded     broad       gray  ...   \n\n     stalk-surface-above-ring stalk-surface-below-ring stalk-color-above-ring  \\\n0                      smooth                   smooth                  white   \n1                      smooth                   smooth                  white   \n2                      smooth                   smooth                  white   \n3                      smooth                   smooth                  white   \n4                      smooth                   smooth                  white   \n...                       ...                      ...                    ...   \n7631                    silky                    silky                  white   \n7640                   smooth                   smooth                  white   \n7725                   smooth                   smooth                  white   \n7748                   smooth                    silky                  white   \n7960                    silky                    silky                  white   \n\n     stalk-color-below-ring veil-color ring-number   ring-type  \\\n0                     white      white         one     pendant   \n1                     white      white         one     pendant   \n2                     white      white         one     pendant   \n3                     white      white         one     pendant   \n4                     white      white         one  evanescent   \n...                     ...        ...         ...         ...   \n7631                  white      white         two     pendant   \n7640                  white      white         two     pendant   \n7725                  white      white         two     pendant   \n7748                  white      white         two     pendant   \n7960                  white      white         two     pendant   \n\n     spore-print-color population  habitat  \n0                black  scattered    urban  \n1                brown   numerous  grasses  \n2                brown   numerous  meadows  \n3                black  scattered    urban  \n4                brown   abundant  grasses  \n...                ...        ...      ...  \n7631             white  scattered  grasses  \n7640             white  scattered  grasses  \n7725             white   numerous  grasses  \n7748             white   numerous  grasses  \n7960             white  scattered  grasses  \n\n[8124 rows x 22 columns]",
      "text/html": "<div>\n<style scoped>\n    .dataframe tbody tr th:only-of-type {\n        vertical-align: middle;\n    }\n\n    .dataframe tbody tr th {\n        vertical-align: top;\n    }\n\n    .dataframe thead th {\n        text-align: right;\n    }\n</style>\n<table border=\"1\" class=\"dataframe\">\n  <thead>\n    <tr style=\"text-align: right;\">\n      <th></th>\n      <th>class</th>\n      <th>cap-shape</th>\n      <th>cap-surface</th>\n      <th>cap-color</th>\n      <th>bruises</th>\n      <th>odor</th>\n      <th>gill-attachment</th>\n      <th>gill-spacing</th>\n      <th>gill-size</th>\n      <th>gill-color</th>\n      <th>...</th>\n      <th>stalk-surface-above-ring</th>\n      <th>stalk-surface-below-ring</th>\n      <th>stalk-color-above-ring</th>\n      <th>stalk-color-below-ring</th>\n      <th>veil-color</th>\n      <th>ring-number</th>\n      <th>ring-type</th>\n      <th>spore-print-color</th>\n      <th>population</th>\n      <th>habitat</th>\n    </tr>\n  </thead>\n  <tbody>\n    <tr>\n      <th>0</th>\n      <td>poisonous</td>\n      <td>convex</td>\n      <td>smooth</td>\n      <td>brown</td>\n      <td>bruises</td>\n      <td>pungent</td>\n      <td>free</td>\n      <td>close</td>\n      <td>narrow</td>\n      <td>black</td>\n      <td>...</td>\n      <td>smooth</td>\n      <td>smooth</td>\n      <td>white</td>\n      <td>white</td>\n      <td>white</td>\n      <td>one</td>\n      <td>pendant</td>\n      <td>black</td>\n      <td>scattered</td>\n      <td>urban</td>\n    </tr>\n    <tr>\n      <th>1</th>\n      <td>edible</td>\n      <td>convex</td>\n      <td>smooth</td>\n      <td>yellow</td>\n      <td>bruises</td>\n      <td>almond</td>\n      <td>free</td>\n      <td>close</td>\n      <td>broad</td>\n      <td>black</td>\n      <td>...</td>\n      <td>smooth</td>\n      <td>smooth</td>\n      <td>white</td>\n      <td>white</td>\n      <td>white</td>\n      <td>one</td>\n      <td>pendant</td>\n      <td>brown</td>\n      <td>numerous</td>\n      <td>grasses</td>\n    </tr>\n    <tr>\n      <th>2</th>\n      <td>edible</td>\n      <td>bell</td>\n      <td>smooth</td>\n      <td>white</td>\n      <td>bruises</td>\n      <td>anise</td>\n      <td>free</td>\n      <td>close</td>\n      <td>broad</td>\n      <td>brown</td>\n      <td>...</td>\n      <td>smooth</td>\n      <td>smooth</td>\n      <td>white</td>\n      <td>white</td>\n      <td>white</td>\n      <td>one</td>\n      <td>pendant</td>\n      <td>brown</td>\n      <td>numerous</td>\n      <td>meadows</td>\n    </tr>\n    <tr>\n      <th>3</th>\n      <td>poisonous</td>\n      <td>convex</td>\n      <td>scaly</td>\n      <td>white</td>\n      <td>bruises</td>\n      <td>pungent</td>\n      <td>free</td>\n      <td>close</td>\n      <td>narrow</td>\n      <td>brown</td>\n      <td>...</td>\n      <td>smooth</td>\n      <td>smooth</td>\n      <td>white</td>\n      <td>white</td>\n      <td>white</td>\n      <td>one</td>\n      <td>pendant</td>\n      <td>black</td>\n      <td>scattered</td>\n      <td>urban</td>\n    </tr>\n    <tr>\n      <th>4</th>\n      <td>edible</td>\n      <td>convex</td>\n      <td>smooth</td>\n      <td>gray</td>\n      <td>no</td>\n      <td>none</td>\n      <td>free</td>\n      <td>crowded</td>\n      <td>broad</td>\n      <td>black</td>\n      <td>...</td>\n      <td>smooth</td>\n      <td>smooth</td>\n      <td>white</td>\n      <td>white</td>\n      <td>white</td>\n      <td>one</td>\n      <td>evanescent</td>\n      <td>brown</td>\n      <td>abundant</td>\n      <td>grasses</td>\n    </tr>\n    <tr>\n      <th>...</th>\n      <td>...</td>\n      <td>...</td>\n      <td>...</td>\n      <td>...</td>\n      <td>...</td>\n      <td>...</td>\n      <td>...</td>\n      <td>...</td>\n      <td>...</td>\n      <td>...</td>\n      <td>...</td>\n      <td>...</td>\n      <td>...</td>\n      <td>...</td>\n      <td>...</td>\n      <td>...</td>\n      <td>...</td>\n      <td>...</td>\n      <td>...</td>\n      <td>...</td>\n      <td>...</td>\n    </tr>\n    <tr>\n      <th>7631</th>\n      <td>edible</td>\n      <td>bell</td>\n      <td>fibrous</td>\n      <td>white</td>\n      <td>no</td>\n      <td>none</td>\n      <td>free</td>\n      <td>crowded</td>\n      <td>broad</td>\n      <td>white</td>\n      <td>...</td>\n      <td>silky</td>\n      <td>silky</td>\n      <td>white</td>\n      <td>white</td>\n      <td>white</td>\n      <td>two</td>\n      <td>pendant</td>\n      <td>white</td>\n      <td>scattered</td>\n      <td>grasses</td>\n    </tr>\n    <tr>\n      <th>7640</th>\n      <td>edible</td>\n      <td>bell</td>\n      <td>smooth</td>\n      <td>white</td>\n      <td>no</td>\n      <td>none</td>\n      <td>free</td>\n      <td>crowded</td>\n      <td>broad</td>\n      <td>pink</td>\n      <td>...</td>\n      <td>smooth</td>\n      <td>smooth</td>\n      <td>white</td>\n      <td>white</td>\n      <td>white</td>\n      <td>two</td>\n      <td>pendant</td>\n      <td>white</td>\n      <td>scattered</td>\n      <td>grasses</td>\n    </tr>\n    <tr>\n      <th>7725</th>\n      <td>edible</td>\n      <td>convex</td>\n      <td>fibrous</td>\n      <td>white</td>\n      <td>no</td>\n      <td>none</td>\n      <td>free</td>\n      <td>crowded</td>\n      <td>broad</td>\n      <td>gray</td>\n      <td>...</td>\n      <td>smooth</td>\n      <td>smooth</td>\n      <td>white</td>\n      <td>white</td>\n      <td>white</td>\n      <td>two</td>\n      <td>pendant</td>\n      <td>white</td>\n      <td>numerous</td>\n      <td>grasses</td>\n    </tr>\n    <tr>\n      <th>7748</th>\n      <td>edible</td>\n      <td>convex</td>\n      <td>fibrous</td>\n      <td>white</td>\n      <td>no</td>\n      <td>none</td>\n      <td>free</td>\n      <td>crowded</td>\n      <td>broad</td>\n      <td>white</td>\n      <td>...</td>\n      <td>smooth</td>\n      <td>silky</td>\n      <td>white</td>\n      <td>white</td>\n      <td>white</td>\n      <td>two</td>\n      <td>pendant</td>\n      <td>white</td>\n      <td>numerous</td>\n      <td>grasses</td>\n    </tr>\n    <tr>\n      <th>7960</th>\n      <td>edible</td>\n      <td>bell</td>\n      <td>fibrous</td>\n      <td>white</td>\n      <td>no</td>\n      <td>none</td>\n      <td>free</td>\n      <td>crowded</td>\n      <td>broad</td>\n      <td>gray</td>\n      <td>...</td>\n      <td>silky</td>\n      <td>silky</td>\n      <td>white</td>\n      <td>white</td>\n      <td>white</td>\n      <td>two</td>\n      <td>pendant</td>\n      <td>white</td>\n      <td>scattered</td>\n      <td>grasses</td>\n    </tr>\n  </tbody>\n</table>\n<p>8124 rows × 22 columns</p>\n</div>"
     },
     "execution_count": 49,
     "metadata": {},
     "output_type": "execute_result"
    }
   ],
   "source": [
    "# append the dataframe back to one form\n",
    "mushroom_imputed = known_mushroom.append(unknown_mushroom_2)\n",
    "mushroom_imputed"
   ],
   "metadata": {
    "collapsed": false,
    "pycharm": {
     "name": "#%%\n"
    }
   }
  },
  {
   "cell_type": "code",
   "execution_count": 50,
   "outputs": [
    {
     "data": {
      "text/plain": "6203    missing\nName: stalk-root, dtype: object"
     },
     "execution_count": 50,
     "metadata": {},
     "output_type": "execute_result"
    }
   ],
   "source": [
    "isna = mushroom_imputed['stalk-root'].isnull()\n",
    "mushroom_imputed['stalk-root'].loc[isna] = 'missing'\n",
    "# mushroom_imputed.isnull().sum()\n",
    "mushroom_imputed['stalk-root'].loc[isna]"
   ],
   "metadata": {
    "collapsed": false,
    "pycharm": {
     "name": "#%%\n"
    }
   }
  },
  {
   "cell_type": "code",
   "execution_count": 51,
   "outputs": [
    {
     "name": "stdout",
     "output_type": "stream",
     "text": [
      "original mushroom dataset (array(['bulbous', 'club', 'equal', 'missing', 'rooted'], dtype=object), array([3776,  556, 1120, 2480,  192]))\n",
      "imputed mushroom datasaet (array(['bulbous', 'club', 'equal', 'missing', 'rooted'], dtype=object), array([5808,  586, 1537,    1,  192]))\n"
     ]
    }
   ],
   "source": [
    "# compare the values of missing mushroom dataset with imputed with replacement mushroom\n",
    "\n",
    "print('original mushroom dataset', np.unique(mushroom['stalk-root'], return_counts=True))\n",
    "print('imputed mushroom datasaet', np.unique(mushroom_imputed['stalk-root'], return_counts=True))"
   ],
   "metadata": {
    "collapsed": false,
    "pycharm": {
     "name": "#%%\n"
    }
   }
  },
  {
   "cell_type": "markdown",
   "source": [
    "# Evaluation\n",
    "Looks like from this imputation using KNN Classifier and One Hot Encoding for imputation,\n",
    "the imputed dataset shows an increase in 3 categories, bulbous, club, equal; whereas 'rooted' seems least likely.\n",
    "But even with 2 imputations we still have 1 missing value; we can drop this value as 1 missing data does not appear to be\n",
    "that significant for our size"
   ],
   "metadata": {
    "collapsed": false
   }
  },
  {
   "cell_type": "code",
   "execution_count": 52,
   "outputs": [],
   "source": [
    "# maybe impute it anyways\n",
    "missing_stalk = mushroom_imputed['stalk-root'] == 'missing'\n",
    "unknown_mushroom_3 = mushroom_imputed.loc[missing_stalk]\n",
    "known_mushroom_3 = mushroom_imputed.loc[~missing_stalk]"
   ],
   "metadata": {
    "collapsed": false,
    "pycharm": {
     "name": "#%%\n"
    }
   }
  },
  {
   "cell_type": "markdown",
   "source": [
    "# impute with added data\n",
    "* repeat same steps to predict missing data\n"
   ],
   "metadata": {
    "collapsed": false,
    "pycharm": {
     "name": "#%% md\n"
    }
   }
  },
  {
   "cell_type": "code",
   "execution_count": 53,
   "outputs": [],
   "source": [
    "# preprocess updated known mushrooms\n",
    "# also drop class (due to data leakage later in notebook)\n",
    "X = known_mushroom_3.drop(['stalk-root', 'class'], axis=1)\n",
    "y = known_mushroom_3[['stalk-root']]"
   ],
   "metadata": {
    "collapsed": false,
    "pycharm": {
     "name": "#%%\n"
    }
   }
  },
  {
   "cell_type": "code",
   "execution_count": 54,
   "outputs": [],
   "source": [
    "X_train, X_test, y_train, y_test = train_test_split(X, y, test_size=0.25, random_state=42)\n"
   ],
   "metadata": {
    "collapsed": false,
    "pycharm": {
     "name": "#%%\n"
    }
   }
  },
  {
   "cell_type": "code",
   "execution_count": 55,
   "outputs": [],
   "source": [
    "X_cols = X_train.columns\n",
    "\n",
    "one_hot_X = OneHotEncoder(handle_unknown='ignore', sparse=False)\n",
    "one_hot_y = OneHotEncoder(handle_unknown='ignore', sparse=False)\n",
    "\n",
    "X_train = one_hot_X.fit_transform(X_train)\n",
    "X_test = one_hot_X.transform(X_test)\n",
    "# X_train = one_hot_X.fit_transform(X_train)\n",
    "# X_test = one_hot_X.transform(X_test)\n",
    "\n",
    "# encode y_train and fit y_test on that encoder\n",
    "y_train = one_hot_y.fit_transform(y_train)\n",
    "y_test = one_hot_y.transform(y_test)"
   ],
   "metadata": {
    "collapsed": false,
    "pycharm": {
     "name": "#%%\n"
    }
   }
  },
  {
   "cell_type": "code",
   "execution_count": 56,
   "outputs": [
    {
     "data": {
      "text/plain": "((6092, 111), (6092, 4))"
     },
     "execution_count": 56,
     "metadata": {},
     "output_type": "execute_result"
    }
   ],
   "source": [
    "X_train.shape, y_train.shape"
   ],
   "metadata": {
    "collapsed": false,
    "pycharm": {
     "name": "#%%\n"
    }
   }
  },
  {
   "cell_type": "code",
   "execution_count": 57,
   "outputs": [
    {
     "data": {
      "text/plain": "GridSearchCV(cv=5, estimator=Pipeline(steps=[('rf', KNeighborsClassifier())]),\n             param_grid={})"
     },
     "execution_count": 57,
     "metadata": {},
     "output_type": "execute_result"
    }
   ],
   "source": [
    "knn_grid_3 = GridSearchCV(knn_pipe, knn_param_grid, cv=5)\n",
    "knn_grid_3.fit(X_train, y_train)"
   ],
   "metadata": {
    "collapsed": false,
    "pycharm": {
     "name": "#%%\n"
    }
   }
  },
  {
   "cell_type": "code",
   "execution_count": 58,
   "outputs": [],
   "source": [
    "train_std = knn_grid_3.cv_results_['std_test_score'][knn_grid_3.best_index_]\n",
    "train_score, test_score = knn_grid_3.best_score_, knn_grid_3.score(X_test, y_test)"
   ],
   "metadata": {
    "collapsed": false,
    "pycharm": {
     "name": "#%%\n"
    }
   }
  },
  {
   "cell_type": "code",
   "execution_count": 59,
   "outputs": [
    {
     "name": "stdout",
     "output_type": "stream",
     "text": [
      "train score: 0.9826010175505239 train std score: 0.004064075651419906 test score: 0.9857213195470211\n"
     ]
    }
   ],
   "source": [
    "print('train score:', train_score, 'train std score:', train_std, 'test score:', test_score)"
   ],
   "metadata": {
    "collapsed": false,
    "pycharm": {
     "name": "#%%\n"
    }
   }
  },
  {
   "cell_type": "code",
   "execution_count": 60,
   "outputs": [
    {
     "data": {
      "text/plain": "['../../model/knn_model_for_imputation_3.sav']"
     },
     "execution_count": 60,
     "metadata": {},
     "output_type": "execute_result"
    }
   ],
   "source": [
    "# save knn_model_for_imputataion\n",
    "knn_model_for_imputation_3 = knn_grid_3.best_estimator_\n",
    "model_path = r'../../model/knn_model_for_imputation_3.sav'\n",
    "\n",
    "joblib.dump(knn_model_for_imputation_3, model_path)"
   ],
   "metadata": {
    "collapsed": false,
    "pycharm": {
     "name": "#%%\n"
    }
   }
  },
  {
   "cell_type": "markdown",
   "source": [
    "## With imputed predicted values our score actually drop, perhaps the predictions were not as accurate?\n"
   ],
   "metadata": {
    "collapsed": false
   }
  },
  {
   "cell_type": "code",
   "execution_count": 61,
   "outputs": [
    {
     "data": {
      "text/plain": "       class cap-shape cap-surface cap-color bruises  odor gill-attachment  \\\n6203  edible   knobbed      smooth     white      no  none            free   \n\n     gill-spacing gill-size gill-color  ... stalk-surface-above-ring  \\\n6203      crowded     broad       gray  ...                    silky   \n\n     stalk-surface-below-ring stalk-color-above-ring stalk-color-below-ring  \\\n6203                   smooth                  white                  white   \n\n     veil-color ring-number ring-type spore-print-color population  habitat  \n6203      white         two   pendant             white  scattered  grasses  \n\n[1 rows x 22 columns]",
      "text/html": "<div>\n<style scoped>\n    .dataframe tbody tr th:only-of-type {\n        vertical-align: middle;\n    }\n\n    .dataframe tbody tr th {\n        vertical-align: top;\n    }\n\n    .dataframe thead th {\n        text-align: right;\n    }\n</style>\n<table border=\"1\" class=\"dataframe\">\n  <thead>\n    <tr style=\"text-align: right;\">\n      <th></th>\n      <th>class</th>\n      <th>cap-shape</th>\n      <th>cap-surface</th>\n      <th>cap-color</th>\n      <th>bruises</th>\n      <th>odor</th>\n      <th>gill-attachment</th>\n      <th>gill-spacing</th>\n      <th>gill-size</th>\n      <th>gill-color</th>\n      <th>...</th>\n      <th>stalk-surface-above-ring</th>\n      <th>stalk-surface-below-ring</th>\n      <th>stalk-color-above-ring</th>\n      <th>stalk-color-below-ring</th>\n      <th>veil-color</th>\n      <th>ring-number</th>\n      <th>ring-type</th>\n      <th>spore-print-color</th>\n      <th>population</th>\n      <th>habitat</th>\n    </tr>\n  </thead>\n  <tbody>\n    <tr>\n      <th>6203</th>\n      <td>edible</td>\n      <td>knobbed</td>\n      <td>smooth</td>\n      <td>white</td>\n      <td>no</td>\n      <td>none</td>\n      <td>free</td>\n      <td>crowded</td>\n      <td>broad</td>\n      <td>gray</td>\n      <td>...</td>\n      <td>silky</td>\n      <td>smooth</td>\n      <td>white</td>\n      <td>white</td>\n      <td>white</td>\n      <td>two</td>\n      <td>pendant</td>\n      <td>white</td>\n      <td>scattered</td>\n      <td>grasses</td>\n    </tr>\n  </tbody>\n</table>\n<p>1 rows × 22 columns</p>\n</div>"
     },
     "execution_count": 61,
     "metadata": {},
     "output_type": "execute_result"
    }
   ],
   "source": [
    "# Impute values for unknown mushrooms\n",
    "unknown_mushroom_3"
   ],
   "metadata": {
    "collapsed": false,
    "pycharm": {
     "name": "#%%\n"
    }
   }
  },
  {
   "cell_type": "code",
   "execution_count": 62,
   "outputs": [],
   "source": [
    "X_unknown = unknown_mushroom_3.drop(['stalk-root', 'class'], axis=1)\n",
    "y_unknown = unknown_mushroom_3['stalk-root']"
   ],
   "metadata": {
    "collapsed": false,
    "pycharm": {
     "name": "#%%\n"
    }
   }
  },
  {
   "cell_type": "code",
   "execution_count": 63,
   "outputs": [],
   "source": [
    "X_unknown = one_hot_X.transform(X_unknown)"
   ],
   "metadata": {
    "collapsed": false,
    "pycharm": {
     "name": "#%%\n"
    }
   }
  },
  {
   "cell_type": "code",
   "execution_count": 64,
   "outputs": [
    {
     "data": {
      "text/plain": "(array(['equal'], dtype=object), array([1]))"
     },
     "execution_count": 64,
     "metadata": {},
     "output_type": "execute_result"
    }
   ],
   "source": [
    "# Impute values for missing data\n",
    "y_pred_unknown = knn_model_for_imputation_3.predict(X_unknown)\n",
    "y_pred_unknown = one_hot_y.inverse_transform(y_pred_unknown)\n",
    "np.unique(y_pred_unknown, return_counts=True)\n",
    "# y_pred_unknown"
   ],
   "metadata": {
    "collapsed": false,
    "pycharm": {
     "name": "#%%\n"
    }
   }
  },
  {
   "cell_type": "markdown",
   "source": [
    "# Replace missing data with predicted values"
   ],
   "metadata": {
    "collapsed": false
   }
  },
  {
   "cell_type": "code",
   "execution_count": 65,
   "outputs": [
    {
     "data": {
      "text/plain": "array(['equal'], dtype=object)"
     },
     "execution_count": 65,
     "metadata": {},
     "output_type": "execute_result"
    }
   ],
   "source": [
    "unknown_mushroom_3['stalk-root'] = y_pred_unknown\n",
    "# np.unique(unknown_mushroom_3['stalk-root'], return_counts=True)\n",
    "unknown_mushroom_3['stalk-root'].unique()"
   ],
   "metadata": {
    "collapsed": false,
    "pycharm": {
     "name": "#%%\n"
    }
   }
  },
  {
   "cell_type": "code",
   "execution_count": 66,
   "outputs": [
    {
     "data": {
      "text/plain": "          class cap-shape cap-surface cap-color  bruises     odor  \\\n0     poisonous    convex      smooth     brown  bruises  pungent   \n1        edible    convex      smooth    yellow  bruises   almond   \n2        edible      bell      smooth     white  bruises    anise   \n3     poisonous    convex       scaly     white  bruises  pungent   \n4        edible    convex      smooth      gray       no     none   \n...         ...       ...         ...       ...      ...      ...   \n8120     edible    convex      smooth     brown       no     none   \n8121     edible      flat      smooth     brown       no     none   \n8122  poisonous   knobbed       scaly     brown       no    fishy   \n8123     edible    convex      smooth     brown       no     none   \n6203     edible   knobbed      smooth     white       no     none   \n\n     gill-attachment gill-spacing gill-size gill-color  ...  \\\n0               free        close    narrow      black  ...   \n1               free        close     broad      black  ...   \n2               free        close     broad      brown  ...   \n3               free        close    narrow      brown  ...   \n4               free      crowded     broad      black  ...   \n...              ...          ...       ...        ...  ...   \n8120        attached        close     broad     yellow  ...   \n8121        attached        close     broad      brown  ...   \n8122            free        close    narrow       buff  ...   \n8123        attached        close     broad     yellow  ...   \n6203            free      crowded     broad       gray  ...   \n\n     stalk-surface-above-ring stalk-surface-below-ring stalk-color-above-ring  \\\n0                      smooth                   smooth                  white   \n1                      smooth                   smooth                  white   \n2                      smooth                   smooth                  white   \n3                      smooth                   smooth                  white   \n4                      smooth                   smooth                  white   \n...                       ...                      ...                    ...   \n8120                   smooth                   smooth                 orange   \n8121                   smooth                   smooth                 orange   \n8122                   smooth                    silky                  white   \n8123                   smooth                   smooth                 orange   \n6203                    silky                   smooth                  white   \n\n     stalk-color-below-ring veil-color ring-number   ring-type  \\\n0                     white      white         one     pendant   \n1                     white      white         one     pendant   \n2                     white      white         one     pendant   \n3                     white      white         one     pendant   \n4                     white      white         one  evanescent   \n...                     ...        ...         ...         ...   \n8120                 orange      brown         one     pendant   \n8121                 orange     orange         one     pendant   \n8122                  white      white         one  evanescent   \n8123                 orange     orange         one     pendant   \n6203                  white      white         two     pendant   \n\n     spore-print-color population  habitat  \n0                black  scattered    urban  \n1                brown   numerous  grasses  \n2                brown   numerous  meadows  \n3                black  scattered    urban  \n4                brown   abundant  grasses  \n...                ...        ...      ...  \n8120              buff    several   leaves  \n8121              buff  clustered   leaves  \n8122             white    several   leaves  \n8123            orange  clustered   leaves  \n6203             white  scattered  grasses  \n\n[8112 rows x 22 columns]",
      "text/html": "<div>\n<style scoped>\n    .dataframe tbody tr th:only-of-type {\n        vertical-align: middle;\n    }\n\n    .dataframe tbody tr th {\n        vertical-align: top;\n    }\n\n    .dataframe thead th {\n        text-align: right;\n    }\n</style>\n<table border=\"1\" class=\"dataframe\">\n  <thead>\n    <tr style=\"text-align: right;\">\n      <th></th>\n      <th>class</th>\n      <th>cap-shape</th>\n      <th>cap-surface</th>\n      <th>cap-color</th>\n      <th>bruises</th>\n      <th>odor</th>\n      <th>gill-attachment</th>\n      <th>gill-spacing</th>\n      <th>gill-size</th>\n      <th>gill-color</th>\n      <th>...</th>\n      <th>stalk-surface-above-ring</th>\n      <th>stalk-surface-below-ring</th>\n      <th>stalk-color-above-ring</th>\n      <th>stalk-color-below-ring</th>\n      <th>veil-color</th>\n      <th>ring-number</th>\n      <th>ring-type</th>\n      <th>spore-print-color</th>\n      <th>population</th>\n      <th>habitat</th>\n    </tr>\n  </thead>\n  <tbody>\n    <tr>\n      <th>0</th>\n      <td>poisonous</td>\n      <td>convex</td>\n      <td>smooth</td>\n      <td>brown</td>\n      <td>bruises</td>\n      <td>pungent</td>\n      <td>free</td>\n      <td>close</td>\n      <td>narrow</td>\n      <td>black</td>\n      <td>...</td>\n      <td>smooth</td>\n      <td>smooth</td>\n      <td>white</td>\n      <td>white</td>\n      <td>white</td>\n      <td>one</td>\n      <td>pendant</td>\n      <td>black</td>\n      <td>scattered</td>\n      <td>urban</td>\n    </tr>\n    <tr>\n      <th>1</th>\n      <td>edible</td>\n      <td>convex</td>\n      <td>smooth</td>\n      <td>yellow</td>\n      <td>bruises</td>\n      <td>almond</td>\n      <td>free</td>\n      <td>close</td>\n      <td>broad</td>\n      <td>black</td>\n      <td>...</td>\n      <td>smooth</td>\n      <td>smooth</td>\n      <td>white</td>\n      <td>white</td>\n      <td>white</td>\n      <td>one</td>\n      <td>pendant</td>\n      <td>brown</td>\n      <td>numerous</td>\n      <td>grasses</td>\n    </tr>\n    <tr>\n      <th>2</th>\n      <td>edible</td>\n      <td>bell</td>\n      <td>smooth</td>\n      <td>white</td>\n      <td>bruises</td>\n      <td>anise</td>\n      <td>free</td>\n      <td>close</td>\n      <td>broad</td>\n      <td>brown</td>\n      <td>...</td>\n      <td>smooth</td>\n      <td>smooth</td>\n      <td>white</td>\n      <td>white</td>\n      <td>white</td>\n      <td>one</td>\n      <td>pendant</td>\n      <td>brown</td>\n      <td>numerous</td>\n      <td>meadows</td>\n    </tr>\n    <tr>\n      <th>3</th>\n      <td>poisonous</td>\n      <td>convex</td>\n      <td>scaly</td>\n      <td>white</td>\n      <td>bruises</td>\n      <td>pungent</td>\n      <td>free</td>\n      <td>close</td>\n      <td>narrow</td>\n      <td>brown</td>\n      <td>...</td>\n      <td>smooth</td>\n      <td>smooth</td>\n      <td>white</td>\n      <td>white</td>\n      <td>white</td>\n      <td>one</td>\n      <td>pendant</td>\n      <td>black</td>\n      <td>scattered</td>\n      <td>urban</td>\n    </tr>\n    <tr>\n      <th>4</th>\n      <td>edible</td>\n      <td>convex</td>\n      <td>smooth</td>\n      <td>gray</td>\n      <td>no</td>\n      <td>none</td>\n      <td>free</td>\n      <td>crowded</td>\n      <td>broad</td>\n      <td>black</td>\n      <td>...</td>\n      <td>smooth</td>\n      <td>smooth</td>\n      <td>white</td>\n      <td>white</td>\n      <td>white</td>\n      <td>one</td>\n      <td>evanescent</td>\n      <td>brown</td>\n      <td>abundant</td>\n      <td>grasses</td>\n    </tr>\n    <tr>\n      <th>...</th>\n      <td>...</td>\n      <td>...</td>\n      <td>...</td>\n      <td>...</td>\n      <td>...</td>\n      <td>...</td>\n      <td>...</td>\n      <td>...</td>\n      <td>...</td>\n      <td>...</td>\n      <td>...</td>\n      <td>...</td>\n      <td>...</td>\n      <td>...</td>\n      <td>...</td>\n      <td>...</td>\n      <td>...</td>\n      <td>...</td>\n      <td>...</td>\n      <td>...</td>\n      <td>...</td>\n    </tr>\n    <tr>\n      <th>8120</th>\n      <td>edible</td>\n      <td>convex</td>\n      <td>smooth</td>\n      <td>brown</td>\n      <td>no</td>\n      <td>none</td>\n      <td>attached</td>\n      <td>close</td>\n      <td>broad</td>\n      <td>yellow</td>\n      <td>...</td>\n      <td>smooth</td>\n      <td>smooth</td>\n      <td>orange</td>\n      <td>orange</td>\n      <td>brown</td>\n      <td>one</td>\n      <td>pendant</td>\n      <td>buff</td>\n      <td>several</td>\n      <td>leaves</td>\n    </tr>\n    <tr>\n      <th>8121</th>\n      <td>edible</td>\n      <td>flat</td>\n      <td>smooth</td>\n      <td>brown</td>\n      <td>no</td>\n      <td>none</td>\n      <td>attached</td>\n      <td>close</td>\n      <td>broad</td>\n      <td>brown</td>\n      <td>...</td>\n      <td>smooth</td>\n      <td>smooth</td>\n      <td>orange</td>\n      <td>orange</td>\n      <td>orange</td>\n      <td>one</td>\n      <td>pendant</td>\n      <td>buff</td>\n      <td>clustered</td>\n      <td>leaves</td>\n    </tr>\n    <tr>\n      <th>8122</th>\n      <td>poisonous</td>\n      <td>knobbed</td>\n      <td>scaly</td>\n      <td>brown</td>\n      <td>no</td>\n      <td>fishy</td>\n      <td>free</td>\n      <td>close</td>\n      <td>narrow</td>\n      <td>buff</td>\n      <td>...</td>\n      <td>smooth</td>\n      <td>silky</td>\n      <td>white</td>\n      <td>white</td>\n      <td>white</td>\n      <td>one</td>\n      <td>evanescent</td>\n      <td>white</td>\n      <td>several</td>\n      <td>leaves</td>\n    </tr>\n    <tr>\n      <th>8123</th>\n      <td>edible</td>\n      <td>convex</td>\n      <td>smooth</td>\n      <td>brown</td>\n      <td>no</td>\n      <td>none</td>\n      <td>attached</td>\n      <td>close</td>\n      <td>broad</td>\n      <td>yellow</td>\n      <td>...</td>\n      <td>smooth</td>\n      <td>smooth</td>\n      <td>orange</td>\n      <td>orange</td>\n      <td>orange</td>\n      <td>one</td>\n      <td>pendant</td>\n      <td>orange</td>\n      <td>clustered</td>\n      <td>leaves</td>\n    </tr>\n    <tr>\n      <th>6203</th>\n      <td>edible</td>\n      <td>knobbed</td>\n      <td>smooth</td>\n      <td>white</td>\n      <td>no</td>\n      <td>none</td>\n      <td>free</td>\n      <td>crowded</td>\n      <td>broad</td>\n      <td>gray</td>\n      <td>...</td>\n      <td>silky</td>\n      <td>smooth</td>\n      <td>white</td>\n      <td>white</td>\n      <td>white</td>\n      <td>two</td>\n      <td>pendant</td>\n      <td>white</td>\n      <td>scattered</td>\n      <td>grasses</td>\n    </tr>\n  </tbody>\n</table>\n<p>8112 rows × 22 columns</p>\n</div>"
     },
     "execution_count": 66,
     "metadata": {},
     "output_type": "execute_result"
    }
   ],
   "source": [
    "# append the dataframe back to one form\n",
    "mushroom_imputed = known_mushroom.append(unknown_mushroom_3)\n",
    "mushroom_imputed\n"
   ],
   "metadata": {
    "collapsed": false,
    "pycharm": {
     "name": "#%%\n"
    }
   }
  },
  {
   "cell_type": "code",
   "execution_count": 67,
   "outputs": [
    {
     "name": "stdout",
     "output_type": "stream",
     "text": [
      "original mushroom dataset (array(['bulbous', 'club', 'equal', 'missing', 'rooted'], dtype=object), array([3776,  556, 1120, 2480,  192]))\n",
      "imputed mushroom datasaet (array(['bulbous', 'club', 'equal', 'rooted'], dtype=object), array([5806,  586, 1528,  192]))\n"
     ]
    }
   ],
   "source": [
    "# compare the values of missing mushroom dataset with imputed with replacement mushroom\n",
    "\n",
    "print('original mushroom dataset', np.unique(mushroom['stalk-root'], return_counts=True))\n",
    "print('imputed mushroom datasaet', np.unique(mushroom_imputed['stalk-root'], return_counts=True))"
   ],
   "metadata": {
    "collapsed": false,
    "pycharm": {
     "name": "#%%\n"
    }
   }
  },
  {
   "cell_type": "markdown",
   "source": [
    "This model imputer appears most balanced in imputing more variety to the stalk-root compared to the random forest\n",
    "model; however, the scores for accuracy show that random forest classifier is better by 1% in terms of accuracy; but we\n",
    "belive that there are other metrics we have not looked at that prove otherwise.\n",
    "Whichever dataset we choose to use seems suitable for future notebook work"
   ],
   "metadata": {
    "collapsed": false,
    "pycharm": {
     "name": "#%% md\n"
    }
   }
  },
  {
   "cell_type": "code",
   "execution_count": 68,
   "outputs": [],
   "source": [
    "# save this new dataset\n",
    "path_csv = r'../../data/processed/mushroom_imputed_2.csv'\n",
    "mushroom_imputed.to_csv(path_csv, index=False)\n"
   ],
   "metadata": {
    "collapsed": false,
    "pycharm": {
     "name": "#%%\n"
    }
   }
  }
 ],
 "metadata": {
  "kernelspec": {
   "display_name": "Python 3",
   "language": "python",
   "name": "python3"
  },
  "language_info": {
   "codemirror_mode": {
    "name": "ipython",
    "version": 2
   },
   "file_extension": ".py",
   "mimetype": "text/x-python",
   "name": "python",
   "nbconvert_exporter": "python",
   "pygments_lexer": "ipython2",
   "version": "2.7.6"
  }
 },
 "nbformat": 4,
 "nbformat_minor": 0
}