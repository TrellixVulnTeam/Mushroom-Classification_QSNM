{
 "cells": [
  {
   "cell_type": "markdown",
   "metadata": {
    "collapsed": true,
    "pycharm": {
     "name": "#%% md\n"
    }
   },
   "source": [
    "# This project for classification practice\n",
    "# Data Wrangle\n",
    "* Explore and look at data\n",
    "* check for shape, missing data, and characteristics\n",
    "* Initiative to determine if a mushroom is edible or not via looking at its characteristics"
   ]
  },
  {
   "cell_type": "code",
   "execution_count": 35,
   "outputs": [],
   "source": [
    "# import packages\n",
    "\n",
    "import numpy as np\n",
    "import pandas as pd\n",
    "import seaborn as sns\n",
    "import sys\n",
    "import os\n",
    "import matplotlib.pyplot as plt\n",
    "import klib\n",
    "import plotly.figure_factory as ff\n",
    "from IPython.core.display import display\n",
    "from scipy import stats\n",
    "from sklearn.preprocessing import LabelEncoder, OneHotEncoder\n",
    "from sklearn.pipeline import Pipeline\n",
    "from sklearn.ensemble import RandomForestClassifier\n",
    "from sklearn.model_selection import train_test_split, GridSearchCV\n",
    "import joblib\n",
    "# pd.set_option('display.max_columns', None)\n",
    "# pd.reset_option('max_rows')\n",
    "#np.set_printoptions(threshold=sys.maxsize)\n",
    "\n",
    "plt.style.use('dark_background')\n",
    "plt.rcParams.update({\"grid.linewidth\":0.5, \"grid.alpha\":0.5})\n",
    "sns.set(style='ticks', context='talk')"
   ],
   "metadata": {
    "collapsed": false,
    "pycharm": {
     "name": "#%%\n"
    }
   }
  },
  {
   "cell_type": "code",
   "execution_count": 2,
   "outputs": [],
   "source": [
    "# useful functions\n",
    "def get_adjusted_cramers_v(contingency_table):\n",
    "    \"\"\" variation of cramers v that adjusts for bias\n",
    "    via using a smaller mean-squared error.\n",
    "    It calculates and returns this statistic\"\"\"\n",
    "\n",
    "    chi2, p, dof, expected = stats.chi2_contingency(contingency_table)\n",
    "    number_of_obs = np.sum(contingency_table).sum()\n",
    "    phi2 = chi2 / number_of_obs\n",
    "    phi2_adjusted = max(0, phi2 - dof/(number_of_obs-1))\n",
    "    row, column = contingency_table.shape\n",
    "    row_adjusted = row - ((row-1)**2)/(number_of_obs-1)\n",
    "    column_adjusted = column - ((column-1)**2)/(number_of_obs-1)\n",
    "    mini_adjusted = min(row_adjusted, column_adjusted)-1\n",
    "\n",
    "    cramers_v_adjusted = np.sqrt(phi2_adjusted / mini_adjusted)\n",
    "    return cramers_v_adjusted\n",
    "\n",
    "def get_cramers_v(contingency_table):\n",
    "    \"\"\" variation of cramers v that adjusts for bias\n",
    "    via using a smaller mean-squared error.\n",
    "    It calculates and returns this statistic\"\"\"\n",
    "\n",
    "    chi2, p, dof, expected = stats.chi2_contingency(contingency_table)\n",
    "    number_of_obs = np.sum(contingency_table).sum()\n",
    "    phi2 = chi2 / number_of_obs\n",
    "    # phi2_adjusted = max(0, phi2 - dof/(number_of_obs-1))\n",
    "    row, column = contingency_table.shape\n",
    "    mini = min(row, column)-1\n",
    "\n",
    "    cramers_v = np.sqrt(phi2 / mini)\n",
    "    return cramers_v"
   ],
   "metadata": {
    "collapsed": false,
    "pycharm": {
     "name": "#%%\n"
    }
   }
  },
  {
   "cell_type": "code",
   "execution_count": 3,
   "outputs": [
    {
     "data": {
      "text/plain": "  class cap-shape cap-surface cap-color bruises odor gill-attachment  \\\n0     p         x           s         n       t    p               f   \n1     e         x           s         y       t    a               f   \n2     e         b           s         w       t    l               f   \n3     p         x           y         w       t    p               f   \n4     e         x           s         g       f    n               f   \n\n  gill-spacing gill-size gill-color  ... stalk-surface-below-ring  \\\n0            c         n          k  ...                        s   \n1            c         b          k  ...                        s   \n2            c         b          n  ...                        s   \n3            c         n          n  ...                        s   \n4            w         b          k  ...                        s   \n\n  stalk-color-above-ring stalk-color-below-ring veil-type veil-color  \\\n0                      w                      w         p          w   \n1                      w                      w         p          w   \n2                      w                      w         p          w   \n3                      w                      w         p          w   \n4                      w                      w         p          w   \n\n  ring-number ring-type spore-print-color population habitat  \n0           o         p                 k          s       u  \n1           o         p                 n          n       g  \n2           o         p                 n          n       m  \n3           o         p                 k          s       u  \n4           o         e                 n          a       g  \n\n[5 rows x 23 columns]",
      "text/html": "<div>\n<style scoped>\n    .dataframe tbody tr th:only-of-type {\n        vertical-align: middle;\n    }\n\n    .dataframe tbody tr th {\n        vertical-align: top;\n    }\n\n    .dataframe thead th {\n        text-align: right;\n    }\n</style>\n<table border=\"1\" class=\"dataframe\">\n  <thead>\n    <tr style=\"text-align: right;\">\n      <th></th>\n      <th>class</th>\n      <th>cap-shape</th>\n      <th>cap-surface</th>\n      <th>cap-color</th>\n      <th>bruises</th>\n      <th>odor</th>\n      <th>gill-attachment</th>\n      <th>gill-spacing</th>\n      <th>gill-size</th>\n      <th>gill-color</th>\n      <th>...</th>\n      <th>stalk-surface-below-ring</th>\n      <th>stalk-color-above-ring</th>\n      <th>stalk-color-below-ring</th>\n      <th>veil-type</th>\n      <th>veil-color</th>\n      <th>ring-number</th>\n      <th>ring-type</th>\n      <th>spore-print-color</th>\n      <th>population</th>\n      <th>habitat</th>\n    </tr>\n  </thead>\n  <tbody>\n    <tr>\n      <th>0</th>\n      <td>p</td>\n      <td>x</td>\n      <td>s</td>\n      <td>n</td>\n      <td>t</td>\n      <td>p</td>\n      <td>f</td>\n      <td>c</td>\n      <td>n</td>\n      <td>k</td>\n      <td>...</td>\n      <td>s</td>\n      <td>w</td>\n      <td>w</td>\n      <td>p</td>\n      <td>w</td>\n      <td>o</td>\n      <td>p</td>\n      <td>k</td>\n      <td>s</td>\n      <td>u</td>\n    </tr>\n    <tr>\n      <th>1</th>\n      <td>e</td>\n      <td>x</td>\n      <td>s</td>\n      <td>y</td>\n      <td>t</td>\n      <td>a</td>\n      <td>f</td>\n      <td>c</td>\n      <td>b</td>\n      <td>k</td>\n      <td>...</td>\n      <td>s</td>\n      <td>w</td>\n      <td>w</td>\n      <td>p</td>\n      <td>w</td>\n      <td>o</td>\n      <td>p</td>\n      <td>n</td>\n      <td>n</td>\n      <td>g</td>\n    </tr>\n    <tr>\n      <th>2</th>\n      <td>e</td>\n      <td>b</td>\n      <td>s</td>\n      <td>w</td>\n      <td>t</td>\n      <td>l</td>\n      <td>f</td>\n      <td>c</td>\n      <td>b</td>\n      <td>n</td>\n      <td>...</td>\n      <td>s</td>\n      <td>w</td>\n      <td>w</td>\n      <td>p</td>\n      <td>w</td>\n      <td>o</td>\n      <td>p</td>\n      <td>n</td>\n      <td>n</td>\n      <td>m</td>\n    </tr>\n    <tr>\n      <th>3</th>\n      <td>p</td>\n      <td>x</td>\n      <td>y</td>\n      <td>w</td>\n      <td>t</td>\n      <td>p</td>\n      <td>f</td>\n      <td>c</td>\n      <td>n</td>\n      <td>n</td>\n      <td>...</td>\n      <td>s</td>\n      <td>w</td>\n      <td>w</td>\n      <td>p</td>\n      <td>w</td>\n      <td>o</td>\n      <td>p</td>\n      <td>k</td>\n      <td>s</td>\n      <td>u</td>\n    </tr>\n    <tr>\n      <th>4</th>\n      <td>e</td>\n      <td>x</td>\n      <td>s</td>\n      <td>g</td>\n      <td>f</td>\n      <td>n</td>\n      <td>f</td>\n      <td>w</td>\n      <td>b</td>\n      <td>k</td>\n      <td>...</td>\n      <td>s</td>\n      <td>w</td>\n      <td>w</td>\n      <td>p</td>\n      <td>w</td>\n      <td>o</td>\n      <td>e</td>\n      <td>n</td>\n      <td>a</td>\n      <td>g</td>\n    </tr>\n  </tbody>\n</table>\n<p>5 rows × 23 columns</p>\n</div>"
     },
     "execution_count": 3,
     "metadata": {},
     "output_type": "execute_result"
    }
   ],
   "source": [
    "path = r'../../data/raw/mushrooms.csv'\n",
    "\n",
    "mushroom = pd.read_csv(path)\n",
    "mushroom.head()"
   ],
   "metadata": {
    "collapsed": false,
    "pycharm": {
     "name": "#%%\n"
    }
   }
  },
  {
   "cell_type": "code",
   "execution_count": 4,
   "outputs": [
    {
     "data": {
      "text/plain": "((8124, 23),\n class                       0\n cap-shape                   0\n cap-surface                 0\n cap-color                   0\n bruises                     0\n odor                        0\n gill-attachment             0\n gill-spacing                0\n gill-size                   0\n gill-color                  0\n stalk-shape                 0\n stalk-root                  0\n stalk-surface-above-ring    0\n stalk-surface-below-ring    0\n stalk-color-above-ring      0\n stalk-color-below-ring      0\n veil-type                   0\n veil-color                  0\n ring-number                 0\n ring-type                   0\n spore-print-color           0\n population                  0\n habitat                     0\n dtype: int64)"
     },
     "execution_count": 4,
     "metadata": {},
     "output_type": "execute_result"
    }
   ],
   "source": [
    "mushroom.shape, mushroom.isnull().sum()"
   ],
   "metadata": {
    "collapsed": false,
    "pycharm": {
     "name": "#%%\n"
    }
   }
  },
  {
   "cell_type": "markdown",
   "source": [
    "* The classes for the data appear to be poisonous, edible, so it appears to be binary like\n",
    "* We have 8k rows and 23 columns\n",
    "* There is no perceivable missing data but need to check whether any erratic data"
   ],
   "metadata": {
    "collapsed": false,
    "pycharm": {
     "name": "#%% md\n"
    }
   }
  },
  {
   "cell_type": "code",
   "execution_count": 5,
   "outputs": [
    {
     "name": "stdout",
     "output_type": "stream",
     "text": [
      "<class 'pandas.core.frame.DataFrame'>\n",
      "RangeIndex: 8124 entries, 0 to 8123\n",
      "Data columns (total 23 columns):\n",
      " #   Column                    Non-Null Count  Dtype \n",
      "---  ------                    --------------  ----- \n",
      " 0   class                     8124 non-null   object\n",
      " 1   cap-shape                 8124 non-null   object\n",
      " 2   cap-surface               8124 non-null   object\n",
      " 3   cap-color                 8124 non-null   object\n",
      " 4   bruises                   8124 non-null   object\n",
      " 5   odor                      8124 non-null   object\n",
      " 6   gill-attachment           8124 non-null   object\n",
      " 7   gill-spacing              8124 non-null   object\n",
      " 8   gill-size                 8124 non-null   object\n",
      " 9   gill-color                8124 non-null   object\n",
      " 10  stalk-shape               8124 non-null   object\n",
      " 11  stalk-root                8124 non-null   object\n",
      " 12  stalk-surface-above-ring  8124 non-null   object\n",
      " 13  stalk-surface-below-ring  8124 non-null   object\n",
      " 14  stalk-color-above-ring    8124 non-null   object\n",
      " 15  stalk-color-below-ring    8124 non-null   object\n",
      " 16  veil-type                 8124 non-null   object\n",
      " 17  veil-color                8124 non-null   object\n",
      " 18  ring-number               8124 non-null   object\n",
      " 19  ring-type                 8124 non-null   object\n",
      " 20  spore-print-color         8124 non-null   object\n",
      " 21  population                8124 non-null   object\n",
      " 22  habitat                   8124 non-null   object\n",
      "dtypes: object(23)\n",
      "memory usage: 1.4+ MB\n"
     ]
    },
    {
     "data": {
      "text/plain": "(None,\n        class cap-shape cap-surface cap-color bruises  odor gill-attachment  \\\n count   8124      8124        8124      8124    8124  8124            8124   \n unique     2         6           4        10       2     9               2   \n top        e         x           y         n       f     n               f   \n freq    4208      3656        3244      2284    4748  3528            7914   \n \n        gill-spacing gill-size gill-color  ... stalk-surface-below-ring  \\\n count          8124      8124       8124  ...                     8124   \n unique            2         2         12  ...                        4   \n top               c         b          b  ...                        s   \n freq           6812      5612       1728  ...                     4936   \n \n        stalk-color-above-ring stalk-color-below-ring veil-type veil-color  \\\n count                    8124                   8124      8124       8124   \n unique                      9                      9         1          4   \n top                         w                      w         p          w   \n freq                     4464                   4384      8124       7924   \n \n        ring-number ring-type spore-print-color population habitat  \n count         8124      8124              8124       8124    8124  \n unique           3         5                 9          6       7  \n top              o         p                 w          v       d  \n freq          7488      3968              2388       4040    3148  \n \n [4 rows x 23 columns])"
     },
     "execution_count": 5,
     "metadata": {},
     "output_type": "execute_result"
    }
   ],
   "source": [
    "mushroom.info(), mushroom.describe()"
   ],
   "metadata": {
    "collapsed": false,
    "pycharm": {
     "name": "#%%\n"
    }
   }
  },
  {
   "cell_type": "markdown",
   "source": [
    "* the data type needs to be converted to string or text\n",
    "* perhaps improve readability for folder would helpful for future purposes\n",
    "* to check any errors on data, need to check columns for unique values\n"
   ],
   "metadata": {
    "collapsed": false,
    "pycharm": {
     "name": "#%% md\n"
    }
   }
  },
  {
   "cell_type": "code",
   "execution_count": 6,
   "outputs": [
    {
     "data": {
      "text/plain": "class                       string\ncap-shape                   string\ncap-surface                 string\ncap-color                   string\nbruises                     string\nodor                        string\ngill-attachment             string\ngill-spacing                string\ngill-size                   string\ngill-color                  string\nstalk-shape                 string\nstalk-root                  string\nstalk-surface-above-ring    string\nstalk-surface-below-ring    string\nstalk-color-above-ring      string\nstalk-color-below-ring      string\nveil-type                   string\nveil-color                  string\nring-number                 string\nring-type                   string\nspore-print-color           string\npopulation                  string\nhabitat                     string\ndtype: object"
     },
     "execution_count": 6,
     "metadata": {},
     "output_type": "execute_result"
    }
   ],
   "source": [
    "# get max length of characters used for column names\n",
    "mush_col = mushroom.columns\n",
    "\n",
    "# convert each column to type string with given max character length\n",
    "for col in mush_col:\n",
    "    mushroom[col] = mushroom[col].astype('string')\n",
    "\n",
    "# display converted column types to string\n",
    "mushroom.dtypes"
   ],
   "metadata": {
    "collapsed": false,
    "pycharm": {
     "name": "#%%\n"
    }
   }
  },
  {
   "cell_type": "code",
   "execution_count": 7,
   "outputs": [],
   "source": [
    "# with open('../../data/raw/opafy19nid/opafy19nid.dat') as f:\n",
    "#     # next(f)\n",
    "#     tmp = pd.DataFrame(l.rstrip().split() for l in f)\n",
    "# print(tmp)"
   ],
   "metadata": {
    "collapsed": false,
    "pycharm": {
     "name": "#%%\n"
    }
   }
  },
  {
   "cell_type": "code",
   "execution_count": 8,
   "outputs": [
    {
     "data": {
      "text/plain": "class                        2\ncap-shape                    6\ncap-surface                  4\ncap-color                   10\nbruises                      2\nodor                         9\ngill-attachment              2\ngill-spacing                 2\ngill-size                    2\ngill-color                  12\nstalk-shape                  2\nstalk-root                   5\nstalk-surface-above-ring     4\nstalk-surface-below-ring     4\nstalk-color-above-ring       9\nstalk-color-below-ring       9\nveil-type                    1\nveil-color                   4\nring-number                  3\nring-type                    5\nspore-print-color            9\npopulation                   6\nhabitat                      7\ndtype: int64"
     },
     "execution_count": 8,
     "metadata": {},
     "output_type": "execute_result"
    }
   ],
   "source": [
    "mushroom.nunique()"
   ],
   "metadata": {
    "collapsed": false,
    "pycharm": {
     "name": "#%%\n"
    }
   }
  },
  {
   "cell_type": "markdown",
   "source": [
    "* we can look at documentation for names for each labeled values"
   ],
   "metadata": {
    "collapsed": false,
    "pycharm": {
     "name": "#%% md\n"
    }
   }
  },
  {
   "cell_type": "code",
   "execution_count": 9,
   "outputs": [
    {
     "name": "stdout",
     "output_type": "stream",
     "text": [
      "0 class <StringArray>\n",
      "['p', 'e']\n",
      "Length: 2, dtype: string \n",
      "\n",
      "1 cap-shape <StringArray>\n",
      "['x', 'b', 's', 'f', 'k', 'c']\n",
      "Length: 6, dtype: string \n",
      "\n",
      "2 cap-surface <StringArray>\n",
      "['s', 'y', 'f', 'g']\n",
      "Length: 4, dtype: string \n",
      "\n",
      "3 cap-color <StringArray>\n",
      "['n', 'y', 'w', 'g', 'e', 'p', 'b', 'u', 'c', 'r']\n",
      "Length: 10, dtype: string \n",
      "\n",
      "4 bruises <StringArray>\n",
      "['t', 'f']\n",
      "Length: 2, dtype: string \n",
      "\n",
      "5 odor <StringArray>\n",
      "['p', 'a', 'l', 'n', 'f', 'c', 'y', 's', 'm']\n",
      "Length: 9, dtype: string \n",
      "\n",
      "6 gill-attachment <StringArray>\n",
      "['f', 'a']\n",
      "Length: 2, dtype: string \n",
      "\n",
      "7 gill-spacing <StringArray>\n",
      "['c', 'w']\n",
      "Length: 2, dtype: string \n",
      "\n",
      "8 gill-size <StringArray>\n",
      "['n', 'b']\n",
      "Length: 2, dtype: string \n",
      "\n",
      "9 gill-color <StringArray>\n",
      "['k', 'n', 'g', 'p', 'w', 'h', 'u', 'e', 'b', 'r', 'y', 'o']\n",
      "Length: 12, dtype: string \n",
      "\n",
      "10 stalk-shape <StringArray>\n",
      "['e', 't']\n",
      "Length: 2, dtype: string \n",
      "\n",
      "11 stalk-root <StringArray>\n",
      "['e', 'c', 'b', 'r', '?']\n",
      "Length: 5, dtype: string \n",
      "\n",
      "12 stalk-surface-above-ring <StringArray>\n",
      "['s', 'f', 'k', 'y']\n",
      "Length: 4, dtype: string \n",
      "\n",
      "13 stalk-surface-below-ring <StringArray>\n",
      "['s', 'f', 'y', 'k']\n",
      "Length: 4, dtype: string \n",
      "\n",
      "14 stalk-color-above-ring <StringArray>\n",
      "['w', 'g', 'p', 'n', 'b', 'e', 'o', 'c', 'y']\n",
      "Length: 9, dtype: string \n",
      "\n",
      "15 stalk-color-below-ring <StringArray>\n",
      "['w', 'p', 'g', 'b', 'n', 'e', 'y', 'o', 'c']\n",
      "Length: 9, dtype: string \n",
      "\n",
      "16 veil-type <StringArray>\n",
      "['p']\n",
      "Length: 1, dtype: string \n",
      "\n",
      "17 veil-color <StringArray>\n",
      "['w', 'n', 'o', 'y']\n",
      "Length: 4, dtype: string \n",
      "\n",
      "18 ring-number <StringArray>\n",
      "['o', 't', 'n']\n",
      "Length: 3, dtype: string \n",
      "\n",
      "19 ring-type <StringArray>\n",
      "['p', 'e', 'l', 'f', 'n']\n",
      "Length: 5, dtype: string \n",
      "\n",
      "20 spore-print-color <StringArray>\n",
      "['k', 'n', 'u', 'h', 'w', 'r', 'o', 'y', 'b']\n",
      "Length: 9, dtype: string \n",
      "\n",
      "21 population <StringArray>\n",
      "['s', 'n', 'a', 'v', 'y', 'c']\n",
      "Length: 6, dtype: string \n",
      "\n",
      "22 habitat <StringArray>\n",
      "['u', 'g', 'm', 'd', 'p', 'w', 'l']\n",
      "Length: 7, dtype: string \n",
      "\n"
     ]
    }
   ],
   "source": [
    "# use to check if any values explain missingness\n",
    "for count, col in enumerate(mush_col):\n",
    "    print(count, col, mushroom[col].unique(), '\\n')"
   ],
   "metadata": {
    "collapsed": false,
    "pycharm": {
     "name": "#%%\n"
    }
   }
  },
  {
   "cell_type": "markdown",
   "source": [
    "* column 11, stalk-root has a missing value column ?\n",
    "* next need to check how how many ? values in column 11\n",
    "* Also veil type only has one distinct value and has no use so we will just drop this for now"
   ],
   "metadata": {
    "collapsed": false,
    "pycharm": {
     "name": "#%% md\n"
    }
   }
  },
  {
   "cell_type": "code",
   "execution_count": 10,
   "outputs": [
    {
     "data": {
      "text/plain": "Index(['class', 'cap-shape', 'cap-surface', 'cap-color', 'bruises', 'odor',\n       'gill-attachment', 'gill-spacing', 'gill-size', 'gill-color',\n       'stalk-shape', 'stalk-root', 'stalk-surface-above-ring',\n       'stalk-surface-below-ring', 'stalk-color-above-ring',\n       'stalk-color-below-ring', 'veil-color', 'ring-number', 'ring-type',\n       'spore-print-color', 'population', 'habitat'],\n      dtype='object')"
     },
     "execution_count": 10,
     "metadata": {},
     "output_type": "execute_result"
    }
   ],
   "source": [
    "# drop low variance column\n",
    "mushroom.drop('veil-type', axis=1, inplace=True)\n",
    "mush_col = mushroom.columns\n",
    "mush_col"
   ],
   "metadata": {
    "collapsed": false,
    "pycharm": {
     "name": "#%%\n"
    }
   }
  },
  {
   "cell_type": "code",
   "execution_count": 11,
   "outputs": [
    {
     "data": {
      "text/plain": "       class cap-shape cap-surface cap-color  bruises     odor  \\\n0  poisonous    sunken      smooth     brown  bruises  pungent   \n1     edible    sunken      smooth    yellow  bruises   almond   \n2     edible      bell      smooth     white  bruises    anise   \n3  poisonous    sunken       scaly     white  bruises  pungent   \n4     edible    sunken      smooth      gray       no     none   \n\n  gill-attachment gill-spacing gill-size gill-color  ...  \\\n0            free        close    narrow      black  ...   \n1            free        close     broad      black  ...   \n2            free        close     broad      brown  ...   \n3            free        close    narrow      brown  ...   \n4            free      crowded     broad      black  ...   \n\n  stalk-surface-above-ring stalk-surface-below-ring stalk-color-above-ring  \\\n0                   smooth                   smooth                  white   \n1                   smooth                   smooth                  white   \n2                   smooth                   smooth                  white   \n3                   smooth                   smooth                  white   \n4                   smooth                   smooth                  white   \n\n  stalk-color-below-ring veil-color ring-number   ring-type spore-print-color  \\\n0                  white      white         one     pendant             black   \n1                  white      white         one     pendant             brown   \n2                  white      white         one     pendant             brown   \n3                  white      white         one     pendant             black   \n4                  white      white         one  evanescent             brown   \n\n  population  habitat  \n0  scattered    urban  \n1   numerous  grasses  \n2   numerous  meadows  \n3  scattered    urban  \n4   abundant  grasses  \n\n[5 rows x 22 columns]",
      "text/html": "<div>\n<style scoped>\n    .dataframe tbody tr th:only-of-type {\n        vertical-align: middle;\n    }\n\n    .dataframe tbody tr th {\n        vertical-align: top;\n    }\n\n    .dataframe thead th {\n        text-align: right;\n    }\n</style>\n<table border=\"1\" class=\"dataframe\">\n  <thead>\n    <tr style=\"text-align: right;\">\n      <th></th>\n      <th>class</th>\n      <th>cap-shape</th>\n      <th>cap-surface</th>\n      <th>cap-color</th>\n      <th>bruises</th>\n      <th>odor</th>\n      <th>gill-attachment</th>\n      <th>gill-spacing</th>\n      <th>gill-size</th>\n      <th>gill-color</th>\n      <th>...</th>\n      <th>stalk-surface-above-ring</th>\n      <th>stalk-surface-below-ring</th>\n      <th>stalk-color-above-ring</th>\n      <th>stalk-color-below-ring</th>\n      <th>veil-color</th>\n      <th>ring-number</th>\n      <th>ring-type</th>\n      <th>spore-print-color</th>\n      <th>population</th>\n      <th>habitat</th>\n    </tr>\n  </thead>\n  <tbody>\n    <tr>\n      <th>0</th>\n      <td>poisonous</td>\n      <td>sunken</td>\n      <td>smooth</td>\n      <td>brown</td>\n      <td>bruises</td>\n      <td>pungent</td>\n      <td>free</td>\n      <td>close</td>\n      <td>narrow</td>\n      <td>black</td>\n      <td>...</td>\n      <td>smooth</td>\n      <td>smooth</td>\n      <td>white</td>\n      <td>white</td>\n      <td>white</td>\n      <td>one</td>\n      <td>pendant</td>\n      <td>black</td>\n      <td>scattered</td>\n      <td>urban</td>\n    </tr>\n    <tr>\n      <th>1</th>\n      <td>edible</td>\n      <td>sunken</td>\n      <td>smooth</td>\n      <td>yellow</td>\n      <td>bruises</td>\n      <td>almond</td>\n      <td>free</td>\n      <td>close</td>\n      <td>broad</td>\n      <td>black</td>\n      <td>...</td>\n      <td>smooth</td>\n      <td>smooth</td>\n      <td>white</td>\n      <td>white</td>\n      <td>white</td>\n      <td>one</td>\n      <td>pendant</td>\n      <td>brown</td>\n      <td>numerous</td>\n      <td>grasses</td>\n    </tr>\n    <tr>\n      <th>2</th>\n      <td>edible</td>\n      <td>bell</td>\n      <td>smooth</td>\n      <td>white</td>\n      <td>bruises</td>\n      <td>anise</td>\n      <td>free</td>\n      <td>close</td>\n      <td>broad</td>\n      <td>brown</td>\n      <td>...</td>\n      <td>smooth</td>\n      <td>smooth</td>\n      <td>white</td>\n      <td>white</td>\n      <td>white</td>\n      <td>one</td>\n      <td>pendant</td>\n      <td>brown</td>\n      <td>numerous</td>\n      <td>meadows</td>\n    </tr>\n    <tr>\n      <th>3</th>\n      <td>poisonous</td>\n      <td>sunken</td>\n      <td>scaly</td>\n      <td>white</td>\n      <td>bruises</td>\n      <td>pungent</td>\n      <td>free</td>\n      <td>close</td>\n      <td>narrow</td>\n      <td>brown</td>\n      <td>...</td>\n      <td>smooth</td>\n      <td>smooth</td>\n      <td>white</td>\n      <td>white</td>\n      <td>white</td>\n      <td>one</td>\n      <td>pendant</td>\n      <td>black</td>\n      <td>scattered</td>\n      <td>urban</td>\n    </tr>\n    <tr>\n      <th>4</th>\n      <td>edible</td>\n      <td>sunken</td>\n      <td>smooth</td>\n      <td>gray</td>\n      <td>no</td>\n      <td>none</td>\n      <td>free</td>\n      <td>crowded</td>\n      <td>broad</td>\n      <td>black</td>\n      <td>...</td>\n      <td>smooth</td>\n      <td>smooth</td>\n      <td>white</td>\n      <td>white</td>\n      <td>white</td>\n      <td>one</td>\n      <td>evanescent</td>\n      <td>brown</td>\n      <td>abundant</td>\n      <td>grasses</td>\n    </tr>\n  </tbody>\n</table>\n<p>5 rows × 22 columns</p>\n</div>"
     },
     "execution_count": 11,
     "metadata": {},
     "output_type": "execute_result"
    }
   ],
   "source": [
    "# reformat names to more interpreted labels\n",
    "mapping = { 'cap-shape': {'b': 'bell', 'c': 'conical', 'x': 'convex', 'f': 'flat', 'k': 'knobbed', 'x': 'sunken'},\n",
    "            'cap-surface': {'s': 'smooth', 'f': 'fibrous', 'g': 'grooves', 'y': 'scaly'},\n",
    "            'cap-color': {'n': 'brown', 'b': 'buff', 'c': 'cinnamon', 'g': 'gray', 'r': 'green', 'p':'pink',\n",
    "                          'u': 'purple', 'e': 'red', 'w': 'white', 'y': 'yellow'},\n",
    "            'bruises': {'t': 'bruises', 'f': 'no'},\n",
    "            'odor': {'a': 'almond', 'l': 'anise', 'c': 'creosote', 'y': 'fishy', 'f': 'foul', 'm': 'musty',\n",
    "                     'n': 'none', 'p': 'pungent', 's': 'spicy'},\n",
    "            'gill-attachment': {'a': 'attached', 'd': 'descending', 'f': 'free','n': 'notched'},\n",
    "            'gill-spacing': {'c': 'close', 'w': 'crowded', 'd': 'distant'},\n",
    "            'gill-size': {'b': 'broad', 'n': 'narrow'},\n",
    "            'gill-color': {'k': 'black', 'n': 'brown', 'b': 'buff', 'h': 'chocolate', 'g': 'gray', 'r': 'green',\n",
    "                           'o': 'orange', 'p': 'pink', 'u': 'purple', 'e': 'red', 'w': 'white', 'y': 'yellow'},\n",
    "            'stalk-shape': {'e': 'enlarging', 't': 'tapering'},\n",
    "            'stalk-root': {'b': 'bulbous', 'c': 'club', 'u': 'cup','e': 'equal', 'z': 'rhizomorphs',\n",
    "                           'r': 'rooted', '?': 'missing'},\n",
    "            'stalk-surface-above-ring': {'f': 'fibrous', 'y': 'scaly', 'k': 'silky', 's': 'smooth'},\n",
    "            'stalk-surface-below-ring': {'f': 'fibrous', 'y': 'scaly', 'k': 'silky', 's': 'smooth'},\n",
    "            'stalk-color-above-ring': {'n': 'brown', 'b': 'buff', 'c': 'cinnamon', 'g': 'gray', 'o': 'orange',\n",
    "                                       'p': 'pink', 'e': 'red', 'w': 'white', 'y': 'yellow'},\n",
    "            'stalk-color-below-ring': {'n': 'brown', 'b': 'buff', 'c': 'cinnamon', 'g': 'gray', 'o': 'orange',\n",
    "                                       'p': 'pink', 'e': 'red', 'w': 'white', 'y': 'yellow'},\n",
    "            'veil-color': {'n': 'brown', 'o': 'orange', 'w': 'white', 'y': 'yellow'},\n",
    "            'ring-number': {'n': 'none', 'o': 'one', 't': 'two'},\n",
    "            'ring-type': {'c': 'cobwebby', 'e': 'evanescent', 'f': 'flaring', 'l': 'large', 'n': 'none',\n",
    "                          'p': 'pendant', 's': 'sheathing', 'z': 'zone'},\n",
    "            'spore-print-color': {'k': 'black', 'n': 'brown', 'b': 'buff', 'h': 'chocolate', 'r': 'green',\n",
    "                                  'o': 'orange', 'u': 'purple', 'w': 'white', 'y': 'yellow'},\n",
    "            'population': {'a': 'abundant', 'c': 'clustered', 'n': 'numerous', 's': 'scattered',\n",
    "                           'v': 'several', 'y': 'solitary'},\n",
    "            'habitat': {'g': 'grasses', 'l': 'leaves', 'm': 'meadows', 'd': 'woods', 'p': 'paths',\n",
    "                        'u': 'urban', 'w': 'waste'},\n",
    "            'class': {'e': 'edible', 'p':'poisonous'}\n",
    "          }\n",
    "mushroom.replace(mapping, inplace = True)\n",
    "mushroom.head()\n"
   ],
   "metadata": {
    "collapsed": false,
    "pycharm": {
     "name": "#%%\n"
    }
   }
  },
  {
   "cell_type": "code",
   "execution_count": 12,
   "outputs": [
    {
     "name": "stdout",
     "output_type": "stream",
     "text": [
      "8124 2480 0.3052683407188577\n"
     ]
    }
   ],
   "source": [
    "# mushroom['stalk-root'].loc[mushroom['stalk-root'].str.contains('?')].count()\n",
    "number_of_missing = mushroom['stalk-root'].loc[mushroom['stalk-root'] == 'missing'].count()\n",
    "print(len(mushroom), number_of_missing, number_of_missing / len(mushroom))"
   ],
   "metadata": {
    "collapsed": false,
    "pycharm": {
     "name": "#%%\n"
    }
   }
  },
  {
   "cell_type": "markdown",
   "source": [
    "* There are 2480 missing values\n",
    "* That means 30% of data has a missing value which means we shouldn't just drop it ( > 2%)\n",
    "* check if there is a pattern among missing values and other features\n"
   ],
   "metadata": {
    "collapsed": false,
    "pycharm": {
     "name": "#%% md\n"
    }
   }
  },
  {
   "cell_type": "markdown",
   "source": [
    "* Perform test to determine what type of missingness\n",
    "Ho = There is no association between missingness in the stalk-root column and the other columns (where crit p = 0.05)"
   ],
   "metadata": {
    "collapsed": false,
    "pycharm": {
     "name": "#%% md\n"
    }
   }
  },
  {
   "cell_type": "markdown",
   "source": [
    "* run test to determine if randomness is due to mcar"
   ],
   "metadata": {
    "collapsed": false,
    "pycharm": {
     "name": "#%% md\n"
    }
   }
  },
  {
   "cell_type": "code",
   "execution_count": 13,
   "outputs": [],
   "source": [
    "# this dataframe contains all columns with missing values\n",
    "# now run a contingency chi square test with columns to see if there is an dependence\n",
    "missing_stalks = mushroom.loc[mushroom['stalk-root'] == 'missing']"
   ],
   "metadata": {
    "collapsed": false,
    "pycharm": {
     "name": "#%%\n"
    }
   }
  },
  {
   "cell_type": "code",
   "execution_count": 14,
   "outputs": [
    {
     "data": {
      "text/plain": "       class cap-shape cap-surface cap-color  bruises     odor  \\\n0  poisonous    sunken      smooth     brown  bruises  pungent   \n1     edible    sunken      smooth    yellow  bruises   almond   \n2     edible      bell      smooth     white  bruises    anise   \n3  poisonous    sunken       scaly     white  bruises  pungent   \n4     edible    sunken      smooth      gray       no     none   \n\n  gill-attachment gill-spacing gill-size gill-color  ...  \\\n0            free        close    narrow      black  ...   \n1            free        close     broad      black  ...   \n2            free        close     broad      brown  ...   \n3            free        close    narrow      brown  ...   \n4            free      crowded     broad      black  ...   \n\n  stalk-surface-above-ring stalk-surface-below-ring stalk-color-above-ring  \\\n0                   smooth                   smooth                  white   \n1                   smooth                   smooth                  white   \n2                   smooth                   smooth                  white   \n3                   smooth                   smooth                  white   \n4                   smooth                   smooth                  white   \n\n  stalk-color-below-ring veil-color ring-number   ring-type spore-print-color  \\\n0                  white      white         one     pendant             black   \n1                  white      white         one     pendant             brown   \n2                  white      white         one     pendant             brown   \n3                  white      white         one     pendant             black   \n4                  white      white         one  evanescent             brown   \n\n  population  habitat  \n0  scattered    urban  \n1   numerous  grasses  \n2   numerous  meadows  \n3  scattered    urban  \n4   abundant  grasses  \n\n[5 rows x 23 columns]",
      "text/html": "<div>\n<style scoped>\n    .dataframe tbody tr th:only-of-type {\n        vertical-align: middle;\n    }\n\n    .dataframe tbody tr th {\n        vertical-align: top;\n    }\n\n    .dataframe thead th {\n        text-align: right;\n    }\n</style>\n<table border=\"1\" class=\"dataframe\">\n  <thead>\n    <tr style=\"text-align: right;\">\n      <th></th>\n      <th>class</th>\n      <th>cap-shape</th>\n      <th>cap-surface</th>\n      <th>cap-color</th>\n      <th>bruises</th>\n      <th>odor</th>\n      <th>gill-attachment</th>\n      <th>gill-spacing</th>\n      <th>gill-size</th>\n      <th>gill-color</th>\n      <th>...</th>\n      <th>stalk-surface-above-ring</th>\n      <th>stalk-surface-below-ring</th>\n      <th>stalk-color-above-ring</th>\n      <th>stalk-color-below-ring</th>\n      <th>veil-color</th>\n      <th>ring-number</th>\n      <th>ring-type</th>\n      <th>spore-print-color</th>\n      <th>population</th>\n      <th>habitat</th>\n    </tr>\n  </thead>\n  <tbody>\n    <tr>\n      <th>0</th>\n      <td>poisonous</td>\n      <td>sunken</td>\n      <td>smooth</td>\n      <td>brown</td>\n      <td>bruises</td>\n      <td>pungent</td>\n      <td>free</td>\n      <td>close</td>\n      <td>narrow</td>\n      <td>black</td>\n      <td>...</td>\n      <td>smooth</td>\n      <td>smooth</td>\n      <td>white</td>\n      <td>white</td>\n      <td>white</td>\n      <td>one</td>\n      <td>pendant</td>\n      <td>black</td>\n      <td>scattered</td>\n      <td>urban</td>\n    </tr>\n    <tr>\n      <th>1</th>\n      <td>edible</td>\n      <td>sunken</td>\n      <td>smooth</td>\n      <td>yellow</td>\n      <td>bruises</td>\n      <td>almond</td>\n      <td>free</td>\n      <td>close</td>\n      <td>broad</td>\n      <td>black</td>\n      <td>...</td>\n      <td>smooth</td>\n      <td>smooth</td>\n      <td>white</td>\n      <td>white</td>\n      <td>white</td>\n      <td>one</td>\n      <td>pendant</td>\n      <td>brown</td>\n      <td>numerous</td>\n      <td>grasses</td>\n    </tr>\n    <tr>\n      <th>2</th>\n      <td>edible</td>\n      <td>bell</td>\n      <td>smooth</td>\n      <td>white</td>\n      <td>bruises</td>\n      <td>anise</td>\n      <td>free</td>\n      <td>close</td>\n      <td>broad</td>\n      <td>brown</td>\n      <td>...</td>\n      <td>smooth</td>\n      <td>smooth</td>\n      <td>white</td>\n      <td>white</td>\n      <td>white</td>\n      <td>one</td>\n      <td>pendant</td>\n      <td>brown</td>\n      <td>numerous</td>\n      <td>meadows</td>\n    </tr>\n    <tr>\n      <th>3</th>\n      <td>poisonous</td>\n      <td>sunken</td>\n      <td>scaly</td>\n      <td>white</td>\n      <td>bruises</td>\n      <td>pungent</td>\n      <td>free</td>\n      <td>close</td>\n      <td>narrow</td>\n      <td>brown</td>\n      <td>...</td>\n      <td>smooth</td>\n      <td>smooth</td>\n      <td>white</td>\n      <td>white</td>\n      <td>white</td>\n      <td>one</td>\n      <td>pendant</td>\n      <td>black</td>\n      <td>scattered</td>\n      <td>urban</td>\n    </tr>\n    <tr>\n      <th>4</th>\n      <td>edible</td>\n      <td>sunken</td>\n      <td>smooth</td>\n      <td>gray</td>\n      <td>no</td>\n      <td>none</td>\n      <td>free</td>\n      <td>crowded</td>\n      <td>broad</td>\n      <td>black</td>\n      <td>...</td>\n      <td>smooth</td>\n      <td>smooth</td>\n      <td>white</td>\n      <td>white</td>\n      <td>white</td>\n      <td>one</td>\n      <td>evanescent</td>\n      <td>brown</td>\n      <td>abundant</td>\n      <td>grasses</td>\n    </tr>\n  </tbody>\n</table>\n<p>5 rows × 23 columns</p>\n</div>"
     },
     "execution_count": 14,
     "metadata": {},
     "output_type": "execute_result"
    }
   ],
   "source": [
    "# make a column for missing and nonmissing data\n",
    "missing_stalk_roots = [val  if val == 'missing' else 'non-missing' for val in mushroom['stalk-root']]\n",
    "\n",
    "mushroom.insert(12, 'missing_stalk_roots', missing_stalk_roots)\n",
    "mushroom.head()\n"
   ],
   "metadata": {
    "collapsed": false,
    "pycharm": {
     "name": "#%%\n"
    }
   }
  },
  {
   "cell_type": "code",
   "execution_count": 15,
   "outputs": [],
   "source": [
    "# make a dataframe capturing the p and cramers v values\n",
    "adjusted_cramers_v_values = []\n",
    "\n",
    "for col in mush_col:\n",
    "    contingency_table = pd.crosstab(mushroom['missing_stalk_roots'], mushroom[col])\n",
    "    adjusted_cramers_v_values.append(get_adjusted_cramers_v(contingency_table))"
   ],
   "metadata": {
    "collapsed": false,
    "pycharm": {
     "name": "#%%\n"
    }
   }
  },
  {
   "cell_type": "code",
   "execution_count": 16,
   "outputs": [],
   "source": [
    "assoc_strengths = ['Strong', 'Moderate', 'Weak', 'Very weak']\n",
    "\n",
    "assoc_strengths_values = [assoc_strengths[0] if val > 0.5 else\n",
    "                          assoc_strengths[1] if val > 0.3 else\n",
    "                          assoc_strengths[2] if val > 0.1 else\n",
    "                          assoc_strengths[3] for val in adjusted_cramers_v_values]"
   ],
   "metadata": {
    "collapsed": false,
    "pycharm": {
     "name": "#%%\n"
    }
   }
  },
  {
   "cell_type": "code",
   "execution_count": 17,
   "outputs": [
    {
     "data": {
      "text/plain": "           Mushroom Features  Cramers V (adjusted) Associated Strength\n0                 stalk-root              0.999815              Strong\n1          spore-print-color              0.929691              Strong\n2                 gill-color              0.850809              Strong\n3                  ring-type              0.646817              Strong\n4                       odor              0.640680              Strong\n5                  gill-size              0.601792              Strong\n6                    habitat              0.594037              Strong\n7                  cap-color              0.506855              Strong\n8                 population              0.499297            Moderate\n9                  cap-shape              0.480141            Moderate\n10                   bruises              0.454443            Moderate\n11    stalk-color-above-ring              0.433056            Moderate\n12    stalk-color-below-ring              0.432535            Moderate\n13               cap-surface              0.368313            Moderate\n14               ring-number              0.305420            Moderate\n15                     class              0.301548            Moderate\n16  stalk-surface-above-ring              0.239606                Weak\n17                veil-color              0.234759                Weak\n18  stalk-surface-below-ring              0.219897                Weak\n19           gill-attachment              0.214307                Weak\n20               stalk-shape              0.172730                Weak\n21              gill-spacing              0.080605           Very weak",
      "text/html": "<div>\n<style scoped>\n    .dataframe tbody tr th:only-of-type {\n        vertical-align: middle;\n    }\n\n    .dataframe tbody tr th {\n        vertical-align: top;\n    }\n\n    .dataframe thead th {\n        text-align: right;\n    }\n</style>\n<table border=\"1\" class=\"dataframe\">\n  <thead>\n    <tr style=\"text-align: right;\">\n      <th></th>\n      <th>Mushroom Features</th>\n      <th>Cramers V (adjusted)</th>\n      <th>Associated Strength</th>\n    </tr>\n  </thead>\n  <tbody>\n    <tr>\n      <th>0</th>\n      <td>stalk-root</td>\n      <td>0.999815</td>\n      <td>Strong</td>\n    </tr>\n    <tr>\n      <th>1</th>\n      <td>spore-print-color</td>\n      <td>0.929691</td>\n      <td>Strong</td>\n    </tr>\n    <tr>\n      <th>2</th>\n      <td>gill-color</td>\n      <td>0.850809</td>\n      <td>Strong</td>\n    </tr>\n    <tr>\n      <th>3</th>\n      <td>ring-type</td>\n      <td>0.646817</td>\n      <td>Strong</td>\n    </tr>\n    <tr>\n      <th>4</th>\n      <td>odor</td>\n      <td>0.640680</td>\n      <td>Strong</td>\n    </tr>\n    <tr>\n      <th>5</th>\n      <td>gill-size</td>\n      <td>0.601792</td>\n      <td>Strong</td>\n    </tr>\n    <tr>\n      <th>6</th>\n      <td>habitat</td>\n      <td>0.594037</td>\n      <td>Strong</td>\n    </tr>\n    <tr>\n      <th>7</th>\n      <td>cap-color</td>\n      <td>0.506855</td>\n      <td>Strong</td>\n    </tr>\n    <tr>\n      <th>8</th>\n      <td>population</td>\n      <td>0.499297</td>\n      <td>Moderate</td>\n    </tr>\n    <tr>\n      <th>9</th>\n      <td>cap-shape</td>\n      <td>0.480141</td>\n      <td>Moderate</td>\n    </tr>\n    <tr>\n      <th>10</th>\n      <td>bruises</td>\n      <td>0.454443</td>\n      <td>Moderate</td>\n    </tr>\n    <tr>\n      <th>11</th>\n      <td>stalk-color-above-ring</td>\n      <td>0.433056</td>\n      <td>Moderate</td>\n    </tr>\n    <tr>\n      <th>12</th>\n      <td>stalk-color-below-ring</td>\n      <td>0.432535</td>\n      <td>Moderate</td>\n    </tr>\n    <tr>\n      <th>13</th>\n      <td>cap-surface</td>\n      <td>0.368313</td>\n      <td>Moderate</td>\n    </tr>\n    <tr>\n      <th>14</th>\n      <td>ring-number</td>\n      <td>0.305420</td>\n      <td>Moderate</td>\n    </tr>\n    <tr>\n      <th>15</th>\n      <td>class</td>\n      <td>0.301548</td>\n      <td>Moderate</td>\n    </tr>\n    <tr>\n      <th>16</th>\n      <td>stalk-surface-above-ring</td>\n      <td>0.239606</td>\n      <td>Weak</td>\n    </tr>\n    <tr>\n      <th>17</th>\n      <td>veil-color</td>\n      <td>0.234759</td>\n      <td>Weak</td>\n    </tr>\n    <tr>\n      <th>18</th>\n      <td>stalk-surface-below-ring</td>\n      <td>0.219897</td>\n      <td>Weak</td>\n    </tr>\n    <tr>\n      <th>19</th>\n      <td>gill-attachment</td>\n      <td>0.214307</td>\n      <td>Weak</td>\n    </tr>\n    <tr>\n      <th>20</th>\n      <td>stalk-shape</td>\n      <td>0.172730</td>\n      <td>Weak</td>\n    </tr>\n    <tr>\n      <th>21</th>\n      <td>gill-spacing</td>\n      <td>0.080605</td>\n      <td>Very weak</td>\n    </tr>\n  </tbody>\n</table>\n</div>"
     },
     "execution_count": 17,
     "metadata": {},
     "output_type": "execute_result"
    }
   ],
   "source": [
    "missing_relations = pd.DataFrame({'Mushroom Features': mush_col,\n",
    "                                  'Cramers V (adjusted)':adjusted_cramers_v_values,\n",
    "                                  'Associated Strength':assoc_strengths_values}).sort_values(by='Cramers V (adjusted)', ascending=False)\n",
    "missing_relations.reset_index(drop=True, inplace=True)\n",
    "missing_relations"
   ],
   "metadata": {
    "collapsed": false,
    "pycharm": {
     "name": "#%%\n"
    }
   }
  },
  {
   "cell_type": "code",
   "execution_count": 18,
   "outputs": [],
   "source": [
    "# drop stalk root as it is obvious we get a dpeendent relation compared to missing stalk root features (as it was derived from that prior feature)\n",
    "missing_relations.drop(0, inplace=True)"
   ],
   "metadata": {
    "collapsed": false,
    "pycharm": {
     "name": "#%%\n"
    }
   }
  },
  {
   "cell_type": "code",
   "execution_count": 19,
   "outputs": [
    {
     "data": {
      "text/plain": "Text(0.5, 1.0, 'Top Associated Strength of Mushroom Features on Missing Stalk Root')"
     },
     "execution_count": 19,
     "metadata": {},
     "output_type": "execute_result"
    },
    {
     "data": {
      "text/plain": "<Figure size 1800x1080 with 1 Axes>",
      "image/png": "[encoded data removed]"
     },
     "metadata": {},
     "output_type": "display_data"
    }
   ],
   "source": [
    "plt.figure(figsize=(25,15))\n",
    "sns.barplot(data=missing_relations[:10], x='Mushroom Features', y='Cramers V (adjusted)')\n",
    "plt.title('Top Associated Strength of Mushroom Features on Missing Stalk Root')"
   ],
   "metadata": {
    "collapsed": false,
    "pycharm": {
     "name": "#%%\n"
    }
   }
  },
  {
   "cell_type": "markdown",
   "source": [
    "From the interpretation of Cramers V statistic of our missing column with other columns\n",
    "it is shown that the missing value is most likely not due to randomness and so the type\n",
    "of missingness; it is not MCAR.\n",
    "Also we had 16 columns that deem a strong relationship with the missing column\n",
    "We can perform some imputation to predict values for the missing value."
   ],
   "metadata": {
    "collapsed": false,
    "pycharm": {
     "name": "#%% md\n"
    }
   }
  },
  {
   "cell_type": "markdown",
   "source": [
    "# Predict and impute missing data\n",
    "* Separate dataframe from missing and non missing data\n",
    "* preprocess the known data\n",
    "* split known data\n",
    "* perform random forest regressor to train and get score\n",
    "* use this model to predict our missing data values"
   ],
   "metadata": {
    "collapsed": false,
    "pycharm": {
     "name": "#%% md\n"
    }
   }
  },
  {
   "cell_type": "code",
   "execution_count": 20,
   "outputs": [
    {
     "data": {
      "text/plain": "False"
     },
     "execution_count": 20,
     "metadata": {},
     "output_type": "execute_result"
    }
   ],
   "source": [
    "# drop mushroom missing column as we no longer need it\n",
    "mushroom.drop('missing_stalk_roots', axis=1, inplace=True)\n",
    "'missing_stalk_roots' in mushroom.columns"
   ],
   "metadata": {
    "collapsed": false,
    "pycharm": {
     "name": "#%%\n"
    }
   }
  },
  {
   "cell_type": "code",
   "execution_count": 21,
   "outputs": [
    {
     "data": {
      "text/plain": "          class cap-shape cap-surface cap-color  bruises     odor  \\\n0     poisonous    sunken      smooth     brown  bruises  pungent   \n1        edible    sunken      smooth    yellow  bruises   almond   \n2        edible      bell      smooth     white  bruises    anise   \n3     poisonous    sunken       scaly     white  bruises  pungent   \n4        edible    sunken      smooth      gray       no     none   \n...         ...       ...         ...       ...      ...      ...   \n7986     edible      bell       scaly     brown       no     none   \n8001     edible    sunken       scaly     brown       no     none   \n8038     edible    sunken       scaly      gray  bruises     none   \n8095  poisonous    sunken       scaly  cinnamon       no    musty   \n8114  poisonous      flat       scaly  cinnamon       no    musty   \n\n     gill-attachment gill-spacing gill-size gill-color  ...  \\\n0               free        close    narrow      black  ...   \n1               free        close     broad      black  ...   \n2               free        close     broad      brown  ...   \n3               free        close    narrow      brown  ...   \n4               free      crowded     broad      black  ...   \n...              ...          ...       ...        ...  ...   \n7986            free        close     broad      white  ...   \n8001            free        close     broad      white  ...   \n8038            free        close     broad      white  ...   \n8095            free        close     broad     yellow  ...   \n8114        attached        close     broad     yellow  ...   \n\n     stalk-surface-above-ring stalk-surface-below-ring stalk-color-above-ring  \\\n0                      smooth                   smooth                  white   \n1                      smooth                   smooth                  white   \n2                      smooth                   smooth                  white   \n3                      smooth                   smooth                  white   \n4                      smooth                   smooth                  white   \n...                       ...                      ...                    ...   \n7986                    scaly                    scaly                  brown   \n8001                    scaly                    scaly                  brown   \n8038                   smooth                   smooth                  white   \n8095                    silky                    scaly               cinnamon   \n8114                    silky                    scaly               cinnamon   \n\n     stalk-color-below-ring veil-color ring-number   ring-type  \\\n0                     white      white         one     pendant   \n1                     white      white         one     pendant   \n2                     white      white         one     pendant   \n3                     white      white         one     pendant   \n4                     white      white         one  evanescent   \n...                     ...        ...         ...         ...   \n7986                  brown      white         two     pendant   \n8001                  brown      white         two     pendant   \n8038                  white      white         two     pendant   \n8095               cinnamon      white        none        none   \n8114               cinnamon      white        none        none   \n\n     spore-print-color population  habitat  \n0                black  scattered    urban  \n1                brown   numerous  grasses  \n2                brown   numerous  meadows  \n3                black  scattered    urban  \n4                brown   abundant  grasses  \n...                ...        ...      ...  \n7986             white   solitary    paths  \n8001             white   solitary    paths  \n8038             white   solitary    paths  \n8095             white  clustered    woods  \n8114             white  clustered    woods  \n\n[5644 rows x 22 columns]",
      "text/html": "<div>\n<style scoped>\n    .dataframe tbody tr th:only-of-type {\n        vertical-align: middle;\n    }\n\n    .dataframe tbody tr th {\n        vertical-align: top;\n    }\n\n    .dataframe thead th {\n        text-align: right;\n    }\n</style>\n<table border=\"1\" class=\"dataframe\">\n  <thead>\n    <tr style=\"text-align: right;\">\n      <th></th>\n      <th>class</th>\n      <th>cap-shape</th>\n      <th>cap-surface</th>\n      <th>cap-color</th>\n      <th>bruises</th>\n      <th>odor</th>\n      <th>gill-attachment</th>\n      <th>gill-spacing</th>\n      <th>gill-size</th>\n      <th>gill-color</th>\n      <th>...</th>\n      <th>stalk-surface-above-ring</th>\n      <th>stalk-surface-below-ring</th>\n      <th>stalk-color-above-ring</th>\n      <th>stalk-color-below-ring</th>\n      <th>veil-color</th>\n      <th>ring-number</th>\n      <th>ring-type</th>\n      <th>spore-print-color</th>\n      <th>population</th>\n      <th>habitat</th>\n    </tr>\n  </thead>\n  <tbody>\n    <tr>\n      <th>0</th>\n      <td>poisonous</td>\n      <td>sunken</td>\n      <td>smooth</td>\n      <td>brown</td>\n      <td>bruises</td>\n      <td>pungent</td>\n      <td>free</td>\n      <td>close</td>\n      <td>narrow</td>\n      <td>black</td>\n      <td>...</td>\n      <td>smooth</td>\n      <td>smooth</td>\n      <td>white</td>\n      <td>white</td>\n      <td>white</td>\n      <td>one</td>\n      <td>pendant</td>\n      <td>black</td>\n      <td>scattered</td>\n      <td>urban</td>\n    </tr>\n    <tr>\n      <th>1</th>\n      <td>edible</td>\n      <td>sunken</td>\n      <td>smooth</td>\n      <td>yellow</td>\n      <td>bruises</td>\n      <td>almond</td>\n      <td>free</td>\n      <td>close</td>\n      <td>broad</td>\n      <td>black</td>\n      <td>...</td>\n      <td>smooth</td>\n      <td>smooth</td>\n      <td>white</td>\n      <td>white</td>\n      <td>white</td>\n      <td>one</td>\n      <td>pendant</td>\n      <td>brown</td>\n      <td>numerous</td>\n      <td>grasses</td>\n    </tr>\n    <tr>\n      <th>2</th>\n      <td>edible</td>\n      <td>bell</td>\n      <td>smooth</td>\n      <td>white</td>\n      <td>bruises</td>\n      <td>anise</td>\n      <td>free</td>\n      <td>close</td>\n      <td>broad</td>\n      <td>brown</td>\n      <td>...</td>\n      <td>smooth</td>\n      <td>smooth</td>\n      <td>white</td>\n      <td>white</td>\n      <td>white</td>\n      <td>one</td>\n      <td>pendant</td>\n      <td>brown</td>\n      <td>numerous</td>\n      <td>meadows</td>\n    </tr>\n    <tr>\n      <th>3</th>\n      <td>poisonous</td>\n      <td>sunken</td>\n      <td>scaly</td>\n      <td>white</td>\n      <td>bruises</td>\n      <td>pungent</td>\n      <td>free</td>\n      <td>close</td>\n      <td>narrow</td>\n      <td>brown</td>\n      <td>...</td>\n      <td>smooth</td>\n      <td>smooth</td>\n      <td>white</td>\n      <td>white</td>\n      <td>white</td>\n      <td>one</td>\n      <td>pendant</td>\n      <td>black</td>\n      <td>scattered</td>\n      <td>urban</td>\n    </tr>\n    <tr>\n      <th>4</th>\n      <td>edible</td>\n      <td>sunken</td>\n      <td>smooth</td>\n      <td>gray</td>\n      <td>no</td>\n      <td>none</td>\n      <td>free</td>\n      <td>crowded</td>\n      <td>broad</td>\n      <td>black</td>\n      <td>...</td>\n      <td>smooth</td>\n      <td>smooth</td>\n      <td>white</td>\n      <td>white</td>\n      <td>white</td>\n      <td>one</td>\n      <td>evanescent</td>\n      <td>brown</td>\n      <td>abundant</td>\n      <td>grasses</td>\n    </tr>\n    <tr>\n      <th>...</th>\n      <td>...</td>\n      <td>...</td>\n      <td>...</td>\n      <td>...</td>\n      <td>...</td>\n      <td>...</td>\n      <td>...</td>\n      <td>...</td>\n      <td>...</td>\n      <td>...</td>\n      <td>...</td>\n      <td>...</td>\n      <td>...</td>\n      <td>...</td>\n      <td>...</td>\n      <td>...</td>\n      <td>...</td>\n      <td>...</td>\n      <td>...</td>\n      <td>...</td>\n      <td>...</td>\n    </tr>\n    <tr>\n      <th>7986</th>\n      <td>edible</td>\n      <td>bell</td>\n      <td>scaly</td>\n      <td>brown</td>\n      <td>no</td>\n      <td>none</td>\n      <td>free</td>\n      <td>close</td>\n      <td>broad</td>\n      <td>white</td>\n      <td>...</td>\n      <td>scaly</td>\n      <td>scaly</td>\n      <td>brown</td>\n      <td>brown</td>\n      <td>white</td>\n      <td>two</td>\n      <td>pendant</td>\n      <td>white</td>\n      <td>solitary</td>\n      <td>paths</td>\n    </tr>\n    <tr>\n      <th>8001</th>\n      <td>edible</td>\n      <td>sunken</td>\n      <td>scaly</td>\n      <td>brown</td>\n      <td>no</td>\n      <td>none</td>\n      <td>free</td>\n      <td>close</td>\n      <td>broad</td>\n      <td>white</td>\n      <td>...</td>\n      <td>scaly</td>\n      <td>scaly</td>\n      <td>brown</td>\n      <td>brown</td>\n      <td>white</td>\n      <td>two</td>\n      <td>pendant</td>\n      <td>white</td>\n      <td>solitary</td>\n      <td>paths</td>\n    </tr>\n    <tr>\n      <th>8038</th>\n      <td>edible</td>\n      <td>sunken</td>\n      <td>scaly</td>\n      <td>gray</td>\n      <td>bruises</td>\n      <td>none</td>\n      <td>free</td>\n      <td>close</td>\n      <td>broad</td>\n      <td>white</td>\n      <td>...</td>\n      <td>smooth</td>\n      <td>smooth</td>\n      <td>white</td>\n      <td>white</td>\n      <td>white</td>\n      <td>two</td>\n      <td>pendant</td>\n      <td>white</td>\n      <td>solitary</td>\n      <td>paths</td>\n    </tr>\n    <tr>\n      <th>8095</th>\n      <td>poisonous</td>\n      <td>sunken</td>\n      <td>scaly</td>\n      <td>cinnamon</td>\n      <td>no</td>\n      <td>musty</td>\n      <td>free</td>\n      <td>close</td>\n      <td>broad</td>\n      <td>yellow</td>\n      <td>...</td>\n      <td>silky</td>\n      <td>scaly</td>\n      <td>cinnamon</td>\n      <td>cinnamon</td>\n      <td>white</td>\n      <td>none</td>\n      <td>none</td>\n      <td>white</td>\n      <td>clustered</td>\n      <td>woods</td>\n    </tr>\n    <tr>\n      <th>8114</th>\n      <td>poisonous</td>\n      <td>flat</td>\n      <td>scaly</td>\n      <td>cinnamon</td>\n      <td>no</td>\n      <td>musty</td>\n      <td>attached</td>\n      <td>close</td>\n      <td>broad</td>\n      <td>yellow</td>\n      <td>...</td>\n      <td>silky</td>\n      <td>scaly</td>\n      <td>cinnamon</td>\n      <td>cinnamon</td>\n      <td>white</td>\n      <td>none</td>\n      <td>none</td>\n      <td>white</td>\n      <td>clustered</td>\n      <td>woods</td>\n    </tr>\n  </tbody>\n</table>\n<p>5644 rows × 22 columns</p>\n</div>"
     },
     "metadata": {},
     "output_type": "display_data"
    },
    {
     "data": {
      "text/plain": "          class cap-shape cap-surface cap-color  bruises   odor  \\\n3984     edible    sunken       scaly      buff  bruises   none   \n4023  poisonous    sunken       scaly       red       no  fishy   \n4076     edible      flat       scaly    purple       no   none   \n4100  poisonous    sunken       scaly       red       no  fishy   \n4104  poisonous    sunken       scaly     brown       no   foul   \n...         ...       ...         ...       ...      ...    ...   \n8119     edible   knobbed      smooth     brown       no   none   \n8120     edible    sunken      smooth     brown       no   none   \n8121     edible      flat      smooth     brown       no   none   \n8122  poisonous   knobbed       scaly     brown       no  fishy   \n8123     edible    sunken      smooth     brown       no   none   \n\n     gill-attachment gill-spacing gill-size gill-color  ...  \\\n3984            free        close     broad        red  ...   \n4023            free        close    narrow       buff  ...   \n4076            free        close    narrow  chocolate  ...   \n4100            free        close    narrow       buff  ...   \n4104            free        close    narrow       buff  ...   \n...              ...          ...       ...        ...  ...   \n8119        attached        close     broad     yellow  ...   \n8120        attached        close     broad     yellow  ...   \n8121        attached        close     broad      brown  ...   \n8122            free        close    narrow       buff  ...   \n8123        attached        close     broad     yellow  ...   \n\n     stalk-surface-above-ring stalk-surface-below-ring stalk-color-above-ring  \\\n3984                   smooth                   smooth                    red   \n4023                    silky                   smooth                  white   \n4076                   smooth                  fibrous                  white   \n4100                    silky                   smooth                   pink   \n4104                   smooth                   smooth                   pink   \n...                       ...                      ...                    ...   \n8119                   smooth                   smooth                 orange   \n8120                   smooth                   smooth                 orange   \n8121                   smooth                   smooth                 orange   \n8122                   smooth                    silky                  white   \n8123                   smooth                   smooth                 orange   \n\n     stalk-color-below-ring veil-color ring-number   ring-type  \\\n3984                  white      white         two  evanescent   \n4023                  white      white         one  evanescent   \n4076                  white      white         one     flaring   \n4100                   pink      white         one  evanescent   \n4104                   pink      white         one  evanescent   \n...                     ...        ...         ...         ...   \n8119                 orange     orange         one     pendant   \n8120                 orange      brown         one     pendant   \n8121                 orange     orange         one     pendant   \n8122                  white      white         one  evanescent   \n8123                 orange     orange         one     pendant   \n\n     spore-print-color population habitat  \n3984             white  clustered   waste  \n4023             white    several   paths  \n4076         chocolate   solitary   woods  \n4100             white    several   woods  \n4104             white    several  leaves  \n...                ...        ...     ...  \n8119              buff  clustered  leaves  \n8120              buff    several  leaves  \n8121              buff  clustered  leaves  \n8122             white    several  leaves  \n8123            orange  clustered  leaves  \n\n[2480 rows x 22 columns]",
      "text/html": "<div>\n<style scoped>\n    .dataframe tbody tr th:only-of-type {\n        vertical-align: middle;\n    }\n\n    .dataframe tbody tr th {\n        vertical-align: top;\n    }\n\n    .dataframe thead th {\n        text-align: right;\n    }\n</style>\n<table border=\"1\" class=\"dataframe\">\n  <thead>\n    <tr style=\"text-align: right;\">\n      <th></th>\n      <th>class</th>\n      <th>cap-shape</th>\n      <th>cap-surface</th>\n      <th>cap-color</th>\n      <th>bruises</th>\n      <th>odor</th>\n      <th>gill-attachment</th>\n      <th>gill-spacing</th>\n      <th>gill-size</th>\n      <th>gill-color</th>\n      <th>...</th>\n      <th>stalk-surface-above-ring</th>\n      <th>stalk-surface-below-ring</th>\n      <th>stalk-color-above-ring</th>\n      <th>stalk-color-below-ring</th>\n      <th>veil-color</th>\n      <th>ring-number</th>\n      <th>ring-type</th>\n      <th>spore-print-color</th>\n      <th>population</th>\n      <th>habitat</th>\n    </tr>\n  </thead>\n  <tbody>\n    <tr>\n      <th>3984</th>\n      <td>edible</td>\n      <td>sunken</td>\n      <td>scaly</td>\n      <td>buff</td>\n      <td>bruises</td>\n      <td>none</td>\n      <td>free</td>\n      <td>close</td>\n      <td>broad</td>\n      <td>red</td>\n      <td>...</td>\n      <td>smooth</td>\n      <td>smooth</td>\n      <td>red</td>\n      <td>white</td>\n      <td>white</td>\n      <td>two</td>\n      <td>evanescent</td>\n      <td>white</td>\n      <td>clustered</td>\n      <td>waste</td>\n    </tr>\n    <tr>\n      <th>4023</th>\n      <td>poisonous</td>\n      <td>sunken</td>\n      <td>scaly</td>\n      <td>red</td>\n      <td>no</td>\n      <td>fishy</td>\n      <td>free</td>\n      <td>close</td>\n      <td>narrow</td>\n      <td>buff</td>\n      <td>...</td>\n      <td>silky</td>\n      <td>smooth</td>\n      <td>white</td>\n      <td>white</td>\n      <td>white</td>\n      <td>one</td>\n      <td>evanescent</td>\n      <td>white</td>\n      <td>several</td>\n      <td>paths</td>\n    </tr>\n    <tr>\n      <th>4076</th>\n      <td>edible</td>\n      <td>flat</td>\n      <td>scaly</td>\n      <td>purple</td>\n      <td>no</td>\n      <td>none</td>\n      <td>free</td>\n      <td>close</td>\n      <td>narrow</td>\n      <td>chocolate</td>\n      <td>...</td>\n      <td>smooth</td>\n      <td>fibrous</td>\n      <td>white</td>\n      <td>white</td>\n      <td>white</td>\n      <td>one</td>\n      <td>flaring</td>\n      <td>chocolate</td>\n      <td>solitary</td>\n      <td>woods</td>\n    </tr>\n    <tr>\n      <th>4100</th>\n      <td>poisonous</td>\n      <td>sunken</td>\n      <td>scaly</td>\n      <td>red</td>\n      <td>no</td>\n      <td>fishy</td>\n      <td>free</td>\n      <td>close</td>\n      <td>narrow</td>\n      <td>buff</td>\n      <td>...</td>\n      <td>silky</td>\n      <td>smooth</td>\n      <td>pink</td>\n      <td>pink</td>\n      <td>white</td>\n      <td>one</td>\n      <td>evanescent</td>\n      <td>white</td>\n      <td>several</td>\n      <td>woods</td>\n    </tr>\n    <tr>\n      <th>4104</th>\n      <td>poisonous</td>\n      <td>sunken</td>\n      <td>scaly</td>\n      <td>brown</td>\n      <td>no</td>\n      <td>foul</td>\n      <td>free</td>\n      <td>close</td>\n      <td>narrow</td>\n      <td>buff</td>\n      <td>...</td>\n      <td>smooth</td>\n      <td>smooth</td>\n      <td>pink</td>\n      <td>pink</td>\n      <td>white</td>\n      <td>one</td>\n      <td>evanescent</td>\n      <td>white</td>\n      <td>several</td>\n      <td>leaves</td>\n    </tr>\n    <tr>\n      <th>...</th>\n      <td>...</td>\n      <td>...</td>\n      <td>...</td>\n      <td>...</td>\n      <td>...</td>\n      <td>...</td>\n      <td>...</td>\n      <td>...</td>\n      <td>...</td>\n      <td>...</td>\n      <td>...</td>\n      <td>...</td>\n      <td>...</td>\n      <td>...</td>\n      <td>...</td>\n      <td>...</td>\n      <td>...</td>\n      <td>...</td>\n      <td>...</td>\n      <td>...</td>\n      <td>...</td>\n    </tr>\n    <tr>\n      <th>8119</th>\n      <td>edible</td>\n      <td>knobbed</td>\n      <td>smooth</td>\n      <td>brown</td>\n      <td>no</td>\n      <td>none</td>\n      <td>attached</td>\n      <td>close</td>\n      <td>broad</td>\n      <td>yellow</td>\n      <td>...</td>\n      <td>smooth</td>\n      <td>smooth</td>\n      <td>orange</td>\n      <td>orange</td>\n      <td>orange</td>\n      <td>one</td>\n      <td>pendant</td>\n      <td>buff</td>\n      <td>clustered</td>\n      <td>leaves</td>\n    </tr>\n    <tr>\n      <th>8120</th>\n      <td>edible</td>\n      <td>sunken</td>\n      <td>smooth</td>\n      <td>brown</td>\n      <td>no</td>\n      <td>none</td>\n      <td>attached</td>\n      <td>close</td>\n      <td>broad</td>\n      <td>yellow</td>\n      <td>...</td>\n      <td>smooth</td>\n      <td>smooth</td>\n      <td>orange</td>\n      <td>orange</td>\n      <td>brown</td>\n      <td>one</td>\n      <td>pendant</td>\n      <td>buff</td>\n      <td>several</td>\n      <td>leaves</td>\n    </tr>\n    <tr>\n      <th>8121</th>\n      <td>edible</td>\n      <td>flat</td>\n      <td>smooth</td>\n      <td>brown</td>\n      <td>no</td>\n      <td>none</td>\n      <td>attached</td>\n      <td>close</td>\n      <td>broad</td>\n      <td>brown</td>\n      <td>...</td>\n      <td>smooth</td>\n      <td>smooth</td>\n      <td>orange</td>\n      <td>orange</td>\n      <td>orange</td>\n      <td>one</td>\n      <td>pendant</td>\n      <td>buff</td>\n      <td>clustered</td>\n      <td>leaves</td>\n    </tr>\n    <tr>\n      <th>8122</th>\n      <td>poisonous</td>\n      <td>knobbed</td>\n      <td>scaly</td>\n      <td>brown</td>\n      <td>no</td>\n      <td>fishy</td>\n      <td>free</td>\n      <td>close</td>\n      <td>narrow</td>\n      <td>buff</td>\n      <td>...</td>\n      <td>smooth</td>\n      <td>silky</td>\n      <td>white</td>\n      <td>white</td>\n      <td>white</td>\n      <td>one</td>\n      <td>evanescent</td>\n      <td>white</td>\n      <td>several</td>\n      <td>leaves</td>\n    </tr>\n    <tr>\n      <th>8123</th>\n      <td>edible</td>\n      <td>sunken</td>\n      <td>smooth</td>\n      <td>brown</td>\n      <td>no</td>\n      <td>none</td>\n      <td>attached</td>\n      <td>close</td>\n      <td>broad</td>\n      <td>yellow</td>\n      <td>...</td>\n      <td>smooth</td>\n      <td>smooth</td>\n      <td>orange</td>\n      <td>orange</td>\n      <td>orange</td>\n      <td>one</td>\n      <td>pendant</td>\n      <td>orange</td>\n      <td>clustered</td>\n      <td>leaves</td>\n    </tr>\n  </tbody>\n</table>\n<p>2480 rows × 22 columns</p>\n</div>"
     },
     "metadata": {},
     "output_type": "display_data"
    }
   ],
   "source": [
    "# separate known and unknown data\n",
    "unknown_stalk = mushroom['stalk-root'] == 'missing'\n",
    "\n",
    "known_mushroom = mushroom.loc[~unknown_stalk]\n",
    "display(known_mushroom)\n",
    "\n",
    "unknown_mushroom = mushroom.loc[unknown_stalk]\n",
    "display(unknown_mushroom)\n"
   ],
   "metadata": {
    "collapsed": false,
    "pycharm": {
     "name": "#%%\n"
    }
   }
  },
  {
   "cell_type": "markdown",
   "source": [
    "### Preprocessing\n",
    "We are using a label encoder even though the categories are not ordinal.\n",
    "This is due to the fact that we will be using a tree model and tree models have a behavior\n",
    "to perform well with label encoders even when no ordering relationship is present\n",
    "Also save time in not needing to perform one hot encoding and then pca"
   ],
   "metadata": {
    "collapsed": false,
    "pycharm": {
     "name": "#%% md\n"
    }
   }
  },
  {
   "cell_type": "code",
   "execution_count": 22,
   "outputs": [],
   "source": [
    "# preprocess known mushrooms\n",
    "# also drop class (due to data leakage later in notebook)\n",
    "X = known_mushroom.drop(['stalk-root', 'class'], axis=1)\n",
    "y = known_mushroom['stalk-root']"
   ],
   "metadata": {
    "collapsed": false,
    "pycharm": {
     "name": "#%%\n"
    }
   }
  },
  {
   "cell_type": "code",
   "execution_count": 23,
   "outputs": [],
   "source": [
    "X_train, X_test, y_train, y_test = train_test_split(X, y, test_size=0.25, random_state=42)"
   ],
   "metadata": {
    "collapsed": false,
    "pycharm": {
     "name": "#%%\n"
    }
   }
  },
  {
   "cell_type": "code",
   "execution_count": 24,
   "outputs": [],
   "source": [
    "X_cols = X_train.columns\n",
    "\n",
    "le_X = LabelEncoder()\n",
    "le_y = LabelEncoder()\n",
    "\n",
    "for col in X_cols:\n",
    "    # encode X_train and fit X_test on that encoder\n",
    "    X_train[col] = le_X.fit_transform(X_train[col])\n",
    "    X_test[col] = le_X.transform(X_test[col])\n",
    "\n",
    "# encode y_train and fit y_test on that encoder\n",
    "y_train = le_y.fit_transform(y_train)\n",
    "y_test = le_y.transform(y_test)\n"
   ],
   "metadata": {
    "collapsed": false,
    "pycharm": {
     "name": "#%%\n"
    }
   }
  },
  {
   "cell_type": "code",
   "execution_count": 25,
   "outputs": [],
   "source": [
    "rf_pipe = Pipeline([('rf', RandomForestClassifier(random_state=42))])\n",
    "rf_param_grid = {}"
   ],
   "metadata": {
    "collapsed": false,
    "pycharm": {
     "name": "#%%\n"
    }
   }
  },
  {
   "cell_type": "code",
   "execution_count": 26,
   "outputs": [
    {
     "data": {
      "text/plain": "GridSearchCV(cv=5,\n             estimator=Pipeline(steps=[('rf',\n                                        RandomForestClassifier(random_state=42))]),\n             param_grid={})"
     },
     "execution_count": 26,
     "metadata": {},
     "output_type": "execute_result"
    }
   ],
   "source": [
    "rf_grid = GridSearchCV(rf_pipe, rf_param_grid, cv=5)\n",
    "rf_grid.fit(X_train, y_train)"
   ],
   "metadata": {
    "collapsed": false,
    "pycharm": {
     "name": "#%%\n"
    }
   }
  },
  {
   "cell_type": "code",
   "execution_count": 31,
   "outputs": [],
   "source": [
    "train_std = rf_grid.cv_results_['std_test_score'][rf_grid.best_index_]\n",
    "train_score, test_score = rf_grid.best_score_, rf_grid.score(X_test, y_test)"
   ],
   "metadata": {
    "collapsed": false,
    "pycharm": {
     "name": "#%%\n"
    }
   }
  },
  {
   "cell_type": "code",
   "execution_count": 32,
   "outputs": [
    {
     "name": "stdout",
     "output_type": "stream",
     "text": [
      "train score: 1.0 train std score: 0.0 test score: 1.0\n"
     ]
    }
   ],
   "source": [
    "print('train score:', train_score, 'train std score:', train_std, 'test score:', test_score)"
   ],
   "metadata": {
    "collapsed": false,
    "pycharm": {
     "name": "#%%\n"
    }
   }
  },
  {
   "cell_type": "code",
   "execution_count": 37,
   "outputs": [
    {
     "data": {
      "text/plain": "['../../model/rf_model_for_imputation.sav']"
     },
     "execution_count": 37,
     "metadata": {},
     "output_type": "execute_result"
    }
   ],
   "source": [
    "# save rf_model_for_imputataion\n",
    "rf_model_for_imputation = rf_grid.best_estimator_\n",
    "model_path = r'../../model/rf_model_for_imputation.sav'\n",
    "\n",
    "joblib.dump(rf_model_for_imputation, model_path)"
   ],
   "metadata": {
    "collapsed": false,
    "pycharm": {
     "name": "#%%\n"
    }
   }
  },
  {
   "cell_type": "markdown",
   "source": [
    "# evaluation\n",
    "With the amount of data and strong correlations from earlier I am not as surprised that we are able to score a 100% accuracy\n",
    "* default scoring of accuracy metric was used for random forest\n"
   ],
   "metadata": {
    "collapsed": false,
    "pycharm": {
     "name": "#%% md\n"
    }
   }
  }
 ],
 "metadata": {
  "kernelspec": {
   "display_name": "Python 3",
   "language": "python",
   "name": "python3"
  },
  "language_info": {
   "codemirror_mode": {
    "name": "ipython",
    "version": 2
   },
   "file_extension": ".py",
   "mimetype": "text/x-python",
   "name": "python",
   "nbconvert_exporter": "python",
   "pygments_lexer": "ipython2",
   "version": "2.7.6"
  }
 },
 "nbformat": 4,
 "nbformat_minor": 0
}