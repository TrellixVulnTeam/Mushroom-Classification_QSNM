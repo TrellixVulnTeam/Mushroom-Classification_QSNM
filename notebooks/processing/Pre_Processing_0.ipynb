{
 "cells": [
  {
   "cell_type": "markdown",
   "metadata": {
    "collapsed": true,
    "pycharm": {
     "name": "#%% md\n"
    }
   },
   "source": [
    "# Pre Processing Notebook\n",
    "* plan to preprocess data for label encoding even\n",
    "though the data is not ordinal; because I plan to use this for random forest regresoor and\n",
    "another tree algorithm\n",
    "* will also think about encoding in one-hot encoding and then perform knn"
   ]
  },
  {
   "cell_type": "code",
   "execution_count": 48,
   "outputs": [],
   "source": [
    "# import packages\n",
    "\n",
    "import numpy as np\n",
    "import pandas as pd\n",
    "import seaborn as sns\n",
    "import sys\n",
    "import os\n",
    "import matplotlib.pyplot as plt\n",
    "import klib\n",
    "import plotly.figure_factory as ff\n",
    "from IPython.core.display import display\n",
    "from scipy import stats\n",
    "from sklearn.preprocessing import LabelEncoder, OneHotEncoder, OrdinalEncoder\n",
    "from sklearn.pipeline import Pipeline\n",
    "from sklearn.ensemble import RandomForestClassifier\n",
    "from sklearn.model_selection import train_test_split, GridSearchCV\n",
    "from sklearn.compose import ColumnTransformer\n",
    "from sklearn.metrics import confusion_matrix, plot_confusion_matrix\n",
    "import joblib\n",
    "# pd.set_option('display.max_columns', None)\n",
    "# pd.reset_option('max_rows')\n",
    "#np.set_printoptions(threshold=sys.maxsize)\n",
    "\n",
    "plt.style.use('dark_background')\n",
    "plt.rcParams.update({\"grid.linewidth\":0.5, \"grid.alpha\":0.5})\n",
    "sns.set(style='ticks', context='talk')"
   ],
   "metadata": {
    "collapsed": false,
    "pycharm": {
     "name": "#%%\n"
    }
   }
  },
  {
   "cell_type": "code",
   "execution_count": 49,
   "outputs": [
    {
     "data": {
      "text/plain": "          Class Cap-Shape Cap-Surface Cap-Color  Bruises     Odor  \\\n0     poisonous    convex      smooth     brown  bruises  pungent   \n1        edible    convex      smooth    yellow  bruises   almond   \n2        edible      bell      smooth     white  bruises    anise   \n3     poisonous    convex       scaly     white  bruises  pungent   \n4        edible    convex      smooth      gray       no     none   \n...         ...       ...         ...       ...      ...      ...   \n8107     edible    convex      smooth     brown       no     none   \n8108     edible      flat      smooth     brown       no     none   \n8109  poisonous   knobbed       scaly     brown       no    fishy   \n8110     edible    convex      smooth     brown       no     none   \n8111     edible   knobbed      smooth     white       no     none   \n\n     Gill-Attachment Gill-Spacing Gill-Size Gill-Color  ...  \\\n0               free        close    narrow      black  ...   \n1               free        close     broad      black  ...   \n2               free        close     broad      brown  ...   \n3               free        close    narrow      brown  ...   \n4               free      crowded     broad      black  ...   \n...              ...          ...       ...        ...  ...   \n8107        attached        close     broad     yellow  ...   \n8108        attached        close     broad      brown  ...   \n8109            free        close    narrow       buff  ...   \n8110        attached        close     broad     yellow  ...   \n8111            free      crowded     broad       gray  ...   \n\n     Stalk-Surface-Above-Ring Stalk-Surface-Below-Ring Stalk-Color-Above-Ring  \\\n0                      smooth                   smooth                  white   \n1                      smooth                   smooth                  white   \n2                      smooth                   smooth                  white   \n3                      smooth                   smooth                  white   \n4                      smooth                   smooth                  white   \n...                       ...                      ...                    ...   \n8107                   smooth                   smooth                 orange   \n8108                   smooth                   smooth                 orange   \n8109                   smooth                    silky                  white   \n8110                   smooth                   smooth                 orange   \n8111                    silky                   smooth                  white   \n\n     Stalk-Color-Below-Ring Veil-Color Ring-Number   Ring-Type  \\\n0                     white      white         one     pendant   \n1                     white      white         one     pendant   \n2                     white      white         one     pendant   \n3                     white      white         one     pendant   \n4                     white      white         one  evanescent   \n...                     ...        ...         ...         ...   \n8107                 orange      brown         one     pendant   \n8108                 orange     orange         one     pendant   \n8109                  white      white         one  evanescent   \n8110                 orange     orange         one     pendant   \n8111                  white      white         two     pendant   \n\n     Spore-Print-Color Population  Habitat  \n0                black  scattered    urban  \n1                brown   numerous  grasses  \n2                brown   numerous  meadows  \n3                black  scattered    urban  \n4                brown   abundant  grasses  \n...                ...        ...      ...  \n8107              buff    several   leaves  \n8108              buff  clustered   leaves  \n8109             white    several   leaves  \n8110            orange  clustered   leaves  \n8111             white  scattered  grasses  \n\n[8112 rows x 22 columns]",
      "text/html": "<div>\n<style scoped>\n    .dataframe tbody tr th:only-of-type {\n        vertical-align: middle;\n    }\n\n    .dataframe tbody tr th {\n        vertical-align: top;\n    }\n\n    .dataframe thead th {\n        text-align: right;\n    }\n</style>\n<table border=\"1\" class=\"dataframe\">\n  <thead>\n    <tr style=\"text-align: right;\">\n      <th></th>\n      <th>Class</th>\n      <th>Cap-Shape</th>\n      <th>Cap-Surface</th>\n      <th>Cap-Color</th>\n      <th>Bruises</th>\n      <th>Odor</th>\n      <th>Gill-Attachment</th>\n      <th>Gill-Spacing</th>\n      <th>Gill-Size</th>\n      <th>Gill-Color</th>\n      <th>...</th>\n      <th>Stalk-Surface-Above-Ring</th>\n      <th>Stalk-Surface-Below-Ring</th>\n      <th>Stalk-Color-Above-Ring</th>\n      <th>Stalk-Color-Below-Ring</th>\n      <th>Veil-Color</th>\n      <th>Ring-Number</th>\n      <th>Ring-Type</th>\n      <th>Spore-Print-Color</th>\n      <th>Population</th>\n      <th>Habitat</th>\n    </tr>\n  </thead>\n  <tbody>\n    <tr>\n      <th>0</th>\n      <td>poisonous</td>\n      <td>convex</td>\n      <td>smooth</td>\n      <td>brown</td>\n      <td>bruises</td>\n      <td>pungent</td>\n      <td>free</td>\n      <td>close</td>\n      <td>narrow</td>\n      <td>black</td>\n      <td>...</td>\n      <td>smooth</td>\n      <td>smooth</td>\n      <td>white</td>\n      <td>white</td>\n      <td>white</td>\n      <td>one</td>\n      <td>pendant</td>\n      <td>black</td>\n      <td>scattered</td>\n      <td>urban</td>\n    </tr>\n    <tr>\n      <th>1</th>\n      <td>edible</td>\n      <td>convex</td>\n      <td>smooth</td>\n      <td>yellow</td>\n      <td>bruises</td>\n      <td>almond</td>\n      <td>free</td>\n      <td>close</td>\n      <td>broad</td>\n      <td>black</td>\n      <td>...</td>\n      <td>smooth</td>\n      <td>smooth</td>\n      <td>white</td>\n      <td>white</td>\n      <td>white</td>\n      <td>one</td>\n      <td>pendant</td>\n      <td>brown</td>\n      <td>numerous</td>\n      <td>grasses</td>\n    </tr>\n    <tr>\n      <th>2</th>\n      <td>edible</td>\n      <td>bell</td>\n      <td>smooth</td>\n      <td>white</td>\n      <td>bruises</td>\n      <td>anise</td>\n      <td>free</td>\n      <td>close</td>\n      <td>broad</td>\n      <td>brown</td>\n      <td>...</td>\n      <td>smooth</td>\n      <td>smooth</td>\n      <td>white</td>\n      <td>white</td>\n      <td>white</td>\n      <td>one</td>\n      <td>pendant</td>\n      <td>brown</td>\n      <td>numerous</td>\n      <td>meadows</td>\n    </tr>\n    <tr>\n      <th>3</th>\n      <td>poisonous</td>\n      <td>convex</td>\n      <td>scaly</td>\n      <td>white</td>\n      <td>bruises</td>\n      <td>pungent</td>\n      <td>free</td>\n      <td>close</td>\n      <td>narrow</td>\n      <td>brown</td>\n      <td>...</td>\n      <td>smooth</td>\n      <td>smooth</td>\n      <td>white</td>\n      <td>white</td>\n      <td>white</td>\n      <td>one</td>\n      <td>pendant</td>\n      <td>black</td>\n      <td>scattered</td>\n      <td>urban</td>\n    </tr>\n    <tr>\n      <th>4</th>\n      <td>edible</td>\n      <td>convex</td>\n      <td>smooth</td>\n      <td>gray</td>\n      <td>no</td>\n      <td>none</td>\n      <td>free</td>\n      <td>crowded</td>\n      <td>broad</td>\n      <td>black</td>\n      <td>...</td>\n      <td>smooth</td>\n      <td>smooth</td>\n      <td>white</td>\n      <td>white</td>\n      <td>white</td>\n      <td>one</td>\n      <td>evanescent</td>\n      <td>brown</td>\n      <td>abundant</td>\n      <td>grasses</td>\n    </tr>\n    <tr>\n      <th>...</th>\n      <td>...</td>\n      <td>...</td>\n      <td>...</td>\n      <td>...</td>\n      <td>...</td>\n      <td>...</td>\n      <td>...</td>\n      <td>...</td>\n      <td>...</td>\n      <td>...</td>\n      <td>...</td>\n      <td>...</td>\n      <td>...</td>\n      <td>...</td>\n      <td>...</td>\n      <td>...</td>\n      <td>...</td>\n      <td>...</td>\n      <td>...</td>\n      <td>...</td>\n      <td>...</td>\n    </tr>\n    <tr>\n      <th>8107</th>\n      <td>edible</td>\n      <td>convex</td>\n      <td>smooth</td>\n      <td>brown</td>\n      <td>no</td>\n      <td>none</td>\n      <td>attached</td>\n      <td>close</td>\n      <td>broad</td>\n      <td>yellow</td>\n      <td>...</td>\n      <td>smooth</td>\n      <td>smooth</td>\n      <td>orange</td>\n      <td>orange</td>\n      <td>brown</td>\n      <td>one</td>\n      <td>pendant</td>\n      <td>buff</td>\n      <td>several</td>\n      <td>leaves</td>\n    </tr>\n    <tr>\n      <th>8108</th>\n      <td>edible</td>\n      <td>flat</td>\n      <td>smooth</td>\n      <td>brown</td>\n      <td>no</td>\n      <td>none</td>\n      <td>attached</td>\n      <td>close</td>\n      <td>broad</td>\n      <td>brown</td>\n      <td>...</td>\n      <td>smooth</td>\n      <td>smooth</td>\n      <td>orange</td>\n      <td>orange</td>\n      <td>orange</td>\n      <td>one</td>\n      <td>pendant</td>\n      <td>buff</td>\n      <td>clustered</td>\n      <td>leaves</td>\n    </tr>\n    <tr>\n      <th>8109</th>\n      <td>poisonous</td>\n      <td>knobbed</td>\n      <td>scaly</td>\n      <td>brown</td>\n      <td>no</td>\n      <td>fishy</td>\n      <td>free</td>\n      <td>close</td>\n      <td>narrow</td>\n      <td>buff</td>\n      <td>...</td>\n      <td>smooth</td>\n      <td>silky</td>\n      <td>white</td>\n      <td>white</td>\n      <td>white</td>\n      <td>one</td>\n      <td>evanescent</td>\n      <td>white</td>\n      <td>several</td>\n      <td>leaves</td>\n    </tr>\n    <tr>\n      <th>8110</th>\n      <td>edible</td>\n      <td>convex</td>\n      <td>smooth</td>\n      <td>brown</td>\n      <td>no</td>\n      <td>none</td>\n      <td>attached</td>\n      <td>close</td>\n      <td>broad</td>\n      <td>yellow</td>\n      <td>...</td>\n      <td>smooth</td>\n      <td>smooth</td>\n      <td>orange</td>\n      <td>orange</td>\n      <td>orange</td>\n      <td>one</td>\n      <td>pendant</td>\n      <td>orange</td>\n      <td>clustered</td>\n      <td>leaves</td>\n    </tr>\n    <tr>\n      <th>8111</th>\n      <td>edible</td>\n      <td>knobbed</td>\n      <td>smooth</td>\n      <td>white</td>\n      <td>no</td>\n      <td>none</td>\n      <td>free</td>\n      <td>crowded</td>\n      <td>broad</td>\n      <td>gray</td>\n      <td>...</td>\n      <td>silky</td>\n      <td>smooth</td>\n      <td>white</td>\n      <td>white</td>\n      <td>white</td>\n      <td>two</td>\n      <td>pendant</td>\n      <td>white</td>\n      <td>scattered</td>\n      <td>grasses</td>\n    </tr>\n  </tbody>\n</table>\n<p>8112 rows × 22 columns</p>\n</div>"
     },
     "execution_count": 49,
     "metadata": {},
     "output_type": "execute_result"
    }
   ],
   "source": [
    "# load dataset\n",
    "\n",
    "df_path = r'../../data/processed/mushroom_imputed_2_adj.csv'\n",
    "mushroom = pd.read_csv(df_path, index_col=False)\n",
    "\n",
    "mushroom"
   ],
   "metadata": {
    "collapsed": false,
    "pycharm": {
     "name": "#%%\n"
    }
   }
  },
  {
   "cell_type": "code",
   "execution_count": 50,
   "outputs": [
    {
     "data": {
      "text/plain": "(True, True)"
     },
     "execution_count": 50,
     "metadata": {},
     "output_type": "execute_result"
    }
   ],
   "source": [
    "# our target is class so drop it in predictor variables\n",
    "\n",
    "X = mushroom.drop('Class', axis=1)\n",
    "y = mushroom[['Class']]\n",
    "\n",
    "# Use to check that target variable is not in our predictor set and check predictor set is right\n",
    "'Class' not in X.columns, 'Class' in y.columns"
   ],
   "metadata": {
    "collapsed": false,
    "pycharm": {
     "name": "#%%\n"
    }
   }
  },
  {
   "cell_type": "code",
   "execution_count": 51,
   "outputs": [],
   "source": [
    "# split our data\n",
    "\n",
    "X_train, X_test, y_train, y_test = train_test_split(X, y, test_size=0.25, random_state=42)"
   ],
   "metadata": {
    "collapsed": false,
    "pycharm": {
     "name": "#%%\n"
    }
   }
  },
  {
   "cell_type": "markdown",
   "source": [
    "We are using a label encoder even though the categories are not ordinal.\n",
    "This is due to the fact that we will be using a tree model and tree models have a behavior\n",
    "to perform well with label encoders even when no ordering relationship is present\n",
    "Also save time in not needing to perform one hot encoding and then pca"
   ],
   "metadata": {
    "collapsed": false,
    "pycharm": {
     "name": "#%% md\n"
    }
   }
  },
  {
   "cell_type": "code",
   "execution_count": 52,
   "outputs": [
    {
     "data": {
      "text/plain": "[array(['bell', 'conical', 'convex', 'flat', 'knobbed', 'sunken'],\n       dtype=object),\n array(['fibrous', 'grooves', 'scaly', 'smooth'], dtype=object),\n array(['brown', 'buff', 'cinnamon', 'gray', 'green', 'pink', 'purple',\n        'red', 'white', 'yellow'], dtype=object),\n array(['bruises', 'no'], dtype=object),\n array(['almond', 'anise', 'creosote', 'fishy', 'foul', 'musty', 'none',\n        'pungent', 'spicy'], dtype=object),\n array(['attached', 'free'], dtype=object),\n array(['close', 'crowded'], dtype=object),\n array(['broad', 'narrow'], dtype=object),\n array(['black', 'brown', 'buff', 'chocolate', 'gray', 'green', 'orange',\n        'pink', 'purple', 'red', 'white', 'yellow'], dtype=object),\n array(['enlarging', 'tapering'], dtype=object),\n array(['bulbous', 'club', 'equal', 'rooted'], dtype=object),\n array(['fibrous', 'scaly', 'silky', 'smooth'], dtype=object),\n array(['fibrous', 'scaly', 'silky', 'smooth'], dtype=object),\n array(['brown', 'buff', 'cinnamon', 'gray', 'orange', 'pink', 'red',\n        'white', 'yellow'], dtype=object),\n array(['brown', 'buff', 'cinnamon', 'gray', 'orange', 'pink', 'red',\n        'white', 'yellow'], dtype=object),\n array(['brown', 'orange', 'white', 'yellow'], dtype=object),\n array(['none', 'one', 'two'], dtype=object),\n array(['evanescent', 'flaring', 'large', 'none', 'pendant'], dtype=object),\n array(['black', 'brown', 'buff', 'chocolate', 'green', 'orange', 'purple',\n        'white', 'yellow'], dtype=object),\n array(['abundant', 'clustered', 'numerous', 'scattered', 'several',\n        'solitary'], dtype=object),\n array(['grasses', 'leaves', 'meadows', 'paths', 'urban', 'waste', 'woods'],\n       dtype=object)]"
     },
     "execution_count": 52,
     "metadata": {},
     "output_type": "execute_result"
    }
   ],
   "source": [
    "ordinal = OrdinalEncoder()\n",
    "\n",
    "ordinal.fit_transform(X_train)\n",
    "\n",
    "ordinal.categories_"
   ],
   "metadata": {
    "collapsed": false,
    "pycharm": {
     "name": "#%%\n"
    }
   }
  },
  {
   "cell_type": "markdown",
   "source": [
    "For this problem the usage of label encoder for an unordered set of categorical variables was used due to Tree\n",
    "classifiers showing benefit to variables being label encoded even when the nature of the variables are not ordinal\n",
    "\n",
    "Label encoding may also be more convenient than another encoding such as one-hot encoding due to the reduction of\n",
    "dimensions that label encoding yields compared to one-hot encoding\n",
    "\n",
    "For this run we will also use default hyparparameters to see results of default values before deciding to tune\n"
   ],
   "metadata": {
    "collapsed": false,
    "pycharm": {
     "name": "#%% md\n"
    }
   }
  },
  {
   "cell_type": "code",
   "execution_count": 53,
   "outputs": [
    {
     "data": {
      "text/plain": "nan"
     },
     "execution_count": 53,
     "metadata": {},
     "output_type": "execute_result"
    }
   ],
   "source": [
    "rf_grid.best_score_"
   ],
   "metadata": {
    "collapsed": false,
    "pycharm": {
     "name": "#%%\n"
    }
   }
  }
 ],
 "metadata": {
  "kernelspec": {
   "display_name": "Python 3",
   "language": "python",
   "name": "python3"
  },
  "language_info": {
   "codemirror_mode": {
    "name": "ipython",
    "version": 2
   },
   "file_extension": ".py",
   "mimetype": "text/x-python",
   "name": "python",
   "nbconvert_exporter": "python",
   "pygments_lexer": "ipython2",
   "version": "2.7.6"
  }
 },
 "nbformat": 4,
 "nbformat_minor": 0
}