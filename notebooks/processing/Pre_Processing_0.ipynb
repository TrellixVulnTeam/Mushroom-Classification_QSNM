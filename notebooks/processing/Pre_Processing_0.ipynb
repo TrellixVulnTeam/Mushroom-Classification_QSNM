{
 "cells": [
  {
   "cell_type": "markdown",
   "metadata": {
    "collapsed": true,
    "pycharm": {
     "name": "#%% md\n"
    }
   },
   "source": [
    "# Pre Processing Notebook\n",
    "* plan to preprocess data for label encoding even\n",
    "though the data is not ordinal; because I plan to use this for random forest regresoor and\n",
    "another tree algorithm\n",
    "* will also think about encoding in one-hot encoding and then perform knn"
   ]
  },
  {
   "cell_type": "code",
   "execution_count": 29,
   "outputs": [],
   "source": [
    "# import packages\n",
    "\n",
    "import numpy as np\n",
    "import pandas as pd\n",
    "import seaborn as sns\n",
    "import sys\n",
    "import os\n",
    "import matplotlib.pyplot as plt\n",
    "import klib\n",
    "import plotly.figure_factory as ff\n",
    "from IPython.core.display import display\n",
    "from scipy import stats\n",
    "from sklearn.preprocessing import LabelEncoder, OneHotEncoder, OrdinalEncoder\n",
    "from sklearn.pipeline import Pipeline\n",
    "from sklearn.ensemble import RandomForestClassifier\n",
    "from sklearn.model_selection import train_test_split, GridSearchCV\n",
    "from sklearn.compose import ColumnTransformer\n",
    "from sklearn.metrics import confusion_matrix, plot_confusion_matrix\n",
    "import joblib\n",
    "# pd.set_option('display.max_columns', None)\n",
    "# pd.reset_option('max_rows')\n",
    "#np.set_printoptions(threshold=sys.maxsize)\n",
    "\n",
    "plt.style.use('dark_background')\n",
    "plt.rcParams.update({\"grid.linewidth\":0.5, \"grid.alpha\":0.5})\n",
    "sns.set(style='ticks', context='talk')"
   ],
   "metadata": {
    "collapsed": false,
    "pycharm": {
     "name": "#%%\n"
    }
   }
  },
  {
   "cell_type": "code",
   "execution_count": 30,
   "outputs": [
    {
     "data": {
      "text/plain": "          Class Cap-Shape Cap-Surface Cap-Color  Bruises     Odor  \\\n0     poisonous    convex      smooth     brown  bruises  pungent   \n1        edible    convex      smooth    yellow  bruises   almond   \n2        edible      bell      smooth     white  bruises    anise   \n3     poisonous    convex       scaly     white  bruises  pungent   \n4        edible    convex      smooth      gray       no     none   \n...         ...       ...         ...       ...      ...      ...   \n8107     edible    convex      smooth     brown       no     none   \n8108     edible      flat      smooth     brown       no     none   \n8109  poisonous   knobbed       scaly     brown       no    fishy   \n8110     edible    convex      smooth     brown       no     none   \n8111     edible   knobbed      smooth     white       no     none   \n\n     Gill-Attachment Gill-Spacing Gill-Size Gill-Color  ...  \\\n0               free        close    narrow      black  ...   \n1               free        close     broad      black  ...   \n2               free        close     broad      brown  ...   \n3               free        close    narrow      brown  ...   \n4               free      crowded     broad      black  ...   \n...              ...          ...       ...        ...  ...   \n8107        attached        close     broad     yellow  ...   \n8108        attached        close     broad      brown  ...   \n8109            free        close    narrow       buff  ...   \n8110        attached        close     broad     yellow  ...   \n8111            free      crowded     broad       gray  ...   \n\n     Stalk-Surface-Above-Ring Stalk-Surface-Below-Ring Stalk-Color-Above-Ring  \\\n0                      smooth                   smooth                  white   \n1                      smooth                   smooth                  white   \n2                      smooth                   smooth                  white   \n3                      smooth                   smooth                  white   \n4                      smooth                   smooth                  white   \n...                       ...                      ...                    ...   \n8107                   smooth                   smooth                 orange   \n8108                   smooth                   smooth                 orange   \n8109                   smooth                    silky                  white   \n8110                   smooth                   smooth                 orange   \n8111                    silky                   smooth                  white   \n\n     Stalk-Color-Below-Ring Veil-Color Ring-Number   Ring-Type  \\\n0                     white      white         one     pendant   \n1                     white      white         one     pendant   \n2                     white      white         one     pendant   \n3                     white      white         one     pendant   \n4                     white      white         one  evanescent   \n...                     ...        ...         ...         ...   \n8107                 orange      brown         one     pendant   \n8108                 orange     orange         one     pendant   \n8109                  white      white         one  evanescent   \n8110                 orange     orange         one     pendant   \n8111                  white      white         two     pendant   \n\n     Spore-Print-Color Population  Habitat  \n0                black  scattered    urban  \n1                brown   numerous  grasses  \n2                brown   numerous  meadows  \n3                black  scattered    urban  \n4                brown   abundant  grasses  \n...                ...        ...      ...  \n8107              buff    several   leaves  \n8108              buff  clustered   leaves  \n8109             white    several   leaves  \n8110            orange  clustered   leaves  \n8111             white  scattered  grasses  \n\n[8112 rows x 22 columns]",
      "text/html": "<div>\n<style scoped>\n    .dataframe tbody tr th:only-of-type {\n        vertical-align: middle;\n    }\n\n    .dataframe tbody tr th {\n        vertical-align: top;\n    }\n\n    .dataframe thead th {\n        text-align: right;\n    }\n</style>\n<table border=\"1\" class=\"dataframe\">\n  <thead>\n    <tr style=\"text-align: right;\">\n      <th></th>\n      <th>Class</th>\n      <th>Cap-Shape</th>\n      <th>Cap-Surface</th>\n      <th>Cap-Color</th>\n      <th>Bruises</th>\n      <th>Odor</th>\n      <th>Gill-Attachment</th>\n      <th>Gill-Spacing</th>\n      <th>Gill-Size</th>\n      <th>Gill-Color</th>\n      <th>...</th>\n      <th>Stalk-Surface-Above-Ring</th>\n      <th>Stalk-Surface-Below-Ring</th>\n      <th>Stalk-Color-Above-Ring</th>\n      <th>Stalk-Color-Below-Ring</th>\n      <th>Veil-Color</th>\n      <th>Ring-Number</th>\n      <th>Ring-Type</th>\n      <th>Spore-Print-Color</th>\n      <th>Population</th>\n      <th>Habitat</th>\n    </tr>\n  </thead>\n  <tbody>\n    <tr>\n      <th>0</th>\n      <td>poisonous</td>\n      <td>convex</td>\n      <td>smooth</td>\n      <td>brown</td>\n      <td>bruises</td>\n      <td>pungent</td>\n      <td>free</td>\n      <td>close</td>\n      <td>narrow</td>\n      <td>black</td>\n      <td>...</td>\n      <td>smooth</td>\n      <td>smooth</td>\n      <td>white</td>\n      <td>white</td>\n      <td>white</td>\n      <td>one</td>\n      <td>pendant</td>\n      <td>black</td>\n      <td>scattered</td>\n      <td>urban</td>\n    </tr>\n    <tr>\n      <th>1</th>\n      <td>edible</td>\n      <td>convex</td>\n      <td>smooth</td>\n      <td>yellow</td>\n      <td>bruises</td>\n      <td>almond</td>\n      <td>free</td>\n      <td>close</td>\n      <td>broad</td>\n      <td>black</td>\n      <td>...</td>\n      <td>smooth</td>\n      <td>smooth</td>\n      <td>white</td>\n      <td>white</td>\n      <td>white</td>\n      <td>one</td>\n      <td>pendant</td>\n      <td>brown</td>\n      <td>numerous</td>\n      <td>grasses</td>\n    </tr>\n    <tr>\n      <th>2</th>\n      <td>edible</td>\n      <td>bell</td>\n      <td>smooth</td>\n      <td>white</td>\n      <td>bruises</td>\n      <td>anise</td>\n      <td>free</td>\n      <td>close</td>\n      <td>broad</td>\n      <td>brown</td>\n      <td>...</td>\n      <td>smooth</td>\n      <td>smooth</td>\n      <td>white</td>\n      <td>white</td>\n      <td>white</td>\n      <td>one</td>\n      <td>pendant</td>\n      <td>brown</td>\n      <td>numerous</td>\n      <td>meadows</td>\n    </tr>\n    <tr>\n      <th>3</th>\n      <td>poisonous</td>\n      <td>convex</td>\n      <td>scaly</td>\n      <td>white</td>\n      <td>bruises</td>\n      <td>pungent</td>\n      <td>free</td>\n      <td>close</td>\n      <td>narrow</td>\n      <td>brown</td>\n      <td>...</td>\n      <td>smooth</td>\n      <td>smooth</td>\n      <td>white</td>\n      <td>white</td>\n      <td>white</td>\n      <td>one</td>\n      <td>pendant</td>\n      <td>black</td>\n      <td>scattered</td>\n      <td>urban</td>\n    </tr>\n    <tr>\n      <th>4</th>\n      <td>edible</td>\n      <td>convex</td>\n      <td>smooth</td>\n      <td>gray</td>\n      <td>no</td>\n      <td>none</td>\n      <td>free</td>\n      <td>crowded</td>\n      <td>broad</td>\n      <td>black</td>\n      <td>...</td>\n      <td>smooth</td>\n      <td>smooth</td>\n      <td>white</td>\n      <td>white</td>\n      <td>white</td>\n      <td>one</td>\n      <td>evanescent</td>\n      <td>brown</td>\n      <td>abundant</td>\n      <td>grasses</td>\n    </tr>\n    <tr>\n      <th>...</th>\n      <td>...</td>\n      <td>...</td>\n      <td>...</td>\n      <td>...</td>\n      <td>...</td>\n      <td>...</td>\n      <td>...</td>\n      <td>...</td>\n      <td>...</td>\n      <td>...</td>\n      <td>...</td>\n      <td>...</td>\n      <td>...</td>\n      <td>...</td>\n      <td>...</td>\n      <td>...</td>\n      <td>...</td>\n      <td>...</td>\n      <td>...</td>\n      <td>...</td>\n      <td>...</td>\n    </tr>\n    <tr>\n      <th>8107</th>\n      <td>edible</td>\n      <td>convex</td>\n      <td>smooth</td>\n      <td>brown</td>\n      <td>no</td>\n      <td>none</td>\n      <td>attached</td>\n      <td>close</td>\n      <td>broad</td>\n      <td>yellow</td>\n      <td>...</td>\n      <td>smooth</td>\n      <td>smooth</td>\n      <td>orange</td>\n      <td>orange</td>\n      <td>brown</td>\n      <td>one</td>\n      <td>pendant</td>\n      <td>buff</td>\n      <td>several</td>\n      <td>leaves</td>\n    </tr>\n    <tr>\n      <th>8108</th>\n      <td>edible</td>\n      <td>flat</td>\n      <td>smooth</td>\n      <td>brown</td>\n      <td>no</td>\n      <td>none</td>\n      <td>attached</td>\n      <td>close</td>\n      <td>broad</td>\n      <td>brown</td>\n      <td>...</td>\n      <td>smooth</td>\n      <td>smooth</td>\n      <td>orange</td>\n      <td>orange</td>\n      <td>orange</td>\n      <td>one</td>\n      <td>pendant</td>\n      <td>buff</td>\n      <td>clustered</td>\n      <td>leaves</td>\n    </tr>\n    <tr>\n      <th>8109</th>\n      <td>poisonous</td>\n      <td>knobbed</td>\n      <td>scaly</td>\n      <td>brown</td>\n      <td>no</td>\n      <td>fishy</td>\n      <td>free</td>\n      <td>close</td>\n      <td>narrow</td>\n      <td>buff</td>\n      <td>...</td>\n      <td>smooth</td>\n      <td>silky</td>\n      <td>white</td>\n      <td>white</td>\n      <td>white</td>\n      <td>one</td>\n      <td>evanescent</td>\n      <td>white</td>\n      <td>several</td>\n      <td>leaves</td>\n    </tr>\n    <tr>\n      <th>8110</th>\n      <td>edible</td>\n      <td>convex</td>\n      <td>smooth</td>\n      <td>brown</td>\n      <td>no</td>\n      <td>none</td>\n      <td>attached</td>\n      <td>close</td>\n      <td>broad</td>\n      <td>yellow</td>\n      <td>...</td>\n      <td>smooth</td>\n      <td>smooth</td>\n      <td>orange</td>\n      <td>orange</td>\n      <td>orange</td>\n      <td>one</td>\n      <td>pendant</td>\n      <td>orange</td>\n      <td>clustered</td>\n      <td>leaves</td>\n    </tr>\n    <tr>\n      <th>8111</th>\n      <td>edible</td>\n      <td>knobbed</td>\n      <td>smooth</td>\n      <td>white</td>\n      <td>no</td>\n      <td>none</td>\n      <td>free</td>\n      <td>crowded</td>\n      <td>broad</td>\n      <td>gray</td>\n      <td>...</td>\n      <td>silky</td>\n      <td>smooth</td>\n      <td>white</td>\n      <td>white</td>\n      <td>white</td>\n      <td>two</td>\n      <td>pendant</td>\n      <td>white</td>\n      <td>scattered</td>\n      <td>grasses</td>\n    </tr>\n  </tbody>\n</table>\n<p>8112 rows × 22 columns</p>\n</div>"
     },
     "execution_count": 30,
     "metadata": {},
     "output_type": "execute_result"
    }
   ],
   "source": [
    "# load dataset\n",
    "\n",
    "df_path = r'../../data/processed/mushroom_imputed_2_adj.csv'\n",
    "mushroom = pd.read_csv(df_path)\n",
    "\n",
    "mushroom"
   ],
   "metadata": {
    "collapsed": false,
    "pycharm": {
     "name": "#%%\n"
    }
   }
  },
  {
   "cell_type": "code",
   "execution_count": 31,
   "outputs": [
    {
     "data": {
      "text/plain": "         Class Cap-Shape Cap-Surface Cap-Color Bruises  Odor Gill-Attachment  \\\ncount     8112      8112        8112      8112    8112  8112            8112   \nunique       2         6           4        10       2     9               2   \ntop     edible    convex       scaly     brown      no  none            free   \nfreq      4196      3650        3244      2282    4736  3516            7904   \n\n       Gill-Spacing Gill-Size Gill-Color  ... Stalk-Surface-Above-Ring  \\\ncount          8112      8112       8112  ...                     8112   \nunique            2         2         12  ...                        4   \ntop           close     broad       buff  ...                   smooth   \nfreq           6810      5600       1728  ...                     5169   \n\n       Stalk-Surface-Below-Ring Stalk-Color-Above-Ring Stalk-Color-Below-Ring  \\\ncount                      8112                   8112                   8112   \nunique                        4                      9                      9   \ntop                      smooth                  white                  white   \nfreq                       4929                   4454                   4374   \n\n       Veil-Color Ring-Number Ring-Type Spore-Print-Color Population Habitat  \ncount        8112        8112      8112              8112       8112    8112  \nunique          4           3         5                 9          6       7  \ntop         white         one   pendant             white    several   woods  \nfreq         7914        7486      3956              2378       4040    3148  \n\n[4 rows x 22 columns]",
      "text/html": "<div>\n<style scoped>\n    .dataframe tbody tr th:only-of-type {\n        vertical-align: middle;\n    }\n\n    .dataframe tbody tr th {\n        vertical-align: top;\n    }\n\n    .dataframe thead th {\n        text-align: right;\n    }\n</style>\n<table border=\"1\" class=\"dataframe\">\n  <thead>\n    <tr style=\"text-align: right;\">\n      <th></th>\n      <th>Class</th>\n      <th>Cap-Shape</th>\n      <th>Cap-Surface</th>\n      <th>Cap-Color</th>\n      <th>Bruises</th>\n      <th>Odor</th>\n      <th>Gill-Attachment</th>\n      <th>Gill-Spacing</th>\n      <th>Gill-Size</th>\n      <th>Gill-Color</th>\n      <th>...</th>\n      <th>Stalk-Surface-Above-Ring</th>\n      <th>Stalk-Surface-Below-Ring</th>\n      <th>Stalk-Color-Above-Ring</th>\n      <th>Stalk-Color-Below-Ring</th>\n      <th>Veil-Color</th>\n      <th>Ring-Number</th>\n      <th>Ring-Type</th>\n      <th>Spore-Print-Color</th>\n      <th>Population</th>\n      <th>Habitat</th>\n    </tr>\n  </thead>\n  <tbody>\n    <tr>\n      <th>count</th>\n      <td>8112</td>\n      <td>8112</td>\n      <td>8112</td>\n      <td>8112</td>\n      <td>8112</td>\n      <td>8112</td>\n      <td>8112</td>\n      <td>8112</td>\n      <td>8112</td>\n      <td>8112</td>\n      <td>...</td>\n      <td>8112</td>\n      <td>8112</td>\n      <td>8112</td>\n      <td>8112</td>\n      <td>8112</td>\n      <td>8112</td>\n      <td>8112</td>\n      <td>8112</td>\n      <td>8112</td>\n      <td>8112</td>\n    </tr>\n    <tr>\n      <th>unique</th>\n      <td>2</td>\n      <td>6</td>\n      <td>4</td>\n      <td>10</td>\n      <td>2</td>\n      <td>9</td>\n      <td>2</td>\n      <td>2</td>\n      <td>2</td>\n      <td>12</td>\n      <td>...</td>\n      <td>4</td>\n      <td>4</td>\n      <td>9</td>\n      <td>9</td>\n      <td>4</td>\n      <td>3</td>\n      <td>5</td>\n      <td>9</td>\n      <td>6</td>\n      <td>7</td>\n    </tr>\n    <tr>\n      <th>top</th>\n      <td>edible</td>\n      <td>convex</td>\n      <td>scaly</td>\n      <td>brown</td>\n      <td>no</td>\n      <td>none</td>\n      <td>free</td>\n      <td>close</td>\n      <td>broad</td>\n      <td>buff</td>\n      <td>...</td>\n      <td>smooth</td>\n      <td>smooth</td>\n      <td>white</td>\n      <td>white</td>\n      <td>white</td>\n      <td>one</td>\n      <td>pendant</td>\n      <td>white</td>\n      <td>several</td>\n      <td>woods</td>\n    </tr>\n    <tr>\n      <th>freq</th>\n      <td>4196</td>\n      <td>3650</td>\n      <td>3244</td>\n      <td>2282</td>\n      <td>4736</td>\n      <td>3516</td>\n      <td>7904</td>\n      <td>6810</td>\n      <td>5600</td>\n      <td>1728</td>\n      <td>...</td>\n      <td>5169</td>\n      <td>4929</td>\n      <td>4454</td>\n      <td>4374</td>\n      <td>7914</td>\n      <td>7486</td>\n      <td>3956</td>\n      <td>2378</td>\n      <td>4040</td>\n      <td>3148</td>\n    </tr>\n  </tbody>\n</table>\n<p>4 rows × 22 columns</p>\n</div>"
     },
     "execution_count": 31,
     "metadata": {},
     "output_type": "execute_result"
    }
   ],
   "source": [
    "mushroom.describe()"
   ],
   "metadata": {
    "collapsed": false,
    "pycharm": {
     "name": "#%%\n"
    }
   }
  },
  {
   "cell_type": "code",
   "execution_count": 32,
   "outputs": [
    {
     "data": {
      "text/plain": "(True, True)"
     },
     "execution_count": 32,
     "metadata": {},
     "output_type": "execute_result"
    }
   ],
   "source": [
    "# our target is class so drop it in predictor variables\n",
    "\n",
    "X = mushroom.drop('Class', axis=1)\n",
    "y = mushroom[['Class']]\n",
    "\n",
    "# Use to check that target variable is not in our predictor set and check predictor set is right\n",
    "'Class' not in X.columns, 'Class' in y.columns"
   ],
   "metadata": {
    "collapsed": false,
    "pycharm": {
     "name": "#%%\n"
    }
   }
  },
  {
   "cell_type": "code",
   "execution_count": 39,
   "outputs": [
    {
     "data": {
      "text/plain": "     Cap-Shape Cap-Surface Cap-Color  Bruises   Odor Gill-Attachment  \\\n7337   knobbed       scaly       red       no  fishy            free   \n8104   knobbed      smooth       red       no  fishy            free   \n3123    convex       scaly       red  bruises   none            free   \n7196   knobbed       scaly       red       no  fishy            free   \n2996    convex       scaly     brown  bruises   none            free   \n...        ...         ...       ...      ...    ...             ...   \n5226    convex      smooth      gray  bruises   foul            free   \n5390      flat      smooth      gray  bruises   foul            free   \n860       flat       scaly     brown  bruises  anise            free   \n7603      bell      smooth      gray       no   none            free   \n7270   knobbed     fibrous      gray       no   none            free   \n\n     Gill-Spacing Gill-Size Gill-Color Stalk-Shape  ...  \\\n7337        close    narrow       buff    tapering  ...   \n8104        close    narrow       buff    tapering  ...   \n3123        close     broad      brown    tapering  ...   \n7196        close    narrow       buff    tapering  ...   \n2996        close     broad      brown    tapering  ...   \n...           ...       ...        ...         ...  ...   \n5226        close     broad  chocolate    tapering  ...   \n5390        close     broad       pink    tapering  ...   \n860         close     broad      white   enlarging  ...   \n7603      crowded     broad       gray   enlarging  ...   \n7270      crowded     broad       gray   enlarging  ...   \n\n     Stalk-Surface-Above-Ring Stalk-Surface-Below-Ring Stalk-Color-Above-Ring  \\\n7337                    silky                    silky                   pink   \n8104                    silky                   smooth                   pink   \n3123                   smooth                   smooth                  white   \n7196                   smooth                   smooth                   pink   \n2996                   smooth                   smooth                   gray   \n...                       ...                      ...                    ...   \n5226                  fibrous                   smooth                  white   \n5390                   smooth                   smooth                  white   \n860                    smooth                    scaly                  white   \n7603                   smooth                   smooth                  white   \n7270                    silky                    silky                  white   \n\n     Stalk-Color-Below-Ring Veil-Color Ring-Number   Ring-Type  \\\n7337                  white      white         one  evanescent   \n8104                  white      white         one  evanescent   \n3123                   gray      white         one     pendant   \n7196                  white      white         one  evanescent   \n2996                   gray      white         one     pendant   \n...                     ...        ...         ...         ...   \n5226                  white      white         one     pendant   \n5390                  white      white         one     pendant   \n860                   white      white         one     pendant   \n7603                  white      white         two     pendant   \n7270                  white      white         two     pendant   \n\n     Spore-Print-Color Population  Habitat  \n7337             white    several   leaves  \n8104             white    several    woods  \n3123             black    several    woods  \n7196             white    several    woods  \n2996             black   solitary    woods  \n...                ...        ...      ...  \n5226         chocolate  scattered    urban  \n5390         chocolate    several    urban  \n860              brown   solitary    paths  \n7603             white  scattered  grasses  \n7270             white   numerous  grasses  \n\n[6084 rows x 21 columns]",
      "text/html": "<div>\n<style scoped>\n    .dataframe tbody tr th:only-of-type {\n        vertical-align: middle;\n    }\n\n    .dataframe tbody tr th {\n        vertical-align: top;\n    }\n\n    .dataframe thead th {\n        text-align: right;\n    }\n</style>\n<table border=\"1\" class=\"dataframe\">\n  <thead>\n    <tr style=\"text-align: right;\">\n      <th></th>\n      <th>Cap-Shape</th>\n      <th>Cap-Surface</th>\n      <th>Cap-Color</th>\n      <th>Bruises</th>\n      <th>Odor</th>\n      <th>Gill-Attachment</th>\n      <th>Gill-Spacing</th>\n      <th>Gill-Size</th>\n      <th>Gill-Color</th>\n      <th>Stalk-Shape</th>\n      <th>...</th>\n      <th>Stalk-Surface-Above-Ring</th>\n      <th>Stalk-Surface-Below-Ring</th>\n      <th>Stalk-Color-Above-Ring</th>\n      <th>Stalk-Color-Below-Ring</th>\n      <th>Veil-Color</th>\n      <th>Ring-Number</th>\n      <th>Ring-Type</th>\n      <th>Spore-Print-Color</th>\n      <th>Population</th>\n      <th>Habitat</th>\n    </tr>\n  </thead>\n  <tbody>\n    <tr>\n      <th>7337</th>\n      <td>knobbed</td>\n      <td>scaly</td>\n      <td>red</td>\n      <td>no</td>\n      <td>fishy</td>\n      <td>free</td>\n      <td>close</td>\n      <td>narrow</td>\n      <td>buff</td>\n      <td>tapering</td>\n      <td>...</td>\n      <td>silky</td>\n      <td>silky</td>\n      <td>pink</td>\n      <td>white</td>\n      <td>white</td>\n      <td>one</td>\n      <td>evanescent</td>\n      <td>white</td>\n      <td>several</td>\n      <td>leaves</td>\n    </tr>\n    <tr>\n      <th>8104</th>\n      <td>knobbed</td>\n      <td>smooth</td>\n      <td>red</td>\n      <td>no</td>\n      <td>fishy</td>\n      <td>free</td>\n      <td>close</td>\n      <td>narrow</td>\n      <td>buff</td>\n      <td>tapering</td>\n      <td>...</td>\n      <td>silky</td>\n      <td>smooth</td>\n      <td>pink</td>\n      <td>white</td>\n      <td>white</td>\n      <td>one</td>\n      <td>evanescent</td>\n      <td>white</td>\n      <td>several</td>\n      <td>woods</td>\n    </tr>\n    <tr>\n      <th>3123</th>\n      <td>convex</td>\n      <td>scaly</td>\n      <td>red</td>\n      <td>bruises</td>\n      <td>none</td>\n      <td>free</td>\n      <td>close</td>\n      <td>broad</td>\n      <td>brown</td>\n      <td>tapering</td>\n      <td>...</td>\n      <td>smooth</td>\n      <td>smooth</td>\n      <td>white</td>\n      <td>gray</td>\n      <td>white</td>\n      <td>one</td>\n      <td>pendant</td>\n      <td>black</td>\n      <td>several</td>\n      <td>woods</td>\n    </tr>\n    <tr>\n      <th>7196</th>\n      <td>knobbed</td>\n      <td>scaly</td>\n      <td>red</td>\n      <td>no</td>\n      <td>fishy</td>\n      <td>free</td>\n      <td>close</td>\n      <td>narrow</td>\n      <td>buff</td>\n      <td>tapering</td>\n      <td>...</td>\n      <td>smooth</td>\n      <td>smooth</td>\n      <td>pink</td>\n      <td>white</td>\n      <td>white</td>\n      <td>one</td>\n      <td>evanescent</td>\n      <td>white</td>\n      <td>several</td>\n      <td>woods</td>\n    </tr>\n    <tr>\n      <th>2996</th>\n      <td>convex</td>\n      <td>scaly</td>\n      <td>brown</td>\n      <td>bruises</td>\n      <td>none</td>\n      <td>free</td>\n      <td>close</td>\n      <td>broad</td>\n      <td>brown</td>\n      <td>tapering</td>\n      <td>...</td>\n      <td>smooth</td>\n      <td>smooth</td>\n      <td>gray</td>\n      <td>gray</td>\n      <td>white</td>\n      <td>one</td>\n      <td>pendant</td>\n      <td>black</td>\n      <td>solitary</td>\n      <td>woods</td>\n    </tr>\n    <tr>\n      <th>...</th>\n      <td>...</td>\n      <td>...</td>\n      <td>...</td>\n      <td>...</td>\n      <td>...</td>\n      <td>...</td>\n      <td>...</td>\n      <td>...</td>\n      <td>...</td>\n      <td>...</td>\n      <td>...</td>\n      <td>...</td>\n      <td>...</td>\n      <td>...</td>\n      <td>...</td>\n      <td>...</td>\n      <td>...</td>\n      <td>...</td>\n      <td>...</td>\n      <td>...</td>\n      <td>...</td>\n    </tr>\n    <tr>\n      <th>5226</th>\n      <td>convex</td>\n      <td>smooth</td>\n      <td>gray</td>\n      <td>bruises</td>\n      <td>foul</td>\n      <td>free</td>\n      <td>close</td>\n      <td>broad</td>\n      <td>chocolate</td>\n      <td>tapering</td>\n      <td>...</td>\n      <td>fibrous</td>\n      <td>smooth</td>\n      <td>white</td>\n      <td>white</td>\n      <td>white</td>\n      <td>one</td>\n      <td>pendant</td>\n      <td>chocolate</td>\n      <td>scattered</td>\n      <td>urban</td>\n    </tr>\n    <tr>\n      <th>5390</th>\n      <td>flat</td>\n      <td>smooth</td>\n      <td>gray</td>\n      <td>bruises</td>\n      <td>foul</td>\n      <td>free</td>\n      <td>close</td>\n      <td>broad</td>\n      <td>pink</td>\n      <td>tapering</td>\n      <td>...</td>\n      <td>smooth</td>\n      <td>smooth</td>\n      <td>white</td>\n      <td>white</td>\n      <td>white</td>\n      <td>one</td>\n      <td>pendant</td>\n      <td>chocolate</td>\n      <td>several</td>\n      <td>urban</td>\n    </tr>\n    <tr>\n      <th>860</th>\n      <td>flat</td>\n      <td>scaly</td>\n      <td>brown</td>\n      <td>bruises</td>\n      <td>anise</td>\n      <td>free</td>\n      <td>close</td>\n      <td>broad</td>\n      <td>white</td>\n      <td>enlarging</td>\n      <td>...</td>\n      <td>smooth</td>\n      <td>scaly</td>\n      <td>white</td>\n      <td>white</td>\n      <td>white</td>\n      <td>one</td>\n      <td>pendant</td>\n      <td>brown</td>\n      <td>solitary</td>\n      <td>paths</td>\n    </tr>\n    <tr>\n      <th>7603</th>\n      <td>bell</td>\n      <td>smooth</td>\n      <td>gray</td>\n      <td>no</td>\n      <td>none</td>\n      <td>free</td>\n      <td>crowded</td>\n      <td>broad</td>\n      <td>gray</td>\n      <td>enlarging</td>\n      <td>...</td>\n      <td>smooth</td>\n      <td>smooth</td>\n      <td>white</td>\n      <td>white</td>\n      <td>white</td>\n      <td>two</td>\n      <td>pendant</td>\n      <td>white</td>\n      <td>scattered</td>\n      <td>grasses</td>\n    </tr>\n    <tr>\n      <th>7270</th>\n      <td>knobbed</td>\n      <td>fibrous</td>\n      <td>gray</td>\n      <td>no</td>\n      <td>none</td>\n      <td>free</td>\n      <td>crowded</td>\n      <td>broad</td>\n      <td>gray</td>\n      <td>enlarging</td>\n      <td>...</td>\n      <td>silky</td>\n      <td>silky</td>\n      <td>white</td>\n      <td>white</td>\n      <td>white</td>\n      <td>two</td>\n      <td>pendant</td>\n      <td>white</td>\n      <td>numerous</td>\n      <td>grasses</td>\n    </tr>\n  </tbody>\n</table>\n<p>6084 rows × 21 columns</p>\n</div>"
     },
     "execution_count": 39,
     "metadata": {},
     "output_type": "execute_result"
    }
   ],
   "source": [
    "# split our data\n",
    "\n",
    "X_train, X_test, y_train, y_test = train_test_split(X, y, test_size=0.25, random_state=42)\n",
    "\n",
    "X_train"
   ],
   "metadata": {
    "collapsed": false,
    "pycharm": {
     "name": "#%%\n"
    }
   }
  },
  {
   "cell_type": "markdown",
   "source": [
    "We are using a ordinal encoder even though the categories are not ordinal.\n",
    "This is due to the fact that we will be using a tree model and tree models have a behavior\n",
    "to perform well with ordinal encoders even when no ordering relationship is present\n",
    "Also save time in not needing to perform one hot encoding and then pca"
   ],
   "metadata": {
    "collapsed": false,
    "pycharm": {
     "name": "#%% md\n"
    }
   }
  },
  {
   "cell_type": "code",
   "execution_count": 40,
   "outputs": [
    {
     "data": {
      "text/plain": "'X train'"
     },
     "metadata": {},
     "output_type": "display_data"
    },
    {
     "data": {
      "text/plain": "array([[4., 2., 7., ..., 7., 4., 1.],\n       [4., 3., 7., ..., 7., 4., 6.],\n       [2., 2., 7., ..., 0., 4., 6.],\n       ...,\n       [3., 2., 0., ..., 1., 5., 3.],\n       [0., 3., 3., ..., 7., 3., 0.],\n       [4., 0., 3., ..., 7., 2., 0.]])"
     },
     "metadata": {},
     "output_type": "display_data"
    },
    {
     "data": {
      "text/plain": "'y train'"
     },
     "metadata": {},
     "output_type": "display_data"
    },
    {
     "data": {
      "text/plain": "array([[1.],\n       [1.],\n       [0.],\n       ...,\n       [0.],\n       [0.],\n       [0.]])"
     },
     "metadata": {},
     "output_type": "display_data"
    }
   ],
   "source": [
    "# we preprocess the training the data\n",
    "\n",
    "ordinal_X = OrdinalEncoder()\n",
    "X_train = ordinal_X.fit_transform(X_train)\n",
    "\n",
    "ordinal_y = OrdinalEncoder()\n",
    "y_train = ordinal_y.fit_transform((y_train))\n",
    "\n",
    "display('X train', X_train, 'y train', y_train)"
   ],
   "metadata": {
    "collapsed": false,
    "pycharm": {
     "name": "#%%\n"
    }
   }
  },
  {
   "cell_type": "code",
   "execution_count": 35,
   "outputs": [
    {
     "data": {
      "text/plain": "     Cap-Shape Cap-Surface Cap-Color  Bruises   Odor Gill-Attachment  \\\n2157      flat     fibrous     brown  bruises   none            free   \n453     convex     fibrous    yellow  bruises  anise            free   \n8043    convex      smooth     brown       no   none        attached   \n3985    convex     fibrous      gray       no   foul            free   \n5366      flat       scaly    yellow       no   foul            free   \n...        ...         ...       ...      ...    ...             ...   \n6004    convex       scaly     white       no   none            free   \n7941   knobbed       scaly     brown       no   foul            free   \n5624      flat       scaly  cinnamon       no  musty        attached   \n7991      bell      smooth     brown       no   none        attached   \n1600    convex       scaly      gray  bruises   none            free   \n\n     Gill-Spacing Gill-Size Gill-Color Stalk-Shape  ...  \\\n2157        close     broad     purple    tapering  ...   \n453       crowded    narrow       pink    tapering  ...   \n8043        close     broad      brown   enlarging  ...   \n3985        close     broad       pink   enlarging  ...   \n5366        close     broad       pink   enlarging  ...   \n...           ...       ...        ...         ...  ...   \n6004        close    narrow      white   enlarging  ...   \n7941        close    narrow       buff    tapering  ...   \n5624        close     broad      white   enlarging  ...   \n7991        close     broad      brown   enlarging  ...   \n1600        close     broad      brown    tapering  ...   \n\n     Stalk-Surface-Above-Ring Stalk-Surface-Below-Ring Stalk-Color-Above-Ring  \\\n2157                   smooth                   smooth                  white   \n453                    smooth                   smooth                  white   \n8043                   smooth                   smooth                 orange   \n3985                    silky                    silky                   pink   \n5366                    silky                    silky                   pink   \n...                       ...                      ...                    ...   \n6004                   smooth                  fibrous                  white   \n7941                    silky                   smooth                   pink   \n5624                    silky                    scaly               cinnamon   \n7991                   smooth                   smooth                 orange   \n1600                   smooth                   smooth                   pink   \n\n     Stalk-Color-Below-Ring Veil-Color Ring-Number   Ring-Type  \\\n2157                   gray      white         one     pendant   \n453                   white      white         one     pendant   \n8043                 orange      brown         one     pendant   \n3985                  brown      white         one       large   \n5366                   buff      white         one       large   \n...                     ...        ...         ...         ...   \n6004                  white      white         one     flaring   \n7941                  white      white         one  evanescent   \n5624               cinnamon      white        none        none   \n7991                 orange     orange         one     pendant   \n1600                   gray      white         one     pendant   \n\n     Spore-Print-Color Population  Habitat  \n2157             brown    several    woods  \n453              brown    several    woods  \n8043             brown    several   leaves  \n3985         chocolate   solitary  grasses  \n5366         chocolate    several    woods  \n...                ...        ...      ...  \n6004         chocolate    several    woods  \n7941             white    several    paths  \n5624             white  clustered    woods  \n7991             brown  clustered   leaves  \n1600             black   solitary    woods  \n\n[2028 rows x 21 columns]",
      "text/html": "<div>\n<style scoped>\n    .dataframe tbody tr th:only-of-type {\n        vertical-align: middle;\n    }\n\n    .dataframe tbody tr th {\n        vertical-align: top;\n    }\n\n    .dataframe thead th {\n        text-align: right;\n    }\n</style>\n<table border=\"1\" class=\"dataframe\">\n  <thead>\n    <tr style=\"text-align: right;\">\n      <th></th>\n      <th>Cap-Shape</th>\n      <th>Cap-Surface</th>\n      <th>Cap-Color</th>\n      <th>Bruises</th>\n      <th>Odor</th>\n      <th>Gill-Attachment</th>\n      <th>Gill-Spacing</th>\n      <th>Gill-Size</th>\n      <th>Gill-Color</th>\n      <th>Stalk-Shape</th>\n      <th>...</th>\n      <th>Stalk-Surface-Above-Ring</th>\n      <th>Stalk-Surface-Below-Ring</th>\n      <th>Stalk-Color-Above-Ring</th>\n      <th>Stalk-Color-Below-Ring</th>\n      <th>Veil-Color</th>\n      <th>Ring-Number</th>\n      <th>Ring-Type</th>\n      <th>Spore-Print-Color</th>\n      <th>Population</th>\n      <th>Habitat</th>\n    </tr>\n  </thead>\n  <tbody>\n    <tr>\n      <th>2157</th>\n      <td>flat</td>\n      <td>fibrous</td>\n      <td>brown</td>\n      <td>bruises</td>\n      <td>none</td>\n      <td>free</td>\n      <td>close</td>\n      <td>broad</td>\n      <td>purple</td>\n      <td>tapering</td>\n      <td>...</td>\n      <td>smooth</td>\n      <td>smooth</td>\n      <td>white</td>\n      <td>gray</td>\n      <td>white</td>\n      <td>one</td>\n      <td>pendant</td>\n      <td>brown</td>\n      <td>several</td>\n      <td>woods</td>\n    </tr>\n    <tr>\n      <th>453</th>\n      <td>convex</td>\n      <td>fibrous</td>\n      <td>yellow</td>\n      <td>bruises</td>\n      <td>anise</td>\n      <td>free</td>\n      <td>crowded</td>\n      <td>narrow</td>\n      <td>pink</td>\n      <td>tapering</td>\n      <td>...</td>\n      <td>smooth</td>\n      <td>smooth</td>\n      <td>white</td>\n      <td>white</td>\n      <td>white</td>\n      <td>one</td>\n      <td>pendant</td>\n      <td>brown</td>\n      <td>several</td>\n      <td>woods</td>\n    </tr>\n    <tr>\n      <th>8043</th>\n      <td>convex</td>\n      <td>smooth</td>\n      <td>brown</td>\n      <td>no</td>\n      <td>none</td>\n      <td>attached</td>\n      <td>close</td>\n      <td>broad</td>\n      <td>brown</td>\n      <td>enlarging</td>\n      <td>...</td>\n      <td>smooth</td>\n      <td>smooth</td>\n      <td>orange</td>\n      <td>orange</td>\n      <td>brown</td>\n      <td>one</td>\n      <td>pendant</td>\n      <td>brown</td>\n      <td>several</td>\n      <td>leaves</td>\n    </tr>\n    <tr>\n      <th>3985</th>\n      <td>convex</td>\n      <td>fibrous</td>\n      <td>gray</td>\n      <td>no</td>\n      <td>foul</td>\n      <td>free</td>\n      <td>close</td>\n      <td>broad</td>\n      <td>pink</td>\n      <td>enlarging</td>\n      <td>...</td>\n      <td>silky</td>\n      <td>silky</td>\n      <td>pink</td>\n      <td>brown</td>\n      <td>white</td>\n      <td>one</td>\n      <td>large</td>\n      <td>chocolate</td>\n      <td>solitary</td>\n      <td>grasses</td>\n    </tr>\n    <tr>\n      <th>5366</th>\n      <td>flat</td>\n      <td>scaly</td>\n      <td>yellow</td>\n      <td>no</td>\n      <td>foul</td>\n      <td>free</td>\n      <td>close</td>\n      <td>broad</td>\n      <td>pink</td>\n      <td>enlarging</td>\n      <td>...</td>\n      <td>silky</td>\n      <td>silky</td>\n      <td>pink</td>\n      <td>buff</td>\n      <td>white</td>\n      <td>one</td>\n      <td>large</td>\n      <td>chocolate</td>\n      <td>several</td>\n      <td>woods</td>\n    </tr>\n    <tr>\n      <th>...</th>\n      <td>...</td>\n      <td>...</td>\n      <td>...</td>\n      <td>...</td>\n      <td>...</td>\n      <td>...</td>\n      <td>...</td>\n      <td>...</td>\n      <td>...</td>\n      <td>...</td>\n      <td>...</td>\n      <td>...</td>\n      <td>...</td>\n      <td>...</td>\n      <td>...</td>\n      <td>...</td>\n      <td>...</td>\n      <td>...</td>\n      <td>...</td>\n      <td>...</td>\n      <td>...</td>\n    </tr>\n    <tr>\n      <th>6004</th>\n      <td>convex</td>\n      <td>scaly</td>\n      <td>white</td>\n      <td>no</td>\n      <td>none</td>\n      <td>free</td>\n      <td>close</td>\n      <td>narrow</td>\n      <td>white</td>\n      <td>enlarging</td>\n      <td>...</td>\n      <td>smooth</td>\n      <td>fibrous</td>\n      <td>white</td>\n      <td>white</td>\n      <td>white</td>\n      <td>one</td>\n      <td>flaring</td>\n      <td>chocolate</td>\n      <td>several</td>\n      <td>woods</td>\n    </tr>\n    <tr>\n      <th>7941</th>\n      <td>knobbed</td>\n      <td>scaly</td>\n      <td>brown</td>\n      <td>no</td>\n      <td>foul</td>\n      <td>free</td>\n      <td>close</td>\n      <td>narrow</td>\n      <td>buff</td>\n      <td>tapering</td>\n      <td>...</td>\n      <td>silky</td>\n      <td>smooth</td>\n      <td>pink</td>\n      <td>white</td>\n      <td>white</td>\n      <td>one</td>\n      <td>evanescent</td>\n      <td>white</td>\n      <td>several</td>\n      <td>paths</td>\n    </tr>\n    <tr>\n      <th>5624</th>\n      <td>flat</td>\n      <td>scaly</td>\n      <td>cinnamon</td>\n      <td>no</td>\n      <td>musty</td>\n      <td>attached</td>\n      <td>close</td>\n      <td>broad</td>\n      <td>white</td>\n      <td>enlarging</td>\n      <td>...</td>\n      <td>silky</td>\n      <td>scaly</td>\n      <td>cinnamon</td>\n      <td>cinnamon</td>\n      <td>white</td>\n      <td>none</td>\n      <td>none</td>\n      <td>white</td>\n      <td>clustered</td>\n      <td>woods</td>\n    </tr>\n    <tr>\n      <th>7991</th>\n      <td>bell</td>\n      <td>smooth</td>\n      <td>brown</td>\n      <td>no</td>\n      <td>none</td>\n      <td>attached</td>\n      <td>close</td>\n      <td>broad</td>\n      <td>brown</td>\n      <td>enlarging</td>\n      <td>...</td>\n      <td>smooth</td>\n      <td>smooth</td>\n      <td>orange</td>\n      <td>orange</td>\n      <td>orange</td>\n      <td>one</td>\n      <td>pendant</td>\n      <td>brown</td>\n      <td>clustered</td>\n      <td>leaves</td>\n    </tr>\n    <tr>\n      <th>1600</th>\n      <td>convex</td>\n      <td>scaly</td>\n      <td>gray</td>\n      <td>bruises</td>\n      <td>none</td>\n      <td>free</td>\n      <td>close</td>\n      <td>broad</td>\n      <td>brown</td>\n      <td>tapering</td>\n      <td>...</td>\n      <td>smooth</td>\n      <td>smooth</td>\n      <td>pink</td>\n      <td>gray</td>\n      <td>white</td>\n      <td>one</td>\n      <td>pendant</td>\n      <td>black</td>\n      <td>solitary</td>\n      <td>woods</td>\n    </tr>\n  </tbody>\n</table>\n<p>2028 rows × 21 columns</p>\n</div>"
     },
     "execution_count": 35,
     "metadata": {},
     "output_type": "execute_result"
    }
   ],
   "source": [
    "X_test"
   ],
   "metadata": {
    "collapsed": false,
    "pycharm": {
     "name": "#%%\n"
    }
   }
  },
  {
   "cell_type": "code",
   "execution_count": 36,
   "outputs": [
    {
     "data": {
      "text/plain": "'X test'"
     },
     "metadata": {},
     "output_type": "display_data"
    },
    {
     "data": {
      "text/plain": "array([[3., 0., 0., ..., 1., 4., 6.],\n       [2., 0., 9., ..., 1., 4., 6.],\n       [2., 3., 0., ..., 1., 4., 1.],\n       ...,\n       [3., 2., 2., ..., 7., 1., 6.],\n       [0., 3., 0., ..., 1., 1., 1.],\n       [2., 2., 3., ..., 0., 5., 6.]])"
     },
     "metadata": {},
     "output_type": "display_data"
    },
    {
     "data": {
      "text/plain": "'y test'"
     },
     "metadata": {},
     "output_type": "display_data"
    },
    {
     "data": {
      "text/plain": "array([[0.],\n       [0.],\n       [0.],\n       ...,\n       [1.],\n       [0.],\n       [0.]])"
     },
     "metadata": {},
     "output_type": "display_data"
    }
   ],
   "source": [
    "# preprocess the test data\n",
    "\n",
    "X_test = ordinal_X.transform(X_test)\n",
    "\n",
    "y_test = ordinal_y.transform(y_test)\n",
    "\n",
    "display('X test', X_test, 'y test', y_test)"
   ],
   "metadata": {
    "collapsed": false,
    "pycharm": {
     "name": "#%%\n"
    }
   }
  },
  {
   "cell_type": "code",
   "execution_count": 37,
   "outputs": [],
   "source": [
    "# save these preprocessed values for usage on modeling\n",
    "\n",
    "# savez saves these as compressed files\n",
    "np.savez('../../data/processed/train.npz', X_train, y_train)\n",
    "np.savez('../../data/processed/test.npz', X_test, y_test)"
   ],
   "metadata": {
    "collapsed": false,
    "pycharm": {
     "name": "#%%\n"
    }
   }
  },
  {
   "cell_type": "code",
   "execution_count": 38,
   "outputs": [
    {
     "data": {
      "text/plain": "['../../data/processed/ordinal_y']"
     },
     "execution_count": 38,
     "metadata": {},
     "output_type": "execute_result"
    }
   ],
   "source": [
    "# Save our transformers\n",
    "\n",
    "joblib.dump(ordinal_X, '../../data/processed/ordinal_X')\n",
    "joblib.dump(ordinal_y, '../../data/processed/ordinal_y')"
   ],
   "metadata": {
    "collapsed": false,
    "pycharm": {
     "name": "#%%\n"
    }
   }
  }
 ],
 "metadata": {
  "kernelspec": {
   "display_name": "Python 3",
   "language": "python",
   "name": "python3"
  },
  "language_info": {
   "codemirror_mode": {
    "name": "ipython",
    "version": 2
   },
   "file_extension": ".py",
   "mimetype": "text/x-python",
   "name": "python",
   "nbconvert_exporter": "python",
   "pygments_lexer": "ipython2",
   "version": "2.7.6"
  }
 },
 "nbformat": 4,
 "nbformat_minor": 0
}