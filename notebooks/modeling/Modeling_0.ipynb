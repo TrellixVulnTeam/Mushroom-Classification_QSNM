{
 "cells": [
  {
   "cell_type": "markdown",
   "metadata": {
    "collapsed": true,
    "pycharm": {
     "name": "#%% md\n"
    }
   },
   "source": [
    "# Modeling\n",
    "Model our data and then evaluate"
   ]
  },
  {
   "cell_type": "code",
   "execution_count": 1,
   "outputs": [],
   "source": [
    "# import packages\n",
    "\n",
    "import numpy as np\n",
    "import pandas as pd\n",
    "import seaborn as sns\n",
    "import sys\n",
    "import os\n",
    "import matplotlib.pyplot as plt\n",
    "import klib\n",
    "import plotly.figure_factory as ff\n",
    "from IPython.core.display import display\n",
    "from scipy import stats\n",
    "from sklearn.preprocessing import LabelEncoder, OneHotEncoder, OrdinalEncoder\n",
    "from sklearn.pipeline import Pipeline\n",
    "from sklearn.ensemble import RandomForestClassifier\n",
    "from sklearn.model_selection import train_test_split, GridSearchCV\n",
    "from sklearn.neighbors import KNeighborsClassifier\n",
    "from sklearn.tree import DecisionTreeClassifier\n",
    "from sklearn.compose import ColumnTransformer\n",
    "from sklearn.metrics import confusion_matrix, plot_confusion_matrix\n",
    "import joblib\n",
    "# pd.set_option('display.max_columns', None)\n",
    "# pd.reset_option('max_rows')\n",
    "#np.set_printoptions(threshold=sys.maxsize)\n",
    "\n",
    "plt.style.use('dark_background')\n",
    "plt.rcParams.update({\"grid.linewidth\":0.5, \"grid.alpha\":0.5})\n",
    "sns.set(style='ticks', context='talk')"
   ],
   "metadata": {
    "collapsed": false,
    "pycharm": {
     "name": "#%%\n"
    }
   }
  },
  {
   "cell_type": "code",
   "execution_count": 2,
   "outputs": [
    {
     "name": "stderr",
     "output_type": "stream",
     "text": [
      "/home/wkc/Documents/Springboard/Projects_and_Assignments/Mushroom-Classification/venv/lib/python3.8/site-packages/sklearn/base.py:310: UserWarning: Trying to unpickle estimator OrdinalEncoder from version 0.24.0 when using version 0.24.1. This might lead to breaking code or invalid results. Use at your own risk.\n",
      "  warnings.warn(\n"
     ]
    }
   ],
   "source": [
    "# import train, test, and transformer\n",
    "\n",
    "train = np.load('../../data/processed/train.npz')\n",
    "test = np.load('../../data/processed/test.npz')\n",
    "\n",
    "ordinal_X = joblib.load('../../data/processed/ordinal_X')\n",
    "ordinal_y = joblib.load('../../data/processed/ordinal_y')"
   ],
   "metadata": {
    "collapsed": false,
    "pycharm": {
     "name": "#%%\n"
    }
   }
  },
  {
   "cell_type": "code",
   "execution_count": 3,
   "outputs": [
    {
     "data": {
      "text/plain": "(array([[4., 2., 7., ..., 7., 4., 1.],\n        [4., 3., 7., ..., 7., 4., 6.],\n        [2., 2., 7., ..., 0., 4., 6.],\n        ...,\n        [3., 2., 0., ..., 1., 5., 3.],\n        [0., 3., 3., ..., 7., 3., 0.],\n        [4., 0., 3., ..., 7., 2., 0.]]),\n array([[1.],\n        [1.],\n        [0.],\n        ...,\n        [0.],\n        [0.],\n        [0.]]))"
     },
     "execution_count": 3,
     "metadata": {},
     "output_type": "execute_result"
    }
   ],
   "source": [
    "# uncompress train archive\n",
    "X_train = train[train.files[0]]\n",
    "y_train = train[train.files[1]]\n",
    "\n",
    "X_train, y_train"
   ],
   "metadata": {
    "collapsed": false,
    "pycharm": {
     "name": "#%%\n"
    }
   }
  },
  {
   "cell_type": "code",
   "execution_count": 4,
   "outputs": [
    {
     "data": {
      "text/plain": "(array([[3., 0., 0., ..., 1., 4., 6.],\n        [2., 0., 9., ..., 1., 4., 6.],\n        [2., 3., 0., ..., 1., 4., 1.],\n        ...,\n        [3., 2., 2., ..., 7., 1., 6.],\n        [0., 3., 0., ..., 1., 1., 1.],\n        [2., 2., 3., ..., 0., 5., 6.]]),\n array([[0.],\n        [0.],\n        [0.],\n        ...,\n        [1.],\n        [0.],\n        [0.]]))"
     },
     "execution_count": 4,
     "metadata": {},
     "output_type": "execute_result"
    }
   ],
   "source": [
    "# uncompress test archive\n",
    "X_test = test[test.files[0]]\n",
    "y_test = test[test.files[1]]\n",
    "\n",
    "X_test, y_test"
   ],
   "metadata": {
    "collapsed": false,
    "pycharm": {
     "name": "#%%\n"
    }
   }
  },
  {
   "cell_type": "markdown",
   "source": [
    "### model the data with random forest regressor\n"
   ],
   "metadata": {
    "collapsed": false,
    "pycharm": {
     "name": "#%% md\n"
    }
   }
  },
  {
   "cell_type": "code",
   "execution_count": 5,
   "outputs": [
    {
     "name": "stderr",
     "output_type": "stream",
     "text": [
      "/home/wkc/Documents/Springboard/Projects_and_Assignments/Mushroom-Classification/venv/lib/python3.8/site-packages/sklearn/pipeline.py:346: DataConversionWarning: A column-vector y was passed when a 1d array was expected. Please change the shape of y to (n_samples,), for example using ravel().\n",
      "  self._final_estimator.fit(Xt, y, **fit_params_last_step)\n"
     ]
    },
    {
     "data": {
      "text/plain": "GridSearchCV(cv=5,\n             estimator=Pipeline(steps=[('rf',\n                                        RandomForestClassifier(random_state=42))]),\n             n_jobs=-1, param_grid={})"
     },
     "execution_count": 5,
     "metadata": {},
     "output_type": "execute_result"
    }
   ],
   "source": [
    "rf_pipe = Pipeline([('rf', RandomForestClassifier(random_state=42))])\n",
    "\n",
    "rf_param_grid = {}\n",
    "\n",
    "rf_grid = GridSearchCV(rf_pipe, rf_param_grid, cv=5, n_jobs=-1)\n",
    "rf_grid.fit(X_train, y_train)"
   ],
   "metadata": {
    "collapsed": false,
    "pycharm": {
     "name": "#%%\n"
    }
   }
  },
  {
   "cell_type": "code",
   "execution_count": 6,
   "outputs": [
    {
     "name": "stdout",
     "output_type": "stream",
     "text": [
      "train accuracy: 1.0 train std: 0.0\n"
     ]
    }
   ],
   "source": [
    "train_accuracy = rf_grid.best_score_\n",
    "train_std = rf_grid.cv_results_['std_test_score'][rf_grid.best_index_]\n",
    "\n",
    "print('train accuracy:', train_accuracy, 'train std:', train_std)"
   ],
   "metadata": {
    "collapsed": false,
    "pycharm": {
     "name": "#%%\n"
    }
   }
  },
  {
   "cell_type": "code",
   "execution_count": 7,
   "outputs": [
    {
     "name": "stdout",
     "output_type": "stream",
     "text": [
      "test accuracy: 1.0\n"
     ]
    }
   ],
   "source": [
    "rf_best = rf_grid.best_estimator_\n",
    "test_accuracy = rf_best.score(X_test, y_test)\n",
    "\n",
    "print('test accuracy:', test_accuracy)"
   ],
   "metadata": {
    "collapsed": false,
    "pycharm": {
     "name": "#%%\n"
    }
   }
  },
  {
   "cell_type": "markdown",
   "source": [
    "Although this appears awkward seeing a 100% accuracy it is not surprising when working with a easy dataset with strong\n",
    "relation between predictor and target variables as seen earlier.\n",
    "Following with this strong accuracy score, we shall not need to proceed with hyperparameter tuning, becase we do not\n",
    "want to overcomplicate our model when it appears to do very well.\n",
    "\n",
    "Rather we should test if we can use even more simple models to replicate above results.\n",
    "Also look at feature importances to show we could have even done with even lesser number of features"
   ],
   "metadata": {
    "collapsed": false,
    "pycharm": {
     "name": "#%% md\n"
    }
   }
  },
  {
   "cell_type": "markdown",
   "source": [
    "### Try to model with knn"
   ],
   "metadata": {
    "collapsed": false,
    "pycharm": {
     "name": "#%% md\n"
    }
   }
  },
  {
   "cell_type": "code",
   "execution_count": 8,
   "outputs": [
    {
     "name": "stderr",
     "output_type": "stream",
     "text": [
      "/home/wkc/Documents/Springboard/Projects_and_Assignments/Mushroom-Classification/venv/lib/python3.8/site-packages/sklearn/neighbors/_classification.py:179: DataConversionWarning: A column-vector y was passed when a 1d array was expected. Please change the shape of y to (n_samples,), for example using ravel().\n",
      "  return self._fit(X, y)\n"
     ]
    },
    {
     "data": {
      "text/plain": "GridSearchCV(cv=5, estimator=KNeighborsClassifier(), n_jobs=-1, param_grid={})"
     },
     "execution_count": 8,
     "metadata": {},
     "output_type": "execute_result"
    }
   ],
   "source": [
    "knn = KNeighborsClassifier()\n",
    "\n",
    "knn_grid = GridSearchCV(knn, {}, cv=5, n_jobs=-1)\n",
    "\n",
    "knn_grid.fit(X_train, y_train)"
   ],
   "metadata": {
    "collapsed": false,
    "pycharm": {
     "name": "#%%\n"
    }
   }
  },
  {
   "cell_type": "code",
   "execution_count": 9,
   "outputs": [
    {
     "name": "stdout",
     "output_type": "stream",
     "text": [
      "train accuracy: 0.9976984495956407 train std: 0.0017558708873263433\n"
     ]
    }
   ],
   "source": [
    "knn_train_accuracy = knn_grid.best_score_\n",
    "knn_train_std = knn_grid.cv_results_['std_test_score'][knn_grid.best_index_]\n",
    "\n",
    "print('train accuracy:', knn_train_accuracy, 'train std:', knn_train_std)"
   ],
   "metadata": {
    "collapsed": false,
    "pycharm": {
     "name": "#%%\n"
    }
   }
  },
  {
   "cell_type": "code",
   "execution_count": 10,
   "outputs": [
    {
     "data": {
      "text/plain": "0.9995069033530573"
     },
     "execution_count": 10,
     "metadata": {},
     "output_type": "execute_result"
    }
   ],
   "source": [
    "knn_regular = knn_grid.best_estimator_\n",
    "knn_regular.score(X_test, y_test)"
   ],
   "metadata": {
    "collapsed": false,
    "pycharm": {
     "name": "#%%\n"
    }
   }
  },
  {
   "cell_type": "markdown",
   "source": [
    "Not 100% but makes sense since ordinal encoder does not do as well on non-tree classifiers but still very well"
   ],
   "metadata": {
    "collapsed": false,
    "pycharm": {
     "name": "#%% md\n"
    }
   }
  },
  {
   "cell_type": "markdown",
   "source": [
    "### Model on a single decision tree\n"
   ],
   "metadata": {
    "collapsed": false
   }
  },
  {
   "cell_type": "code",
   "execution_count": 11,
   "outputs": [
    {
     "data": {
      "text/plain": "GridSearchCV(cv=5, estimator=DecisionTreeClassifier(), n_jobs=-1, param_grid={})"
     },
     "execution_count": 11,
     "metadata": {},
     "output_type": "execute_result"
    }
   ],
   "source": [
    "dt = DecisionTreeClassifier()\n",
    "\n",
    "dt_grid = GridSearchCV(dt, {}, cv=5, n_jobs=-1)\n",
    "\n",
    "dt_grid.fit(X_train, y_train)"
   ],
   "metadata": {
    "collapsed": false,
    "pycharm": {
     "name": "#%%\n"
    }
   }
  },
  {
   "cell_type": "code",
   "execution_count": 12,
   "outputs": [
    {
     "name": "stdout",
     "output_type": "stream",
     "text": [
      "train accuracy: 1.0 train std: 0.0\n"
     ]
    }
   ],
   "source": [
    "dt_train_accuracy = dt_grid.best_score_\n",
    "dt_train_std = dt_grid.cv_results_['std_test_score'][dt_grid.best_index_]\n",
    "\n",
    "print('train accuracy:', dt_train_accuracy, 'train std:', dt_train_std)"
   ],
   "metadata": {
    "collapsed": false,
    "pycharm": {
     "name": "#%%\n"
    }
   }
  },
  {
   "cell_type": "code",
   "execution_count": 13,
   "outputs": [
    {
     "data": {
      "text/plain": "1.0"
     },
     "execution_count": 13,
     "metadata": {},
     "output_type": "execute_result"
    }
   ],
   "source": [
    "dt_regular = dt_grid.best_estimator_\n",
    "dt_regular.score(X_test, y_test)"
   ],
   "metadata": {
    "collapsed": false,
    "pycharm": {
     "name": "#%%\n"
    }
   }
  },
  {
   "cell_type": "markdown",
   "source": [
    "It shows that we do not even need an ensemble method and can just work with a single decision tree"
   ],
   "metadata": {
    "collapsed": false,
    "pycharm": {
     "name": "#%% md\n"
    }
   }
  },
  {
   "cell_type": "code",
   "execution_count": 16,
   "outputs": [
    {
     "data": {
      "text/plain": "Index(['Cap-Shape', 'Cap-Surface', 'Cap-Color', 'Bruises', 'Odor',\n       'Gill-Attachment', 'Gill-Spacing', 'Gill-Size', 'Gill-Color',\n       'Stalk-Shape', 'Stalk-Root', 'Stalk-Surface-Above-Ring',\n       'Stalk-Surface-Below-Ring', 'Stalk-Color-Above-Ring',\n       'Stalk-Color-Below-Ring', 'Veil-Color', 'Ring-Number', 'Ring-Type',\n       'Spore-Print-Color', 'Population', 'Habitat'],\n      dtype='object')"
     },
     "execution_count": 16,
     "metadata": {},
     "output_type": "execute_result"
    }
   ],
   "source": [
    "mushroom = pd.read_csv('../../data/processed/mushroom_imputed_2_adj.csv')\n",
    "cols = mushroom.drop('Class', axis=1).columns\n",
    "cols"
   ],
   "metadata": {
    "collapsed": false,
    "pycharm": {
     "name": "#%%\n"
    }
   }
  },
  {
   "cell_type": "code",
   "execution_count": 22,
   "outputs": [
    {
     "data": {
      "text/plain": "Spore-Print-Color           0.534042\nRing-Number                 0.168971\nGill-Size                   0.138720\nVeil-Color                  0.045050\nGill-Spacing                0.032712\nHabitat                     0.018271\nOdor                        0.015691\nCap-Surface                 0.014696\nStalk-Shape                 0.010488\nBruises                     0.008981\nPopulation                  0.006637\nStalk-Surface-Below-Ring    0.005741\nStalk-Color-Below-Ring      0.000000\nRing-Type                   0.000000\nCap-Shape                   0.000000\nStalk-Color-Above-Ring      0.000000\nStalk-Surface-Above-Ring    0.000000\nGill-Color                  0.000000\nGill-Attachment             0.000000\nCap-Color                   0.000000\nStalk-Root                  0.000000\ndtype: float64"
     },
     "execution_count": 22,
     "metadata": {},
     "output_type": "execute_result"
    }
   ],
   "source": [
    "feat_imp = pd.Series(dt_regular.feature_importances_, index=cols).sort_values(ascending=False)\n",
    "feat_imp"
   ],
   "metadata": {
    "collapsed": false,
    "pycharm": {
     "name": "#%%\n"
    }
   }
  },
  {
   "cell_type": "code",
   "execution_count": 30,
   "outputs": [
    {
     "data": {
      "text/plain": "Text(0, 0.5, 'Feature Importance Value')"
     },
     "execution_count": 30,
     "metadata": {},
     "output_type": "execute_result"
    },
    {
     "data": {
      "text/plain": "<Figure size 1080x1080 with 1 Axes>",
      "image/png": "[encoded data removed]"
     },
     "metadata": {},
     "output_type": "display_data"
    }
   ],
   "source": [
    "plt.figure(figsize=(15,15))\n",
    "feat_imp[:13].plot(kind='bar')\n",
    "plt.title('13 top Feature Importances for Decision Tree')\n",
    "plt.xlabel('Features')\n",
    "plt.ylabel('Feature Importance Value')\n"
   ],
   "metadata": {
    "collapsed": false,
    "pycharm": {
     "name": "#%%\n"
    }
   }
  },
  {
   "cell_type": "code",
   "execution_count": 34,
   "outputs": [
    {
     "data": {
      "text/plain": "0.8417335745440734"
     },
     "execution_count": 34,
     "metadata": {},
     "output_type": "execute_result"
    }
   ],
   "source": [
    "sum(feat_imp[:3].values)"
   ],
   "metadata": {
    "collapsed": false,
    "pycharm": {
     "name": "#%%\n"
    }
   }
  },
  {
   "cell_type": "markdown",
   "source": [
    "Most of the variance in our model can be explained by three features, spore print color, ring number, and gill size\n",
    "which is surprising as odor was correlated for us but this model doesn't find it as important when it is classifying\n"
   ],
   "metadata": {
    "collapsed": false,
    "pycharm": {
     "name": "#%% md\n"
    }
   }
  },
  {
   "cell_type": "code",
   "execution_count": 38,
   "outputs": [
    {
     "data": {
      "text/plain": "['Spore-Print-Color', 'Ring-Number', 'Gill-Size']"
     },
     "execution_count": 38,
     "metadata": {},
     "output_type": "execute_result"
    }
   ],
   "source": [
    "# Code to get retrieve the top 3 columns that are considered most important in identifying edibility\n",
    "top_feat = feat_imp.index[:3].tolist()\n",
    "top_feat"
   ],
   "metadata": {
    "collapsed": false,
    "pycharm": {
     "name": "#%%\n"
    }
   }
  },
  {
   "cell_type": "code",
   "execution_count": 50,
   "outputs": [
    {
     "data": {
      "text/plain": "[18, 16, 7]"
     },
     "execution_count": 50,
     "metadata": {},
     "output_type": "execute_result"
    }
   ],
   "source": [
    "# This is used to get an array of the index for best features, this is because our Xtrain is a transformed numpy array\n",
    "# and we cannot simply just grab the columns by name and need to be name\n",
    "best_index = []\n",
    "\n",
    "for feat in top_feat:\n",
    "    best_index.append(mushroom.drop('Class', axis=1).columns.get_loc(feat))\n",
    "\n",
    "best_index\n"
   ],
   "metadata": {
    "collapsed": false,
    "pycharm": {
     "name": "#%%\n"
    }
   }
  },
  {
   "cell_type": "code",
   "execution_count": 85,
   "outputs": [],
   "source": [
    "X_train_top_feats = X_train[:, best_index]\n",
    "X_test_top_feats = X_test[:, best_index]"
   ],
   "metadata": {
    "collapsed": false,
    "pycharm": {
     "name": "#%%\n"
    }
   }
  },
  {
   "cell_type": "code",
   "execution_count": 86,
   "outputs": [
    {
     "data": {
      "text/plain": "GridSearchCV(cv=5, estimator=DecisionTreeClassifier(), n_jobs=-1, param_grid={})"
     },
     "execution_count": 86,
     "metadata": {},
     "output_type": "execute_result"
    }
   ],
   "source": [
    "dt_grid2 = GridSearchCV(dt, {}, cv=5, n_jobs=-1)\n",
    "dt_grid2.fit(X_train_top_feats, y_train)"
   ],
   "metadata": {
    "collapsed": false,
    "pycharm": {
     "name": "#%%\n"
    }
   }
  },
  {
   "cell_type": "code",
   "execution_count": 87,
   "outputs": [
    {
     "name": "stdout",
     "output_type": "stream",
     "text": [
      "train accuracy: 0.9784686783721837 train std: 0.002999983867124824\n"
     ]
    }
   ],
   "source": [
    "dt2_train_accuracy = dt_grid2.best_score_\n",
    "dt2_train_std = dt_grid2.cv_results_['std_test_score'][dt_grid2.best_index_]\n",
    "\n",
    "print('train accuracy:', dt2_train_accuracy, 'train std:', dt2_train_std)"
   ],
   "metadata": {
    "collapsed": false,
    "pycharm": {
     "name": "#%%\n"
    }
   }
  },
  {
   "cell_type": "code",
   "execution_count": 89,
   "outputs": [
    {
     "data": {
      "text/plain": "0.9699211045364892"
     },
     "execution_count": 89,
     "metadata": {},
     "output_type": "execute_result"
    }
   ],
   "source": [
    "dt2_regular = dt_grid2.best_estimator_\n",
    "dt2_regular.score(X_test_top_feats, y_test)"
   ],
   "metadata": {
    "collapsed": false,
    "pycharm": {
     "name": "#%%\n"
    }
   }
  },
  {
   "cell_type": "markdown",
   "source": [
    "With 3 Features It seems our train and test overfits by 1% which seems insignificant as\n",
    "the accuracy is still around 96% which is high.\n",
    "In terms of the problem scenario because we ard dealing with edibility of mushrooms we rather have a higher precision\n",
    "than recall, if our positive class edibility. This means that we should use all features for a 100% when gauging for\n",
    "edibility of mushrooms; and even a more complex like random forest classifier would be considered over a decision tree.\n"
   ],
   "metadata": {
    "collapsed": false,
    "pycharm": {
     "name": "#%% md\n"
    }
   }
  },
  {
   "cell_type": "markdown",
   "source": [
    "# save all models\n"
   ],
   "metadata": {
    "collapsed": false,
    "pycharm": {
     "name": "#%% md\n"
    }
   }
  },
  {
   "cell_type": "code",
   "execution_count": 90,
   "outputs": [
    {
     "data": {
      "text/plain": "['../../model/dt_top_feats_model_classifier']"
     },
     "execution_count": 90,
     "metadata": {},
     "output_type": "execute_result"
    }
   ],
   "source": [
    "joblib.dump(rf_best, r'../../model/rf_model_classifier')\n",
    "joblib.dump(knn_regular, r'../../model/knn_model_classifier')\n",
    "joblib.dump(dt_regular, r'../../model/dt_model_classifier')\n",
    "joblib.dump(dt2_regular, r'../../model/dt_top_feats_model_classifier')"
   ],
   "metadata": {
    "collapsed": false,
    "pycharm": {
     "name": "#%%\n"
    }
   }
  },
  {
   "cell_type": "markdown",
   "source": [
    "Do more evaluation looking at confusion matrix\n"
   ],
   "metadata": {
    "collapsed": false,
    "pycharm": {
     "name": "#%% md\n"
    }
   }
  }
 ],
 "metadata": {
  "kernelspec": {
   "display_name": "Python 3",
   "language": "python",
   "name": "python3"
  },
  "language_info": {
   "codemirror_mode": {
    "name": "ipython",
    "version": 2
   },
   "file_extension": ".py",
   "mimetype": "text/x-python",
   "name": "python",
   "nbconvert_exporter": "python",
   "pygments_lexer": "ipython2",
   "version": "2.7.6"
  }
 },
 "nbformat": 4,
 "nbformat_minor": 0
}